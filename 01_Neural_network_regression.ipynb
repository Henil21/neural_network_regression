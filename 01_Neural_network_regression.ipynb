{
  "nbformat": 4,
  "nbformat_minor": 0,
  "metadata": {
    "colab": {
      "name": "01_Neural-network-regression",
      "provenance": [],
      "collapsed_sections": [
        "ifHWtQwJwe7f",
        "FhrovOsl3Lk1",
        "hftaSLlFwBAz"
      ],
      "authorship_tag": "ABX9TyP0d/sT/mc5VetmOj6MmHfl",
      "include_colab_link": true
    },
    "kernelspec": {
      "name": "python3",
      "display_name": "Python 3"
    },
    "language_info": {
      "name": "python"
    }
  },
  "cells": [
    {
      "cell_type": "markdown",
      "metadata": {
        "id": "view-in-github",
        "colab_type": "text"
      },
      "source": [
        "<a href=\"https://colab.research.google.com/github/Henil21/neural_network_regression/blob/main/01_Neural_network_regression.ipynb\" target=\"_parent\"><img src=\"https://colab.research.google.com/assets/colab-badge.svg\" alt=\"Open In Colab\"/></a>"
      ]
    },
    {
      "cell_type": "markdown",
      "source": [
        "# **Intro To Neural Network Regression 🎯**\n",
        "predicting output based on some other combination of variable: ◀"
      ],
      "metadata": {
        "id": "tq822BALJ9yh"
      }
    },
    {
      "cell_type": "code",
      "execution_count": 1,
      "metadata": {
        "id": "D-bSAinGJ4vj",
        "colab": {
          "base_uri": "https://localhost:8080/"
        },
        "outputId": "28945b36-0bcc-4a35-a956-98e8b97cfb0a"
      },
      "outputs": [
        {
          "output_type": "stream",
          "name": "stdout",
          "text": [
            "2.8.2\n"
          ]
        }
      ],
      "source": [
        "import tensorflow as tf\n",
        "print(tf.__version__)"
      ]
    },
    {
      "cell_type": "markdown",
      "source": [
        "# **Creating data to view and fit 🦊**"
      ],
      "metadata": {
        "id": "aXqMA3cs5b_9"
      }
    },
    {
      "cell_type": "code",
      "source": [
        "import numpy as np\n",
        "import matplotlib.pyplot as plt\n",
        "# creating features\n",
        "x = np.array([-7.0,-4.0,-1.0,2.0,5.0,8.0,11.0,14.0])\n",
        "# creating lables\n",
        "y= np.array([3.0,6.0,9.0,12.0,15.0,18.0,21.0,24.0])\n",
        "# visualize it\n",
        "plt.scatter(x,y)"
      ],
      "metadata": {
        "id": "0e2hsCjY5bmO",
        "colab": {
          "base_uri": "https://localhost:8080/",
          "height": 287
        },
        "outputId": "8a18c153-f4fc-4822-d84e-599b97684e66"
      },
      "execution_count": 2,
      "outputs": [
        {
          "output_type": "execute_result",
          "data": {
            "text/plain": [
              "<matplotlib.collections.PathCollection at 0x7f17c45dfa10>"
            ]
          },
          "metadata": {},
          "execution_count": 2
        },
        {
          "output_type": "display_data",
          "data": {
            "text/plain": [
              "<Figure size 432x288 with 1 Axes>"
            ],
            "image/png": "[encoded data removed]"
          },
          "metadata": {
            "needs_background": "light"
          }
        }
      ]
    },
    {
      "cell_type": "code",
      "source": [
        "y==x+10"
      ],
      "metadata": {
        "id": "EN979hww7Gyj",
        "colab": {
          "base_uri": "https://localhost:8080/"
        },
        "outputId": "5c06082d-80f2-4ace-beec-bfecb69816ce"
      },
      "execution_count": 3,
      "outputs": [
        {
          "output_type": "execute_result",
          "data": {
            "text/plain": [
              "array([ True,  True,  True,  True,  True,  True,  True,  True])"
            ]
          },
          "metadata": {},
          "execution_count": 3
        }
      ]
    },
    {
      "cell_type": "markdown",
      "source": [
        "# **Input & Output shapes**"
      ],
      "metadata": {
        "id": "SJE-Ew2e7baJ"
      }
    },
    {
      "cell_type": "code",
      "source": [
        "# create a demo tensor for our housing prediction problem\n",
        "# x[0],y[0]\n",
        "house_info=tf.constant([\"bedroom\",\"garage\",\"bathroom\"])\n",
        "house_price=tf.constant([939700])\n",
        "house_info,house_price"
      ],
      "metadata": {
        "id": "S6mU-1Ou7bIU",
        "colab": {
          "base_uri": "https://localhost:8080/"
        },
        "outputId": "b232a409-4b9b-45bc-ef67-81e7f9b72a11"
      },
      "execution_count": 4,
      "outputs": [
        {
          "output_type": "execute_result",
          "data": {
            "text/plain": [
              "(<tf.Tensor: shape=(3,), dtype=string, numpy=array([b'bedroom', b'garage', b'bathroom'], dtype=object)>,\n",
              " <tf.Tensor: shape=(1,), dtype=int32, numpy=array([939700], dtype=int32)>)"
            ]
          },
          "metadata": {},
          "execution_count": 4
        }
      ]
    },
    {
      "cell_type": "code",
      "source": [
        "# Turning numpy array in tensor\n",
        "X=tf.constant(x,dtype=tf.float32)\n",
        "Y=tf.constant(y,dtype=tf.float32)\n",
        "X,Y"
      ],
      "metadata": {
        "id": "cSn2_FspU0fh",
        "colab": {
          "base_uri": "https://localhost:8080/"
        },
        "outputId": "caad9cf1-efe9-4335-ec75-c520a1dce3e3"
      },
      "execution_count": 5,
      "outputs": [
        {
          "output_type": "execute_result",
          "data": {
            "text/plain": [
              "(<tf.Tensor: shape=(8,), dtype=float32, numpy=array([-7., -4., -1.,  2.,  5.,  8., 11., 14.], dtype=float32)>,\n",
              " <tf.Tensor: shape=(8,), dtype=float32, numpy=array([ 3.,  6.,  9., 12., 15., 18., 21., 24.], dtype=float32)>)"
            ]
          },
          "metadata": {},
          "execution_count": 5
        }
      ]
    },
    {
      "cell_type": "markdown",
      "source": [
        "# **modelling with Tensorflow** 📊\n",
        "\n",
        "1.  **creating a model** defining the input and output layer as well as hidden layer\n",
        "2.   **compiling a model**-defining the loss function and optmizer and evaluation matrix(what we can use to interpret the performance of our model)\n",
        "3.   **Fitting a model**- letting the model try to find pattern between x & y or (feature and label)\n",
        "\n"
      ],
      "metadata": {
        "id": "PDMXxjM8VT_D"
      }
    },
    {
      "cell_type": "code",
      "source": [
        "tf.random.set_seed(42)\n",
        "\n",
        "# Create a model using the Sequential API\n",
        "model = tf.keras.Sequential([\n",
        "  tf.keras.layers.Dense(1) # layer one with 1 neuron\n",
        "])\n",
        "\n",
        "# Compile the model\n",
        "model.compile(loss=tf.keras.losses.mae, # mae is short for mean absolute error\n",
        "              optimizer=tf.keras.optimizers.SGD(), # SGD is short for stochastic gradient descent\n",
        "              metrics=[\"mae\"])\n",
        "\n",
        "# Fit the model\n",
        "# model.fit(X, y, epochs=5) # this will break with TensorFlow 2.7.0+\n",
        "model.fit(tf.expand_dims(X, axis=-1), y, epochs=5)"
      ],
      "metadata": {
        "id": "paMj9FJjXQK2",
        "colab": {
          "base_uri": "https://localhost:8080/"
        },
        "outputId": "da9325ad-be31-4138-8bd2-4ec2a0cec5cc"
      },
      "execution_count": 6,
      "outputs": [
        {
          "output_type": "stream",
          "name": "stdout",
          "text": [
            "Epoch 1/5\n",
            "1/1 [==============================] - 1s 623ms/step - loss: 11.5048 - mae: 11.5048\n",
            "Epoch 2/5\n",
            "1/1 [==============================] - 0s 10ms/step - loss: 11.3723 - mae: 11.3723\n",
            "Epoch 3/5\n",
            "1/1 [==============================] - 0s 7ms/step - loss: 11.2398 - mae: 11.2398\n",
            "Epoch 4/5\n",
            "1/1 [==============================] - 0s 7ms/step - loss: 11.1073 - mae: 11.1073\n",
            "Epoch 5/5\n",
            "1/1 [==============================] - 0s 9ms/step - loss: 10.9748 - mae: 10.9748\n"
          ]
        },
        {
          "output_type": "execute_result",
          "data": {
            "text/plain": [
              "<keras.callbacks.History at 0x7f17c03b89d0>"
            ]
          },
          "metadata": {},
          "execution_count": 6
        }
      ]
    },
    {
      "cell_type": "code",
      "source": [
        "model.predict([17.0])\n",
        "# not acurate"
      ],
      "metadata": {
        "id": "0YUOCsRVot5a",
        "colab": {
          "base_uri": "https://localhost:8080/"
        },
        "outputId": "f2ff9c9c-24c3-4348-e8ec-6fe75a865513"
      },
      "execution_count": 7,
      "outputs": [
        {
          "output_type": "execute_result",
          "data": {
            "text/plain": [
              "array([[12.716021]], dtype=float32)"
            ]
          },
          "metadata": {},
          "execution_count": 7
        }
      ]
    },
    {
      "cell_type": "markdown",
      "source": [
        "# **Improving our model 🪶**\n",
        " we can improve our model by altering the steps we took to create a model.\n",
        "1.   **Creating a model**- we might add more layers ,increase the number of hidden units (all called neurons) within each of the hideen layer , can change the cactivation function of each layer\n",
        "2.  **COMPILING A MODEL**- we might change the optimixagion function or the **learning rate** of the optimization function.\n",
        "3. **fitting a model**- we might fit a model for more **epochs** (leave it for longer) or on more data (give the model more example to learn from).\n",
        "\n",
        "\n"
      ],
      "metadata": {
        "id": "fg46wIzLFQ--"
      }
    },
    {
      "cell_type": "code",
      "source": [
        "# creating a model\n",
        "model=tf.keras.Sequential([\n",
        "                  tf.keras.layers.Dense(100, activation=\"relu\"),   \n",
        "                  tf.keras.layers.Dense(100, activation=\"relu\"),                         \n",
        "                  tf.keras.layers.Dense(100, activation=\"relu\"),              \n",
        "                            \n",
        "                  tf.keras.layers.Dense(1)\n",
        "])\n",
        "# Compile the model\n",
        "model.compile(loss=tf.keras.losses.mae,\n",
        "              optimizer=tf.keras.optimizers.Adam(lr=0.001),\n",
        "              metrics=[\"mae\"])\n",
        "# fit the model\n",
        "model.fit(tf.expand_dims(X, axis=-1), y, epochs=500,verbose=0)"
      ],
      "metadata": {
        "id": "0VEuaWPTWorF",
        "colab": {
          "base_uri": "https://localhost:8080/"
        },
        "outputId": "1d1e7277-74ff-41a8-8814-0007e557726e"
      },
      "execution_count": 8,
      "outputs": [
        {
          "output_type": "stream",
          "name": "stderr",
          "text": [
            "/usr/local/lib/python3.7/dist-packages/keras/optimizer_v2/adam.py:105: UserWarning: The `lr` argument is deprecated, use `learning_rate` instead.\n",
            "  super(Adam, self).__init__(name, **kwargs)\n"
          ]
        },
        {
          "output_type": "execute_result",
          "data": {
            "text/plain": [
              "<keras.callbacks.History at 0x7f17c0298c50>"
            ]
          },
          "metadata": {},
          "execution_count": 8
        }
      ]
    },
    {
      "cell_type": "code",
      "source": [
        "model.predict([17.0])"
      ],
      "metadata": {
        "id": "XBDo36TZY1AR",
        "colab": {
          "base_uri": "https://localhost:8080/"
        },
        "outputId": "a7cc363f-b0f6-44b2-da0b-d6d1f8f9892e"
      },
      "execution_count": 9,
      "outputs": [
        {
          "output_type": "execute_result",
          "data": {
            "text/plain": [
              "array([[26.755497]], dtype=float32)"
            ]
          },
          "metadata": {},
          "execution_count": 9
        }
      ]
    },
    {
      "cell_type": "markdown",
      "source": [
        "# **Evaluting a model 🦾** \n",
        "A typical workflow when you build a  neural network model \n",
        "**Build a model -> fit it -> evaluate it -> tweak a model -> Fit it -> evaluate it -> tweak it**\n",
        "\n",
        "when it come to evaluation there are only three world one should memorise and that is ***Visualize Visualize Visualize 🧠***\n",
        "\n",
        "It's a good idea to visualize:\n",
        "\n",
        "* The data - what data are we working with? What does it look\n",
        "like?\n",
        "\n",
        "* The model itself - what does our model look like?\n",
        "* The training of a model - how does a model perform while it\n",
        "learns?\n",
        "* The predictions of the modle - how do the predictions of a model line up against the ground truth (the original labels) \n"
      ],
      "metadata": {
        "id": "6Y7MQwBXcMTb"
      }
    },
    {
      "cell_type": "code",
      "source": [
        "x=tf.range(-100,100,4)\n",
        "y=x+10\n",
        "x,y\n"
      ],
      "metadata": {
        "id": "PN_em5Z7dKOx",
        "colab": {
          "base_uri": "https://localhost:8080/"
        },
        "outputId": "da037695-b6e9-4320-f6e5-7cdddf75439c"
      },
      "execution_count": 67,
      "outputs": [
        {
          "data": {
            "text/plain": [
              "(<tf.Tensor: shape=(50,), dtype=int32, numpy=\n",
              " array([-100,  -96,  -92,  -88,  -84,  -80,  -76,  -72,  -68,  -64,  -60,\n",
              "         -56,  -52,  -48,  -44,  -40,  -36,  -32,  -28,  -24,  -20,  -16,\n",
              "         -12,   -8,   -4,    0,    4,    8,   12,   16,   20,   24,   28,\n",
              "          32,   36,   40,   44,   48,   52,   56,   60,   64,   68,   72,\n",
              "          76,   80,   84,   88,   92,   96], dtype=int32)>,\n",
              " <tf.Tensor: shape=(50,), dtype=int32, numpy=\n",
              " array([-90, -86, -82, -78, -74, -70, -66, -62, -58, -54, -50, -46, -42,\n",
              "        -38, -34, -30, -26, -22, -18, -14, -10,  -6,  -2,   2,   6,  10,\n",
              "         14,  18,  22,  26,  30,  34,  38,  42,  46,  50,  54,  58,  62,\n",
              "         66,  70,  74,  78,  82,  86,  90,  94,  98, 102, 106], dtype=int32)>)"
            ]
          },
          "execution_count": 67,
          "metadata": {},
          "output_type": "execute_result"
        }
      ]
    },
    {
      "cell_type": "code",
      "source": [
        "import matplotlib.pyplot as plt\n",
        "plt.scatter(x,y)"
      ],
      "metadata": {
        "id": "KnVu_mMXcv6k",
        "colab": {
          "base_uri": "https://localhost:8080/",
          "height": 283
        },
        "outputId": "81792a9d-dc04-4d23-b49f-c4dbb01baae2"
      },
      "execution_count": 68,
      "outputs": [
        {
          "data": {
            "text/plain": [
              "<matplotlib.collections.PathCollection at 0x7f17bb81b750>"
            ]
          },
          "execution_count": 68,
          "metadata": {},
          "output_type": "execute_result"
        },
        {
          "data": {
            "image/png": "[encoded data removed]",
            "text/plain": [
              "<Figure size 432x288 with 1 Axes>"
            ]
          },
          "metadata": {},
          "output_type": "display_data"
        }
      ]
    },
    {
      "cell_type": "markdown",
      "source": [
        "# **Three sets** 3\n",
        "* **training set**- model learn from this data 70-80% of total data available.\n",
        "* **Validation set**- model get tuned on this data set 10-15% data available.\n",
        "* **Test set**- model get evaluated on this set to test what it has learned."
      ],
      "metadata": {
        "id": "SssK4ZxHgmzQ"
      }
    },
    {
      "cell_type": "code",
      "source": [
        "# spliting data into train and test set\n",
        "x_train=x[:40]\n",
        "y_train=y[:40]\n",
        "x_test=x[40:]\n",
        "y_test=y[40:]\n",
        "x_test"
      ],
      "metadata": {
        "id": "sn1LJpoQmY3n",
        "colab": {
          "base_uri": "https://localhost:8080/"
        },
        "outputId": "0376a99e-9047-4a49-a4d7-78d3afc4f351"
      },
      "execution_count": 12,
      "outputs": [
        {
          "output_type": "execute_result",
          "data": {
            "text/plain": [
              "<tf.Tensor: shape=(10,), dtype=int32, numpy=array([60, 64, 68, 72, 76, 80, 84, 88, 92, 96], dtype=int32)>"
            ]
          },
          "metadata": {},
          "execution_count": 12
        }
      ]
    },
    {
      "cell_type": "code",
      "source": [
        "plt.figure(figsize=(10,7))\n",
        "plt.scatter(x_train,y_train,c=\"b\",label=\"training set\")\n",
        "plt.scatter(x_test,y_test,c=\"r\",label=\"testing set\")\n",
        "plt.legend()\n"
      ],
      "metadata": {
        "id": "jianazNHmbTJ",
        "colab": {
          "base_uri": "https://localhost:8080/",
          "height": 446
        },
        "outputId": "406500cc-bc88-4b10-98d3-7deb5a1f1c4e"
      },
      "execution_count": 13,
      "outputs": [
        {
          "output_type": "execute_result",
          "data": {
            "text/plain": [
              "<matplotlib.legend.Legend at 0x7f17bfb9abd0>"
            ]
          },
          "metadata": {},
          "execution_count": 13
        },
        {
          "output_type": "display_data",
          "data": {
            "text/plain": [
              "<Figure size 720x504 with 1 Axes>"
            ],
            "image/png": "[encoded data removed]"
          },
          "metadata": {
            "needs_background": "light"
          }
        }
      ]
    },
    {
      "cell_type": "markdown",
      "source": [
        "# **Lets create neural network for this 🛩"
      ],
      "metadata": {
        "id": "NGyPaO_NncBz"
      }
    },
    {
      "cell_type": "code",
      "source": [
        "model=tf.keras.Sequential([\n",
        "              tf.keras.layers.Dense(10,name=\"layer__1\")\n",
        "])\n",
        "model.compile(loss=\"mae\",\n",
        "              optimizer=tf.keras.optimizers.SGD(),\n",
        "              metrics=[\"mae\"])\n",
        "# model.fit(x_train,y_train,epochs=100)\n",
        "model.fit(tf.expand_dims(x_train, axis=-1), y_train, epochs=100, verbose=0)\n"
      ],
      "metadata": {
        "id": "o_c14hQTnblw",
        "colab": {
          "base_uri": "https://localhost:8080/"
        },
        "outputId": "2b3b7aac-5241-41fa-e6e3-53415b044fd8"
      },
      "execution_count": 14,
      "outputs": [
        {
          "output_type": "execute_result",
          "data": {
            "text/plain": [
              "<keras.callbacks.History at 0x7f17bfb5dcd0>"
            ]
          },
          "metadata": {},
          "execution_count": 14
        }
      ]
    },
    {
      "cell_type": "code",
      "source": [
        "model.predict([100])"
      ],
      "metadata": {
        "id": "6g9pGM-3rGoE",
        "colab": {
          "base_uri": "https://localhost:8080/"
        },
        "outputId": "c856c835-9939-47a6-8e6e-e78e4ec89b79"
      },
      "execution_count": 15,
      "outputs": [
        {
          "output_type": "execute_result",
          "data": {
            "text/plain": [
              "array([[89.93192 , 89.85783 , 89.877045, 89.932365, 89.91528 , 89.9103  ,\n",
              "        89.866165, 89.88764 , 89.88527 , 89.91023 ]], dtype=float32)"
            ]
          },
          "metadata": {},
          "execution_count": 15
        }
      ]
    },
    {
      "cell_type": "code",
      "source": [
        "model.fit(tf.expand_dims(x_train, axis=-1), y_train, epochs=100, verbose=0)\n",
        "\n",
        "model.summary()\n"
      ],
      "metadata": {
        "id": "DGydn3KBrglX",
        "colab": {
          "base_uri": "https://localhost:8080/"
        },
        "outputId": "a727deb2-ae02-451c-92af-081fa73f7438"
      },
      "execution_count": 16,
      "outputs": [
        {
          "output_type": "stream",
          "name": "stdout",
          "text": [
            "Model: \"sequential_2\"\n",
            "_________________________________________________________________\n",
            " Layer (type)                Output Shape              Param #   \n",
            "=================================================================\n",
            " layer__1 (Dense)            (None, 10)                20        \n",
            "                                                                 \n",
            "=================================================================\n",
            "Total params: 20\n",
            "Trainable params: 20\n",
            "Non-trainable params: 0\n",
            "_________________________________________________________________\n"
          ]
        }
      ]
    },
    {
      "cell_type": "code",
      "source": [
        "# model.build()"
      ],
      "metadata": {
        "id": "SWvTZcKpr7es"
      },
      "execution_count": 17,
      "outputs": []
    },
    {
      "cell_type": "code",
      "source": [
        "# model=tf.keras.Sequential([\n",
        "#               tf.keras.layers.Dense(1,name=\"layer__1\")\n",
        "# ])\n",
        "# model.compile(loss=tf.keras.losses.mae,\n",
        "#               optimizer=tf.keras.optimizers.SGD(),\n",
        "#               metrics=[\"mae\"])\n",
        "# # model.fit(x_train,y_train,epochs=100)\n",
        "# model.fit(tf.expand_dims(x_train, axis=-1), y_train, epochs=100, verbose=0)\n",
        "# ------------------------------------------------------------------------------------------------------------------------------------------------\n",
        "tf.random.set_seed(42)\n",
        "\n",
        "# Create a model (same as above)\n",
        "model = tf.keras.Sequential([\n",
        "  tf.keras.layers.Dense(1, input_shape=[1]),\n",
        "  tf.keras.layers.Dense(12),\n",
        "  tf.keras.layers.Dense(1) # define the input_shape to our model\n",
        "   # define the input_shape to our model\n",
        "   # define the input_shape to our model\n",
        "])\n",
        "\n",
        "# Compile model (same as above)\n",
        "model.compile(loss=tf.keras.losses.mae,\n",
        "              optimizer=tf.keras.optimizers.Adam(lr=0.01),\n",
        "              metrics=[\"mae\"])\n",
        "model.fit(tf.expand_dims(x_train, axis=-1), y_train, epochs=100, verbose=0)\n"
      ],
      "metadata": {
        "id": "BeMh7G_Etfir",
        "colab": {
          "base_uri": "https://localhost:8080/"
        },
        "outputId": "c9292a24-0be2-495f-9ac6-7271611e324f"
      },
      "execution_count": 18,
      "outputs": [
        {
          "output_type": "execute_result",
          "data": {
            "text/plain": [
              "<keras.callbacks.History at 0x7f17bfa614d0>"
            ]
          },
          "metadata": {},
          "execution_count": 18
        }
      ]
    },
    {
      "cell_type": "code",
      "source": [
        "\n",
        "# model.summary()\n",
        "# # cntrl+shifr+enter"
      ],
      "metadata": {
        "id": "jIuzMZ6ouj_b"
      },
      "execution_count": 19,
      "outputs": []
    },
    {
      "cell_type": "markdown",
      "source": [
        "* **Total params - total number of parameters in the model.**\n",
        "\n",
        "* **Trainable parameters - these are the parameters (patterns) the model can update as it trains.**\n",
        "* **Non-trainable parameters - these parameters aren't updated during training (this is typical when you bring in the already learned patterns from other models during transfer learning).**\n",
        "\n",
        "📖 **Resource**: For a more in-depth overview of the trainable parameters within a layer, check out MIT's introduction to deep learning video.\n",
        "\n",
        "🛠 **Exercise**: Try playing around with the number of hidden units in the Dense layer (e.g. Dense(2), Dense(3)). How does this change the Total/Trainable params? Investigate what's causing the change."
      ],
      "metadata": {
        "id": "k4MgmTUyjVmM"
      }
    },
    {
      "cell_type": "code",
      "source": [
        "from tensorflow.keras.utils import plot_model\n",
        "plot_model(model=model ,show_shapes=True)"
      ],
      "metadata": {
        "id": "rE7IF2lVxb2U",
        "colab": {
          "base_uri": "https://localhost:8080/",
          "height": 422
        },
        "outputId": "445c4544-a098-4da7-a918-65b5c03e1de7"
      },
      "execution_count": 20,
      "outputs": [
        {
          "output_type": "execute_result",
          "data": {
            "image/png": "[encoded data removed]",
            "text/plain": [
              "<IPython.core.display.Image object>"
            ]
          },
          "metadata": {},
          "execution_count": 20
        }
      ]
    },
    {
      "cell_type": "markdown",
      "source": [
        "# **Visualizing the predictions 🌱**\n",
        "\n",
        "\n",
        "* Now we've got a trained model, let's visualize some predictions.\n",
        "\n",
        "* To visualize predictions, it's always a good idea to plot them against the ground truth labels.\n",
        "\n",
        "* Often you'll see this in the form of y_test vs. y_pred (ground truth vs. predictions).\n",
        "\n",
        "* First, we'll make some predictions on the test data (X_test), remember the model has never seen the test data."
      ],
      "metadata": {
        "id": "5l2GgfjPrgom"
      }
    },
    {
      "cell_type": "code",
      "source": [
        "# Makeing some prediction\n",
        "y_pred=model.predict(x_test)\n",
        "# print(\"xtest\",x_test)\n",
        "y_pred"
      ],
      "metadata": {
        "id": "UhDm5Zcwl-M5",
        "colab": {
          "base_uri": "https://localhost:8080/"
        },
        "outputId": "5463db34-afb9-4e72-b542-8a18610d3717"
      },
      "execution_count": 21,
      "outputs": [
        {
          "output_type": "execute_result",
          "data": {
            "text/plain": [
              "array([[ 69.13807 ],\n",
              "       [ 73.08702 ],\n",
              "       [ 77.035965],\n",
              "       [ 80.984924],\n",
              "       [ 84.93388 ],\n",
              "       [ 88.88283 ],\n",
              "       [ 92.831795],\n",
              "       [ 96.78074 ],\n",
              "       [100.72969 ],\n",
              "       [104.67865 ]], dtype=float32)"
            ]
          },
          "metadata": {},
          "execution_count": 21
        }
      ]
    },
    {
      "cell_type": "code",
      "source": [
        "y_test"
      ],
      "metadata": {
        "colab": {
          "base_uri": "https://localhost:8080/"
        },
        "id": "4f-2QZjIpjw4",
        "outputId": "a1c4ed5a-d5ce-49de-e281-28869606286c"
      },
      "execution_count": 22,
      "outputs": [
        {
          "output_type": "execute_result",
          "data": {
            "text/plain": [
              "<tf.Tensor: shape=(10,), dtype=int32, numpy=array([ 70,  74,  78,  82,  86,  90,  94,  98, 102, 106], dtype=int32)>"
            ]
          },
          "metadata": {},
          "execution_count": 22
        }
      ]
    },
    {
      "cell_type": "markdown",
      "source": [
        "🔑 **Note :**  If you think you're going to be visualizing something a lot, it's a good idea to functionize it so you can use it later."
      ],
      "metadata": {
        "id": "C_acJUhJr_Qk"
      }
    },
    {
      "cell_type": "code",
      "source": [
        "def plot_predictions(\n",
        "                 train_data=x_train,\n",
        "                 train_labels=y_train,\n",
        "                 test_data=x_test,\n",
        "                 test_labels=y_test,\n",
        "                 predictions=y_pred):\n",
        " plt.figure(figsize=(10,7))\n",
        " plt.scatter(train_data,train_labels,c=\"b\",label=\"training data\")\n",
        " plt.scatter(test_data,test_labels,c=\"g\",label=\"tetsing data\")\n",
        " plt.scatter(test_data, predictions, c=\"r\", label=\"Predictions\")\n",
        " plt.legend();\n",
        "plot_predictions()"
      ],
      "metadata": {
        "colab": {
          "base_uri": "https://localhost:8080/",
          "height": 428
        },
        "id": "xpiM7e3YsGwy",
        "outputId": "b880af18-5c63-4e2e-f841-a4b550bb1837"
      },
      "execution_count": 23,
      "outputs": [
        {
          "output_type": "display_data",
          "data": {
            "text/plain": [
              "<Figure size 720x504 with 1 Axes>"
            ],
            "image/png": "[encoded data removed]"
          },
          "metadata": {
            "needs_background": "light"
          }
        }
      ]
    },
    {
      "cell_type": "markdown",
      "source": [
        "# **Evaluating model with regression metrics ⛳**\n",
        "\n",
        "* Alongisde visualizations, evaulation metrics are your alternative best option for evaluating your model.\n",
        "\n",
        "* Depending on the problem you're working on, different models have different evaluation metrics.\n",
        "\n",
        "* Two of the main metrics used for regression problems are:\n",
        "\n",
        "* **Mean absolute error (MAE)**- the mean difference between each of the predictions.\n",
        "* **Mean squared error (MSE)** - the squared mean difference between of the \n",
        "* predictions (use if larger errors are more detrimental than smaller errors).\n",
        "The lower each of these values, the better.\n",
        "\n",
        "* You can also use ***model.evaluate()*** which will return the loss of the model as well as any metrics setup during the compile step"
      ],
      "metadata": {
        "id": "ifHWtQwJwe7f"
      }
    },
    {
      "cell_type": "code",
      "source": [
        "# evaluate the model at train set\n",
        "model.evaluate(x_test,y_test)"
      ],
      "metadata": {
        "colab": {
          "base_uri": "https://localhost:8080/"
        },
        "id": "hTmfoRcQ0nkk",
        "outputId": "7cc6142e-f2a1-4dac-b220-1767f2e7583f"
      },
      "execution_count": 24,
      "outputs": [
        {
          "output_type": "stream",
          "name": "stdout",
          "text": [
            "1/1 [==============================] - 0s 339ms/step - loss: 1.0916 - mae: 1.0916\n"
          ]
        },
        {
          "output_type": "execute_result",
          "data": {
            "text/plain": [
              "[1.0916411876678467, 1.0916411876678467]"
            ]
          },
          "metadata": {},
          "execution_count": 24
        }
      ]
    },
    {
      "cell_type": "code",
      "source": [
        "# calculate the mean absolute error (mae)\n",
        "tf.metrics.mean_absolute_error(y_test,y_pred)"
      ],
      "metadata": {
        "colab": {
          "base_uri": "https://localhost:8080/"
        },
        "id": "C66F12XP1Isc",
        "outputId": "89848225-3b22-49b6-80c1-970e00bc167d"
      },
      "execution_count": 25,
      "outputs": [
        {
          "output_type": "execute_result",
          "data": {
            "text/plain": [
              "<tf.Tensor: shape=(10,), dtype=float32, numpy=\n",
              "array([18.86193 , 15.530383, 12.978421, 11.20603 , 10.213223, 10.      ,\n",
              "       10.566359, 11.912295, 14.037814, 16.94292 ], dtype=float32)>"
            ]
          },
          "metadata": {},
          "execution_count": 25
        }
      ]
    },
    {
      "cell_type": "code",
      "source": [
        "tf.constant(y_pred)"
      ],
      "metadata": {
        "colab": {
          "base_uri": "https://localhost:8080/"
        },
        "id": "cRNCuzVY2wHb",
        "outputId": "881be192-abab-4837-c836-088f1f6529d3"
      },
      "execution_count": 26,
      "outputs": [
        {
          "output_type": "execute_result",
          "data": {
            "text/plain": [
              "<tf.Tensor: shape=(10, 1), dtype=float32, numpy=\n",
              "array([[ 69.13807 ],\n",
              "       [ 73.08702 ],\n",
              "       [ 77.035965],\n",
              "       [ 80.984924],\n",
              "       [ 84.93388 ],\n",
              "       [ 88.88283 ],\n",
              "       [ 92.831795],\n",
              "       [ 96.78074 ],\n",
              "       [100.72969 ],\n",
              "       [104.67865 ]], dtype=float32)>"
            ]
          },
          "metadata": {},
          "execution_count": 26
        }
      ]
    },
    {
      "cell_type": "code",
      "source": [
        "y_test-y_pred\n"
      ],
      "metadata": {
        "colab": {
          "base_uri": "https://localhost:8080/"
        },
        "id": "Vo1j8OtI2ZGJ",
        "outputId": "1e2a6b2f-f722-4139-e6f3-b8b028c1e312"
      },
      "execution_count": 27,
      "outputs": [
        {
          "output_type": "execute_result",
          "data": {
            "text/plain": [
              "<tf.Tensor: shape=(10, 10), dtype=int32, numpy=\n",
              "array([[  1,   5,   9,  13,  17,  21,  25,  29,  33,  37],\n",
              "       [ -3,   1,   5,   9,  13,  17,  21,  25,  29,  33],\n",
              "       [ -7,  -3,   1,   5,   9,  13,  17,  21,  25,  29],\n",
              "       [-10,  -6,  -2,   2,   6,  10,  14,  18,  22,  26],\n",
              "       [-14, -10,  -6,  -2,   2,   6,  10,  14,  18,  22],\n",
              "       [-18, -14, -10,  -6,  -2,   2,   6,  10,  14,  18],\n",
              "       [-22, -18, -14, -10,  -6,  -2,   2,   6,  10,  14],\n",
              "       [-26, -22, -18, -14, -10,  -6,  -2,   2,   6,  10],\n",
              "       [-30, -26, -22, -18, -14, -10,  -6,  -2,   2,   6],\n",
              "       [-34, -30, -26, -22, -18, -14, -10,  -6,  -2,   2]], dtype=int32)>"
            ]
          },
          "metadata": {},
          "execution_count": 27
        }
      ]
    },
    {
      "cell_type": "markdown",
      "source": [
        "#  **🛠 to compare two tensor it must be in same shape**"
      ],
      "metadata": {
        "id": "FhrovOsl3Lk1"
      }
    },
    {
      "cell_type": "code",
      "source": [
        "# Removes dimensions of size 1 from the shape of a tensor.\n",
        "#  Given a tensor input, this operation returns a tensor of the same type with\n",
        "# all dimensions of size 1 removed. If you don't want to remove all size 1\n",
        "# dimensions, you can remove specific size 1 dimensions by specifying\n",
        "tf.squeeze(y_pred)\n"
      ],
      "metadata": {
        "colab": {
          "base_uri": "https://localhost:8080/"
        },
        "id": "YY1iqlFS4Gfv",
        "outputId": "b9e11dc7-b1b2-4d41-c36d-24df3a143143"
      },
      "execution_count": 28,
      "outputs": [
        {
          "output_type": "execute_result",
          "data": {
            "text/plain": [
              "<tf.Tensor: shape=(10,), dtype=float32, numpy=\n",
              "array([ 69.13807 ,  73.08702 ,  77.035965,  80.984924,  84.93388 ,\n",
              "        88.88283 ,  92.831795,  96.78074 , 100.72969 , 104.67865 ],\n",
              "      dtype=float32)>"
            ]
          },
          "metadata": {},
          "execution_count": 28
        }
      ]
    },
    {
      "cell_type": "code",
      "source": [
        "# calculate the mean absolute error (mae)\n",
        "tf.metrics.mean_absolute_error(y_test,tf.squeeze(y_pred))"
      ],
      "metadata": {
        "colab": {
          "base_uri": "https://localhost:8080/"
        },
        "id": "0W2uNE9I4u6k",
        "outputId": "2091876d-8003-4249-9142-b62daacdd385"
      },
      "execution_count": 29,
      "outputs": [
        {
          "output_type": "execute_result",
          "data": {
            "text/plain": [
              "<tf.Tensor: shape=(), dtype=float32, numpy=1.0916436>"
            ]
          },
          "metadata": {},
          "execution_count": 29
        }
      ]
    },
    {
      "cell_type": "code",
      "source": [
        "# calculatr the mean square error(mse)\n",
        "tf.metrics.mean_squared_error(y_test,tf.squeeze(y_pred))\n"
      ],
      "metadata": {
        "colab": {
          "base_uri": "https://localhost:8080/"
        },
        "id": "DaLzjP4N5EjF",
        "outputId": "c168428c-dc7f-4797-8c2c-82a81a6d3327"
      },
      "execution_count": 30,
      "outputs": [
        {
          "output_type": "execute_result",
          "data": {
            "text/plain": [
              "<tf.Tensor: shape=(), dtype=float32, numpy=1.2131828>"
            ]
          },
          "metadata": {},
          "execution_count": 30
        }
      ]
    },
    {
      "cell_type": "markdown",
      "source": [
        "# **running experiments to improve our model ✨**\n",
        "\n",
        "After seeing the evaluation metrics and the predictions your model makes, it's likely you'll want to improve it.\n",
        "\n",
        "Again, there are many different ways you can do this, but 3 of the main ones are:\n",
        "\n",
        "* **Get more data** - get more examples for your model to train on (more opportunities to learn patterns).\n",
        "* **Make your model larger**(use a more complex model) - this might come in the form of more layers or more hidden units in each layer.\n",
        "* **Train for longer** - give your model more of a chance to find the patterns in the data."
      ],
      "metadata": {
        "id": "hftaSLlFwBAz"
      }
    },
    {
      "cell_type": "code",
      "source": [
        "x_test"
      ],
      "metadata": {
        "colab": {
          "base_uri": "https://localhost:8080/"
        },
        "id": "5vucwuKPyIXC",
        "outputId": "5061ca36-1503-4827-8e52-d65c359312e4"
      },
      "execution_count": 31,
      "outputs": [
        {
          "output_type": "execute_result",
          "data": {
            "text/plain": [
              "<tf.Tensor: shape=(10,), dtype=int32, numpy=array([60, 64, 68, 72, 76, 80, 84, 88, 92, 96], dtype=int32)>"
            ]
          },
          "metadata": {},
          "execution_count": 31
        }
      ]
    },
    {
      "cell_type": "code",
      "source": [
        "def mae(y_test, y_pred):\n",
        "  \"\"\"\n",
        "  Calculuates mean absolute error between y_test and y_preds.\n",
        "  \"\"\"\n",
        "  return tf.metrics.mean_absolute_error(y_test,\n",
        "                                        y_pred)\n",
        "  \n",
        "def mse(y_test, y_pred):\n",
        "  \"\"\"\n",
        "  Calculates mean squared error between y_test and y_preds.\n",
        "  \"\"\"\n",
        "  return tf.metrics.mean_squared_error(y_test,y_pred)"
      ],
      "metadata": {
        "id": "BBO6LtxZGDKu"
      },
      "execution_count": 32,
      "outputs": []
    },
    {
      "cell_type": "code",
      "source": [
        "tf.random.set_seed(42)\n",
        "\n",
        "# Replicate original model\n",
        "model_1 = tf.keras.Sequential([\n",
        "  tf.keras.layers.Dense(100),\n",
        "  tf.keras.layers.Dense(1)\n",
        "\n",
        "])\n",
        "\n",
        "# Compile the model\n",
        "model_1.compile(loss=tf.keras.losses.mae,\n",
        "                optimizer=tf.keras.optimizers.Adam(lr=0.01),\n",
        "                metrics=[\"mse\"])\n",
        "\n",
        "# Fit the model\n",
        "model_1.fit(tf.expand_dims(x_train, axis=-1), y_train, epochs=100,verbose=0)\n",
        "y_preds_1 = model_1.predict(x_test)\n",
        "plot_predictions(predictions=y_preds_1)\n"
      ],
      "metadata": {
        "id": "LDMdChlPyYGY",
        "colab": {
          "base_uri": "https://localhost:8080/",
          "height": 0
        },
        "outputId": "19e93439-7f05-4dbd-c90c-13e2038e8ff7"
      },
      "execution_count": 33,
      "outputs": [
        {
          "output_type": "stream",
          "name": "stderr",
          "text": [
            "WARNING:tensorflow:5 out of the last 5 calls to <function Model.make_predict_function.<locals>.predict_function at 0x7f17bf8ffc20> triggered tf.function retracing. Tracing is expensive and the excessive number of tracings could be due to (1) creating @tf.function repeatedly in a loop, (2) passing tensors with different shapes, (3) passing Python objects instead of tensors. For (1), please define your @tf.function outside of the loop. For (2), @tf.function has experimental_relax_shapes=True option that relaxes argument shapes that can avoid unnecessary retracing. For (3), please refer to https://www.tensorflow.org/guide/function#controlling_retracing and https://www.tensorflow.org/api_docs/python/tf/function for  more details.\n"
          ]
        },
        {
          "output_type": "display_data",
          "data": {
            "text/plain": [
              "<Figure size 720x504 with 1 Axes>"
            ],
            "image/png": "[encoded data removed]"
          },
          "metadata": {
            "needs_background": "light"
          }
        }
      ]
    },
    {
      "cell_type": "code",
      "source": [
        "mae_1 = mae(y_test, y_preds_1.squeeze()).numpy()\n",
        "mse_1 = mse(y_test, y_preds_1.squeeze()).numpy()\n",
        "mae_1, mse_1"
      ],
      "metadata": {
        "colab": {
          "base_uri": "https://localhost:8080/"
        },
        "id": "Lnnx8KEcF6fi",
        "outputId": "f262a67f-b591-4ce0-e73e-c6b6a10ba4fd"
      },
      "execution_count": 34,
      "outputs": [
        {
          "output_type": "execute_result",
          "data": {
            "text/plain": [
              "(1.2311256, 1.5432541)"
            ]
          },
          "metadata": {},
          "execution_count": 34
        }
      ]
    },
    {
      "cell_type": "code",
      "source": [
        "tf.random.set_seed(42)\n",
        "\n",
        "# Replicate model_1 and add an extra layer\n",
        "model_2 = tf.keras.Sequential([\n",
        "  tf.keras.layers.Dense(1),\n",
        "  tf.keras.layers.Dense(1) # add a second layer\n",
        "])\n",
        "\n",
        "# Compile the model\n",
        "model_2.compile(loss=tf.keras.losses.mae,\n",
        "                optimizer=tf.keras.optimizers.SGD(),\n",
        "                metrics=['mae'])\n",
        "\n",
        "# Fit the model\n",
        "model_2.fit(tf.expand_dims(x_train, axis=-1), y_train, epochs=100, verbose=0)\n",
        "y_preds_2 = model_2.predict(x_test)\n",
        "plot_predictions(predictions=y_preds_2)"
      ],
      "metadata": {
        "id": "_48JuSyDFZIG",
        "colab": {
          "base_uri": "https://localhost:8080/",
          "height": 0
        },
        "outputId": "c6aeddbe-ed4a-45ec-e483-dd674222b50f"
      },
      "execution_count": 35,
      "outputs": [
        {
          "output_type": "stream",
          "name": "stderr",
          "text": [
            "WARNING:tensorflow:6 out of the last 6 calls to <function Model.make_predict_function.<locals>.predict_function at 0x7f17bf865b90> triggered tf.function retracing. Tracing is expensive and the excessive number of tracings could be due to (1) creating @tf.function repeatedly in a loop, (2) passing tensors with different shapes, (3) passing Python objects instead of tensors. For (1), please define your @tf.function outside of the loop. For (2), @tf.function has experimental_relax_shapes=True option that relaxes argument shapes that can avoid unnecessary retracing. For (3), please refer to https://www.tensorflow.org/guide/function#controlling_retracing and https://www.tensorflow.org/api_docs/python/tf/function for  more details.\n"
          ]
        },
        {
          "output_type": "display_data",
          "data": {
            "text/plain": [
              "<Figure size 720x504 with 1 Axes>"
            ],
            "image/png": "[encoded data removed]"
          },
          "metadata": {
            "needs_background": "light"
          }
        }
      ]
    },
    {
      "cell_type": "code",
      "source": [
        "# Calculate model_2 metrics\n",
        "mae_2 = mae(y_test, y_preds_2.squeeze()).numpy()\n",
        "mse_2 = mse(y_test, y_preds_2.squeeze()).numpy()\n",
        "mae_2, mse_2"
      ],
      "metadata": {
        "id": "Hp6QsNQ_GbRt",
        "colab": {
          "base_uri": "https://localhost:8080/"
        },
        "outputId": "5f738368-da13-44c5-9d57-72a1da1602fd"
      },
      "execution_count": 36,
      "outputs": [
        {
          "output_type": "execute_result",
          "data": {
            "text/plain": [
              "(1.9098114, 5.459232)"
            ]
          },
          "metadata": {},
          "execution_count": 36
        }
      ]
    },
    {
      "cell_type": "code",
      "source": [
        "# Set random seed\n",
        "tf.random.set_seed(42)\n",
        "\n",
        "# Replicate model_2\n",
        "model_3 = tf.keras.Sequential([\n",
        "  tf.keras.layers.Dense(1),\n",
        "  tf.keras.layers.Dense(1)\n",
        "])\n",
        "\n",
        "# Compile the model\n",
        "model_3.compile(loss=tf.keras.losses.mae,\n",
        "                optimizer=tf.keras.optimizers.SGD(),\n",
        "                metrics=['mae'])\n",
        "\n",
        "# Fit the model (this time for 500 epochs, not 100)\n",
        "model_3.fit(tf.expand_dims(x_train, axis=-1), y_train, epochs=500, verbose=0) # set verbose to 0 for less output\n",
        "# Make and plot predictions for model_3\n",
        "y_preds_3 = model_3.predict(x_test)\n",
        "plot_predictions(predictions=y_preds_3)"
      ],
      "metadata": {
        "id": "IYI2xRCkGpCm",
        "colab": {
          "base_uri": "https://localhost:8080/",
          "height": 0
        },
        "outputId": "845fd5bf-9995-41e7-cb40-00dfc197972b"
      },
      "execution_count": 37,
      "outputs": [
        {
          "output_type": "display_data",
          "data": {
            "text/plain": [
              "<Figure size 720x504 with 1 Axes>"
            ],
            "image/png": "[encoded data removed]"
          },
          "metadata": {
            "needs_background": "light"
          }
        }
      ]
    },
    {
      "cell_type": "code",
      "source": [
        "# Calculate model_3 metrics\n",
        "mae_3 = mae(y_test, y_preds_3.squeeze()).numpy()\n",
        "mse_3 = mse(y_test, y_preds_3.squeeze()).numpy()\n",
        "mae_3, mse_3"
      ],
      "metadata": {
        "id": "tx9i0HADGtAq",
        "colab": {
          "base_uri": "https://localhost:8080/"
        },
        "outputId": "ff71729a-cb07-46f2-da08-f5f4bc1b8467"
      },
      "execution_count": 38,
      "outputs": [
        {
          "output_type": "execute_result",
          "data": {
            "text/plain": [
              "(68.68786, 4804.4717)"
            ]
          },
          "metadata": {},
          "execution_count": 38
        }
      ]
    },
    {
      "cell_type": "markdown",
      "source": [
        "**Comparing results**"
      ],
      "metadata": {
        "id": "-J267rIOG6vS"
      }
    },
    {
      "cell_type": "code",
      "source": [
        "import pandas as pd\n",
        "model_results = [[\"model_1\",mae_1,mse_1],\n",
        "                 [\"model_2\",mae_2,mse_2],\n",
        "                 [\"model_3\",mae_3,mse_3]]\n",
        "results=pd.DataFrame(model_results,columns=[\"model\",\"mae\",\"mse\"])\n",
        "results"
      ],
      "metadata": {
        "id": "LDHLATtdGyy7",
        "colab": {
          "base_uri": "https://localhost:8080/",
          "height": 0
        },
        "outputId": "fd2ab232-cc54-4e72-a75e-6de9dfe044b5"
      },
      "execution_count": 39,
      "outputs": [
        {
          "output_type": "execute_result",
          "data": {
            "text/plain": [
              "     model        mae          mse\n",
              "0  model_1   1.231126     1.543254\n",
              "1  model_2   1.909811     5.459232\n",
              "2  model_3  68.687859  4804.471680"
            ],
            "text/html": [
              "\n",
              "  <div id=\"df-218439c1-b8fe-47e1-9069-8f66c9f15316\">\n",
              "    <div class=\"colab-df-container\">\n",
              "      <div>\n",
              "<style scoped>\n",
              "    .dataframe tbody tr th:only-of-type {\n",
              "        vertical-align: middle;\n",
              "    }\n",
              "\n",
              "    .dataframe tbody tr th {\n",
              "        vertical-align: top;\n",
              "    }\n",
              "\n",
              "    .dataframe thead th {\n",
              "        text-align: right;\n",
              "    }\n",
              "</style>\n",
              "<table border=\"1\" class=\"dataframe\">\n",
              "  <thead>\n",
              "    <tr style=\"text-align: right;\">\n",
              "      <th></th>\n",
              "      <th>model</th>\n",
              "      <th>mae</th>\n",
              "      <th>mse</th>\n",
              "    </tr>\n",
              "  </thead>\n",
              "  <tbody>\n",
              "    <tr>\n",
              "      <th>0</th>\n",
              "      <td>model_1</td>\n",
              "      <td>1.231126</td>\n",
              "      <td>1.543254</td>\n",
              "    </tr>\n",
              "    <tr>\n",
              "      <th>1</th>\n",
              "      <td>model_2</td>\n",
              "      <td>1.909811</td>\n",
              "      <td>5.459232</td>\n",
              "    </tr>\n",
              "    <tr>\n",
              "      <th>2</th>\n",
              "      <td>model_3</td>\n",
              "      <td>68.687859</td>\n",
              "      <td>4804.471680</td>\n",
              "    </tr>\n",
              "  </tbody>\n",
              "</table>\n",
              "</div>\n",
              "      <button class=\"colab-df-convert\" onclick=\"convertToInteractive('df-218439c1-b8fe-47e1-9069-8f66c9f15316')\"\n",
              "              title=\"Convert this dataframe to an interactive table.\"\n",
              "              style=\"display:none;\">\n",
              "        \n",
              "  <svg xmlns=\"http://www.w3.org/2000/svg\" height=\"24px\"viewBox=\"0 0 24 24\"\n",
              "       width=\"24px\">\n",
              "    <path d=\"M0 0h24v24H0V0z\" fill=\"none\"/>\n",
              "    <path d=\"M18.56 5.44l.94 2.06.94-2.06 2.06-.94-2.06-.94-.94-2.06-.94 2.06-2.06.94zm-11 1L8.5 8.5l.94-2.06 2.06-.94-2.06-.94L8.5 2.5l-.94 2.06-2.06.94zm10 10l.94 2.06.94-2.06 2.06-.94-2.06-.94-.94-2.06-.94 2.06-2.06.94z\"/><path d=\"M17.41 7.96l-1.37-1.37c-.4-.4-.92-.59-1.43-.59-.52 0-1.04.2-1.43.59L10.3 9.45l-7.72 7.72c-.78.78-.78 2.05 0 2.83L4 21.41c.39.39.9.59 1.41.59.51 0 1.02-.2 1.41-.59l7.78-7.78 2.81-2.81c.8-.78.8-2.07 0-2.86zM5.41 20L4 18.59l7.72-7.72 1.47 1.35L5.41 20z\"/>\n",
              "  </svg>\n",
              "      </button>\n",
              "      \n",
              "  <style>\n",
              "    .colab-df-container {\n",
              "      display:flex;\n",
              "      flex-wrap:wrap;\n",
              "      gap: 12px;\n",
              "    }\n",
              "\n",
              "    .colab-df-convert {\n",
              "      background-color: #E8F0FE;\n",
              "      border: none;\n",
              "      border-radius: 50%;\n",
              "      cursor: pointer;\n",
              "      display: none;\n",
              "      fill: #1967D2;\n",
              "      height: 32px;\n",
              "      padding: 0 0 0 0;\n",
              "      width: 32px;\n",
              "    }\n",
              "\n",
              "    .colab-df-convert:hover {\n",
              "      background-color: #E2EBFA;\n",
              "      box-shadow: 0px 1px 2px rgba(60, 64, 67, 0.3), 0px 1px 3px 1px rgba(60, 64, 67, 0.15);\n",
              "      fill: #174EA6;\n",
              "    }\n",
              "\n",
              "    [theme=dark] .colab-df-convert {\n",
              "      background-color: #3B4455;\n",
              "      fill: #D2E3FC;\n",
              "    }\n",
              "\n",
              "    [theme=dark] .colab-df-convert:hover {\n",
              "      background-color: #434B5C;\n",
              "      box-shadow: 0px 1px 3px 1px rgba(0, 0, 0, 0.15);\n",
              "      filter: drop-shadow(0px 1px 2px rgba(0, 0, 0, 0.3));\n",
              "      fill: #FFFFFF;\n",
              "    }\n",
              "  </style>\n",
              "\n",
              "      <script>\n",
              "        const buttonEl =\n",
              "          document.querySelector('#df-218439c1-b8fe-47e1-9069-8f66c9f15316 button.colab-df-convert');\n",
              "        buttonEl.style.display =\n",
              "          google.colab.kernel.accessAllowed ? 'block' : 'none';\n",
              "\n",
              "        async function convertToInteractive(key) {\n",
              "          const element = document.querySelector('#df-218439c1-b8fe-47e1-9069-8f66c9f15316');\n",
              "          const dataTable =\n",
              "            await google.colab.kernel.invokeFunction('convertToInteractive',\n",
              "                                                     [key], {});\n",
              "          if (!dataTable) return;\n",
              "\n",
              "          const docLinkHtml = 'Like what you see? Visit the ' +\n",
              "            '<a target=\"_blank\" href=https://colab.research.google.com/notebooks/data_table.ipynb>data table notebook</a>'\n",
              "            + ' to learn more about interactive tables.';\n",
              "          element.innerHTML = '';\n",
              "          dataTable['output_type'] = 'display_data';\n",
              "          await google.colab.output.renderOutput(dataTable, element);\n",
              "          const docLink = document.createElement('div');\n",
              "          docLink.innerHTML = docLinkHtml;\n",
              "          element.appendChild(docLink);\n",
              "        }\n",
              "      </script>\n",
              "    </div>\n",
              "  </div>\n",
              "  "
            ]
          },
          "metadata": {},
          "execution_count": 39
        }
      ]
    },
    {
      "cell_type": "markdown",
      "source": [
        "**Tracking your experiments**\n",
        "One really good habit to get into is tracking your modelling experiments to see which perform better than others.\n",
        "\n",
        "We've done a simple version of this above (keeping the results in different variables).\n",
        "\n",
        "* 📖 **Resourc**e: But as you build more models, you'll want to look into using tools such as:\n",
        "\n",
        "* TensorBoard - a component of the TensorFlow library to help track modelling experiments (we'll see this later).\n",
        "* Weights & Biases - a tool for tracking all kinds of machine learning experiments (the good news for Weights & Biases is it plugs into TensorBoard)."
      ],
      "metadata": {
        "id": "LHXEq5dUvs9v"
      }
    },
    {
      "cell_type": "code",
      "source": [
        "model_1.summary()"
      ],
      "metadata": {
        "id": "tyT8hSFu4ehr",
        "colab": {
          "base_uri": "https://localhost:8080/"
        },
        "outputId": "aec86ac3-c5fb-4ed7-8fcc-5afabf78f5ef"
      },
      "execution_count": 40,
      "outputs": [
        {
          "output_type": "stream",
          "name": "stdout",
          "text": [
            "Model: \"sequential_4\"\n",
            "_________________________________________________________________\n",
            " Layer (type)                Output Shape              Param #   \n",
            "=================================================================\n",
            " dense_8 (Dense)             (None, 100)               200       \n",
            "                                                                 \n",
            " dense_9 (Dense)             (None, 1)                 101       \n",
            "                                                                 \n",
            "=================================================================\n",
            "Total params: 301\n",
            "Trainable params: 301\n",
            "Non-trainable params: 0\n",
            "_________________________________________________________________\n"
          ]
        }
      ]
    },
    {
      "cell_type": "markdown",
      "source": [
        "# **Saving our model**\n",
        "* Once you've trained a model and found one which performs to your liking, you'll probably want to save it for use elsewhere (like a web application or mobile device).\n",
        "\n",
        "* You can save a TensorFlow/Keras model using model.save().\n",
        "\n",
        "**There are two ways to save a model in TensorFlow:**\n",
        "\n",
        "* The SavedModel format (default). \n",
        "* The HDF5 format. \n",
        "\n",
        "The main **difference** between the two is the SavedModel is automatically able to save custom objects (such as special layers) without additional modifications when loading the model back in.\n",
        "\n",
        "Which one should you use?\n",
        "\n",
        "It depends on your situation but the SavedModel format will suffice most of the time.\n",
        "\n",
        "Both methods use the same method call."
      ],
      "metadata": {
        "id": "uzjFFOCQ9hDm"
      }
    },
    {
      "cell_type": "code",
      "source": [
        "# Saving modle using SaveModel format\n",
        "model_1.save(\"best_performing_model\")"
      ],
      "metadata": {
        "id": "gtXS_9LOA9oC"
      },
      "execution_count": 41,
      "outputs": []
    },
    {
      "cell_type": "code",
      "source": [
        "# Saving modle using h5format\n",
        "model_1.save(\"best_performing_model.h5\")"
      ],
      "metadata": {
        "id": "WPIZJRI2Ugil"
      },
      "execution_count": 42,
      "outputs": []
    },
    {
      "cell_type": "markdown",
      "source": [
        "**Loading saved model 🕑**"
      ],
      "metadata": {
        "id": "lXqnsyKnAWNU"
      }
    },
    {
      "cell_type": "code",
      "source": [
        "# loading model\n",
        "loading=tf.keras.models.load_model(\"/content/best_performing_model.h5\")\n",
        "loading.summary()"
      ],
      "metadata": {
        "id": "BqXI5qqVA8F1",
        "colab": {
          "base_uri": "https://localhost:8080/"
        },
        "outputId": "99755d7c-7259-46f4-c9eb-cb0fb348a9e5"
      },
      "execution_count": 43,
      "outputs": [
        {
          "output_type": "stream",
          "name": "stdout",
          "text": [
            "Model: \"sequential_4\"\n",
            "_________________________________________________________________\n",
            " Layer (type)                Output Shape              Param #   \n",
            "=================================================================\n",
            " dense_8 (Dense)             (None, 100)               200       \n",
            "                                                                 \n",
            " dense_9 (Dense)             (None, 1)                 101       \n",
            "                                                                 \n",
            "=================================================================\n",
            "Total params: 301\n",
            "Trainable params: 301\n",
            "Non-trainable params: 0\n",
            "_________________________________________________________________\n"
          ]
        }
      ]
    },
    {
      "cell_type": "code",
      "source": [
        "# comparing model with saved model prediction\n",
        "p1=model_1.predict(x_test)\n",
        "p2=loading.predict(x_test)\n",
        "p1==p2\n",
        "# p1,p2\n"
      ],
      "metadata": {
        "id": "xtzyMvo6BvYe",
        "colab": {
          "base_uri": "https://localhost:8080/"
        },
        "outputId": "fd6a2534-79f7-4a11-fbff-aa9657f7a855"
      },
      "execution_count": 44,
      "outputs": [
        {
          "output_type": "execute_result",
          "data": {
            "text/plain": [
              "array([[ True],\n",
              "       [ True],\n",
              "       [ True],\n",
              "       [ True],\n",
              "       [ True],\n",
              "       [ True],\n",
              "       [ True],\n",
              "       [ True],\n",
              "       [ True],\n",
              "       [ True]])"
            ]
          },
          "metadata": {},
          "execution_count": 44
        }
      ]
    },
    {
      "cell_type": "code",
      "source": [
        "# loading default save model format\n",
        "loading_2=tf.keras.models.load_model(\"/content/best_performing_model\")\n",
        "p_1=model_1.predict(x_test)\n",
        "p_2=loading_2.predict(x_test)\n",
        "p_1==p_2"
      ],
      "metadata": {
        "id": "huFSLqd1Fw-j",
        "colab": {
          "base_uri": "https://localhost:8080/"
        },
        "outputId": "f2cf5fa1-0d45-4981-f64f-da105353d0c3"
      },
      "execution_count": 45,
      "outputs": [
        {
          "output_type": "execute_result",
          "data": {
            "text/plain": [
              "array([[ True],\n",
              "       [ True],\n",
              "       [ True],\n",
              "       [ True],\n",
              "       [ True],\n",
              "       [ True],\n",
              "       [ True],\n",
              "       [ True],\n",
              "       [ True],\n",
              "       [ True]])"
            ]
          },
          "metadata": {},
          "execution_count": 45
        }
      ]
    },
    {
      "cell_type": "markdown",
      "source": [
        "## **downloading model from collab ⬇**\n",
        "* Right click on the file in the files pane and click 'download'.\n",
        "* Use the code below.\n"
      ],
      "metadata": {
        "id": "vdIWvdTEKnYR"
      }
    },
    {
      "cell_type": "code",
      "source": [
        "# from google.colab import files\n",
        "# files.download(\"best_performing_model.h5\")"
      ],
      "metadata": {
        "id": "Yiu-1wfXKk55"
      },
      "execution_count": 46,
      "outputs": []
    },
    {
      "cell_type": "markdown",
      "source": [
        "## **A larger example**\n",
        "* we will use *https://www.kaggle.com/datasets*"
      ],
      "metadata": {
        "id": "kvb6z1pONOAp"
      }
    },
    {
      "cell_type": "code",
      "source": [
        "\n",
        "# Import required libraries\n",
        "import tensorflow as tf\n",
        "import pandas as pd\n",
        "import matplotlib.pyplot as plt"
      ],
      "metadata": {
        "id": "PoyVYwtrCXHY"
      },
      "execution_count": 47,
      "outputs": []
    },
    {
      "cell_type": "code",
      "source": [
        "# Read in the insurance dataset\n",
        "insurance = pd.read_csv(\"https://raw.githubusercontent.com/stedy/Machine-Learning-with-R-datasets/master/insurance.csv\")"
      ],
      "metadata": {
        "id": "5uY7eid9CbFg"
      },
      "execution_count": 48,
      "outputs": []
    },
    {
      "cell_type": "code",
      "source": [
        "# Check out the insurance dataset\n",
        "insurance.head()"
      ],
      "metadata": {
        "id": "GnetXSYVCdGz",
        "colab": {
          "base_uri": "https://localhost:8080/",
          "height": 206
        },
        "outputId": "4d2e86b3-2b99-4235-9380-1f0eebc90d98"
      },
      "execution_count": 49,
      "outputs": [
        {
          "output_type": "execute_result",
          "data": {
            "text/plain": [
              "   age     sex     bmi  children smoker     region      charges\n",
              "0   19  female  27.900         0    yes  southwest  16884.92400\n",
              "1   18    male  33.770         1     no  southeast   1725.55230\n",
              "2   28    male  33.000         3     no  southeast   4449.46200\n",
              "3   33    male  22.705         0     no  northwest  21984.47061\n",
              "4   32    male  28.880         0     no  northwest   3866.85520"
            ],
            "text/html": [
              "\n",
              "  <div id=\"df-52b283cd-4c53-4352-aa63-6345acae8a80\">\n",
              "    <div class=\"colab-df-container\">\n",
              "      <div>\n",
              "<style scoped>\n",
              "    .dataframe tbody tr th:only-of-type {\n",
              "        vertical-align: middle;\n",
              "    }\n",
              "\n",
              "    .dataframe tbody tr th {\n",
              "        vertical-align: top;\n",
              "    }\n",
              "\n",
              "    .dataframe thead th {\n",
              "        text-align: right;\n",
              "    }\n",
              "</style>\n",
              "<table border=\"1\" class=\"dataframe\">\n",
              "  <thead>\n",
              "    <tr style=\"text-align: right;\">\n",
              "      <th></th>\n",
              "      <th>age</th>\n",
              "      <th>sex</th>\n",
              "      <th>bmi</th>\n",
              "      <th>children</th>\n",
              "      <th>smoker</th>\n",
              "      <th>region</th>\n",
              "      <th>charges</th>\n",
              "    </tr>\n",
              "  </thead>\n",
              "  <tbody>\n",
              "    <tr>\n",
              "      <th>0</th>\n",
              "      <td>19</td>\n",
              "      <td>female</td>\n",
              "      <td>27.900</td>\n",
              "      <td>0</td>\n",
              "      <td>yes</td>\n",
              "      <td>southwest</td>\n",
              "      <td>16884.92400</td>\n",
              "    </tr>\n",
              "    <tr>\n",
              "      <th>1</th>\n",
              "      <td>18</td>\n",
              "      <td>male</td>\n",
              "      <td>33.770</td>\n",
              "      <td>1</td>\n",
              "      <td>no</td>\n",
              "      <td>southeast</td>\n",
              "      <td>1725.55230</td>\n",
              "    </tr>\n",
              "    <tr>\n",
              "      <th>2</th>\n",
              "      <td>28</td>\n",
              "      <td>male</td>\n",
              "      <td>33.000</td>\n",
              "      <td>3</td>\n",
              "      <td>no</td>\n",
              "      <td>southeast</td>\n",
              "      <td>4449.46200</td>\n",
              "    </tr>\n",
              "    <tr>\n",
              "      <th>3</th>\n",
              "      <td>33</td>\n",
              "      <td>male</td>\n",
              "      <td>22.705</td>\n",
              "      <td>0</td>\n",
              "      <td>no</td>\n",
              "      <td>northwest</td>\n",
              "      <td>21984.47061</td>\n",
              "    </tr>\n",
              "    <tr>\n",
              "      <th>4</th>\n",
              "      <td>32</td>\n",
              "      <td>male</td>\n",
              "      <td>28.880</td>\n",
              "      <td>0</td>\n",
              "      <td>no</td>\n",
              "      <td>northwest</td>\n",
              "      <td>3866.85520</td>\n",
              "    </tr>\n",
              "  </tbody>\n",
              "</table>\n",
              "</div>\n",
              "      <button class=\"colab-df-convert\" onclick=\"convertToInteractive('df-52b283cd-4c53-4352-aa63-6345acae8a80')\"\n",
              "              title=\"Convert this dataframe to an interactive table.\"\n",
              "              style=\"display:none;\">\n",
              "        \n",
              "  <svg xmlns=\"http://www.w3.org/2000/svg\" height=\"24px\"viewBox=\"0 0 24 24\"\n",
              "       width=\"24px\">\n",
              "    <path d=\"M0 0h24v24H0V0z\" fill=\"none\"/>\n",
              "    <path d=\"M18.56 5.44l.94 2.06.94-2.06 2.06-.94-2.06-.94-.94-2.06-.94 2.06-2.06.94zm-11 1L8.5 8.5l.94-2.06 2.06-.94-2.06-.94L8.5 2.5l-.94 2.06-2.06.94zm10 10l.94 2.06.94-2.06 2.06-.94-2.06-.94-.94-2.06-.94 2.06-2.06.94z\"/><path d=\"M17.41 7.96l-1.37-1.37c-.4-.4-.92-.59-1.43-.59-.52 0-1.04.2-1.43.59L10.3 9.45l-7.72 7.72c-.78.78-.78 2.05 0 2.83L4 21.41c.39.39.9.59 1.41.59.51 0 1.02-.2 1.41-.59l7.78-7.78 2.81-2.81c.8-.78.8-2.07 0-2.86zM5.41 20L4 18.59l7.72-7.72 1.47 1.35L5.41 20z\"/>\n",
              "  </svg>\n",
              "      </button>\n",
              "      \n",
              "  <style>\n",
              "    .colab-df-container {\n",
              "      display:flex;\n",
              "      flex-wrap:wrap;\n",
              "      gap: 12px;\n",
              "    }\n",
              "\n",
              "    .colab-df-convert {\n",
              "      background-color: #E8F0FE;\n",
              "      border: none;\n",
              "      border-radius: 50%;\n",
              "      cursor: pointer;\n",
              "      display: none;\n",
              "      fill: #1967D2;\n",
              "      height: 32px;\n",
              "      padding: 0 0 0 0;\n",
              "      width: 32px;\n",
              "    }\n",
              "\n",
              "    .colab-df-convert:hover {\n",
              "      background-color: #E2EBFA;\n",
              "      box-shadow: 0px 1px 2px rgba(60, 64, 67, 0.3), 0px 1px 3px 1px rgba(60, 64, 67, 0.15);\n",
              "      fill: #174EA6;\n",
              "    }\n",
              "\n",
              "    [theme=dark] .colab-df-convert {\n",
              "      background-color: #3B4455;\n",
              "      fill: #D2E3FC;\n",
              "    }\n",
              "\n",
              "    [theme=dark] .colab-df-convert:hover {\n",
              "      background-color: #434B5C;\n",
              "      box-shadow: 0px 1px 3px 1px rgba(0, 0, 0, 0.15);\n",
              "      filter: drop-shadow(0px 1px 2px rgba(0, 0, 0, 0.3));\n",
              "      fill: #FFFFFF;\n",
              "    }\n",
              "  </style>\n",
              "\n",
              "      <script>\n",
              "        const buttonEl =\n",
              "          document.querySelector('#df-52b283cd-4c53-4352-aa63-6345acae8a80 button.colab-df-convert');\n",
              "        buttonEl.style.display =\n",
              "          google.colab.kernel.accessAllowed ? 'block' : 'none';\n",
              "\n",
              "        async function convertToInteractive(key) {\n",
              "          const element = document.querySelector('#df-52b283cd-4c53-4352-aa63-6345acae8a80');\n",
              "          const dataTable =\n",
              "            await google.colab.kernel.invokeFunction('convertToInteractive',\n",
              "                                                     [key], {});\n",
              "          if (!dataTable) return;\n",
              "\n",
              "          const docLinkHtml = 'Like what you see? Visit the ' +\n",
              "            '<a target=\"_blank\" href=https://colab.research.google.com/notebooks/data_table.ipynb>data table notebook</a>'\n",
              "            + ' to learn more about interactive tables.';\n",
              "          element.innerHTML = '';\n",
              "          dataTable['output_type'] = 'display_data';\n",
              "          await google.colab.output.renderOutput(dataTable, element);\n",
              "          const docLink = document.createElement('div');\n",
              "          docLink.innerHTML = docLinkHtml;\n",
              "          element.appendChild(docLink);\n",
              "        }\n",
              "      </script>\n",
              "    </div>\n",
              "  </div>\n",
              "  "
            ]
          },
          "metadata": {},
          "execution_count": 49
        }
      ]
    },
    {
      "cell_type": "code",
      "source": [
        "# Turn all categories into numbers\n",
        "insurance_one_hot = pd.get_dummies(insurance)\n",
        "insurance_one_hot.head() # view the converted columns"
      ],
      "metadata": {
        "id": "gEovG3x9Ch4_",
        "colab": {
          "base_uri": "https://localhost:8080/",
          "height": 270
        },
        "outputId": "46013690-de1f-4b99-c330-87eb2a9ccea9"
      },
      "execution_count": 50,
      "outputs": [
        {
          "output_type": "execute_result",
          "data": {
            "text/plain": [
              "   age     bmi  children      charges  sex_female  sex_male  smoker_no  \\\n",
              "0   19  27.900         0  16884.92400           1         0          0   \n",
              "1   18  33.770         1   1725.55230           0         1          1   \n",
              "2   28  33.000         3   4449.46200           0         1          1   \n",
              "3   33  22.705         0  21984.47061           0         1          1   \n",
              "4   32  28.880         0   3866.85520           0         1          1   \n",
              "\n",
              "   smoker_yes  region_northeast  region_northwest  region_southeast  \\\n",
              "0           1                 0                 0                 0   \n",
              "1           0                 0                 0                 1   \n",
              "2           0                 0                 0                 1   \n",
              "3           0                 0                 1                 0   \n",
              "4           0                 0                 1                 0   \n",
              "\n",
              "   region_southwest  \n",
              "0                 1  \n",
              "1                 0  \n",
              "2                 0  \n",
              "3                 0  \n",
              "4                 0  "
            ],
            "text/html": [
              "\n",
              "  <div id=\"df-1d793de8-eba8-4bd4-95ca-53bd82d6b7ed\">\n",
              "    <div class=\"colab-df-container\">\n",
              "      <div>\n",
              "<style scoped>\n",
              "    .dataframe tbody tr th:only-of-type {\n",
              "        vertical-align: middle;\n",
              "    }\n",
              "\n",
              "    .dataframe tbody tr th {\n",
              "        vertical-align: top;\n",
              "    }\n",
              "\n",
              "    .dataframe thead th {\n",
              "        text-align: right;\n",
              "    }\n",
              "</style>\n",
              "<table border=\"1\" class=\"dataframe\">\n",
              "  <thead>\n",
              "    <tr style=\"text-align: right;\">\n",
              "      <th></th>\n",
              "      <th>age</th>\n",
              "      <th>bmi</th>\n",
              "      <th>children</th>\n",
              "      <th>charges</th>\n",
              "      <th>sex_female</th>\n",
              "      <th>sex_male</th>\n",
              "      <th>smoker_no</th>\n",
              "      <th>smoker_yes</th>\n",
              "      <th>region_northeast</th>\n",
              "      <th>region_northwest</th>\n",
              "      <th>region_southeast</th>\n",
              "      <th>region_southwest</th>\n",
              "    </tr>\n",
              "  </thead>\n",
              "  <tbody>\n",
              "    <tr>\n",
              "      <th>0</th>\n",
              "      <td>19</td>\n",
              "      <td>27.900</td>\n",
              "      <td>0</td>\n",
              "      <td>16884.92400</td>\n",
              "      <td>1</td>\n",
              "      <td>0</td>\n",
              "      <td>0</td>\n",
              "      <td>1</td>\n",
              "      <td>0</td>\n",
              "      <td>0</td>\n",
              "      <td>0</td>\n",
              "      <td>1</td>\n",
              "    </tr>\n",
              "    <tr>\n",
              "      <th>1</th>\n",
              "      <td>18</td>\n",
              "      <td>33.770</td>\n",
              "      <td>1</td>\n",
              "      <td>1725.55230</td>\n",
              "      <td>0</td>\n",
              "      <td>1</td>\n",
              "      <td>1</td>\n",
              "      <td>0</td>\n",
              "      <td>0</td>\n",
              "      <td>0</td>\n",
              "      <td>1</td>\n",
              "      <td>0</td>\n",
              "    </tr>\n",
              "    <tr>\n",
              "      <th>2</th>\n",
              "      <td>28</td>\n",
              "      <td>33.000</td>\n",
              "      <td>3</td>\n",
              "      <td>4449.46200</td>\n",
              "      <td>0</td>\n",
              "      <td>1</td>\n",
              "      <td>1</td>\n",
              "      <td>0</td>\n",
              "      <td>0</td>\n",
              "      <td>0</td>\n",
              "      <td>1</td>\n",
              "      <td>0</td>\n",
              "    </tr>\n",
              "    <tr>\n",
              "      <th>3</th>\n",
              "      <td>33</td>\n",
              "      <td>22.705</td>\n",
              "      <td>0</td>\n",
              "      <td>21984.47061</td>\n",
              "      <td>0</td>\n",
              "      <td>1</td>\n",
              "      <td>1</td>\n",
              "      <td>0</td>\n",
              "      <td>0</td>\n",
              "      <td>1</td>\n",
              "      <td>0</td>\n",
              "      <td>0</td>\n",
              "    </tr>\n",
              "    <tr>\n",
              "      <th>4</th>\n",
              "      <td>32</td>\n",
              "      <td>28.880</td>\n",
              "      <td>0</td>\n",
              "      <td>3866.85520</td>\n",
              "      <td>0</td>\n",
              "      <td>1</td>\n",
              "      <td>1</td>\n",
              "      <td>0</td>\n",
              "      <td>0</td>\n",
              "      <td>1</td>\n",
              "      <td>0</td>\n",
              "      <td>0</td>\n",
              "    </tr>\n",
              "  </tbody>\n",
              "</table>\n",
              "</div>\n",
              "      <button class=\"colab-df-convert\" onclick=\"convertToInteractive('df-1d793de8-eba8-4bd4-95ca-53bd82d6b7ed')\"\n",
              "              title=\"Convert this dataframe to an interactive table.\"\n",
              "              style=\"display:none;\">\n",
              "        \n",
              "  <svg xmlns=\"http://www.w3.org/2000/svg\" height=\"24px\"viewBox=\"0 0 24 24\"\n",
              "       width=\"24px\">\n",
              "    <path d=\"M0 0h24v24H0V0z\" fill=\"none\"/>\n",
              "    <path d=\"M18.56 5.44l.94 2.06.94-2.06 2.06-.94-2.06-.94-.94-2.06-.94 2.06-2.06.94zm-11 1L8.5 8.5l.94-2.06 2.06-.94-2.06-.94L8.5 2.5l-.94 2.06-2.06.94zm10 10l.94 2.06.94-2.06 2.06-.94-2.06-.94-.94-2.06-.94 2.06-2.06.94z\"/><path d=\"M17.41 7.96l-1.37-1.37c-.4-.4-.92-.59-1.43-.59-.52 0-1.04.2-1.43.59L10.3 9.45l-7.72 7.72c-.78.78-.78 2.05 0 2.83L4 21.41c.39.39.9.59 1.41.59.51 0 1.02-.2 1.41-.59l7.78-7.78 2.81-2.81c.8-.78.8-2.07 0-2.86zM5.41 20L4 18.59l7.72-7.72 1.47 1.35L5.41 20z\"/>\n",
              "  </svg>\n",
              "      </button>\n",
              "      \n",
              "  <style>\n",
              "    .colab-df-container {\n",
              "      display:flex;\n",
              "      flex-wrap:wrap;\n",
              "      gap: 12px;\n",
              "    }\n",
              "\n",
              "    .colab-df-convert {\n",
              "      background-color: #E8F0FE;\n",
              "      border: none;\n",
              "      border-radius: 50%;\n",
              "      cursor: pointer;\n",
              "      display: none;\n",
              "      fill: #1967D2;\n",
              "      height: 32px;\n",
              "      padding: 0 0 0 0;\n",
              "      width: 32px;\n",
              "    }\n",
              "\n",
              "    .colab-df-convert:hover {\n",
              "      background-color: #E2EBFA;\n",
              "      box-shadow: 0px 1px 2px rgba(60, 64, 67, 0.3), 0px 1px 3px 1px rgba(60, 64, 67, 0.15);\n",
              "      fill: #174EA6;\n",
              "    }\n",
              "\n",
              "    [theme=dark] .colab-df-convert {\n",
              "      background-color: #3B4455;\n",
              "      fill: #D2E3FC;\n",
              "    }\n",
              "\n",
              "    [theme=dark] .colab-df-convert:hover {\n",
              "      background-color: #434B5C;\n",
              "      box-shadow: 0px 1px 3px 1px rgba(0, 0, 0, 0.15);\n",
              "      filter: drop-shadow(0px 1px 2px rgba(0, 0, 0, 0.3));\n",
              "      fill: #FFFFFF;\n",
              "    }\n",
              "  </style>\n",
              "\n",
              "      <script>\n",
              "        const buttonEl =\n",
              "          document.querySelector('#df-1d793de8-eba8-4bd4-95ca-53bd82d6b7ed button.colab-df-convert');\n",
              "        buttonEl.style.display =\n",
              "          google.colab.kernel.accessAllowed ? 'block' : 'none';\n",
              "\n",
              "        async function convertToInteractive(key) {\n",
              "          const element = document.querySelector('#df-1d793de8-eba8-4bd4-95ca-53bd82d6b7ed');\n",
              "          const dataTable =\n",
              "            await google.colab.kernel.invokeFunction('convertToInteractive',\n",
              "                                                     [key], {});\n",
              "          if (!dataTable) return;\n",
              "\n",
              "          const docLinkHtml = 'Like what you see? Visit the ' +\n",
              "            '<a target=\"_blank\" href=https://colab.research.google.com/notebooks/data_table.ipynb>data table notebook</a>'\n",
              "            + ' to learn more about interactive tables.';\n",
              "          element.innerHTML = '';\n",
              "          dataTable['output_type'] = 'display_data';\n",
              "          await google.colab.output.renderOutput(dataTable, element);\n",
              "          const docLink = document.createElement('div');\n",
              "          docLink.innerHTML = docLinkHtml;\n",
              "          element.appendChild(docLink);\n",
              "        }\n",
              "      </script>\n",
              "    </div>\n",
              "  </div>\n",
              "  "
            ]
          },
          "metadata": {},
          "execution_count": 50
        }
      ]
    },
    {
      "cell_type": "code",
      "source": [
        "# Create X & y values\n",
        "X = insurance_one_hot.drop(\"charges\", axis=1)\n",
        "y = insurance_one_hot[\"charges\"]\n",
        "# View features\n",
        "X.head()"
      ],
      "metadata": {
        "id": "KXOsoJy-CnVW",
        "colab": {
          "base_uri": "https://localhost:8080/",
          "height": 270
        },
        "outputId": "e68cefc5-f6c6-430f-b00f-746c9ffd205d"
      },
      "execution_count": 51,
      "outputs": [
        {
          "output_type": "execute_result",
          "data": {
            "text/plain": [
              "   age     bmi  children  sex_female  sex_male  smoker_no  smoker_yes  \\\n",
              "0   19  27.900         0           1         0          0           1   \n",
              "1   18  33.770         1           0         1          1           0   \n",
              "2   28  33.000         3           0         1          1           0   \n",
              "3   33  22.705         0           0         1          1           0   \n",
              "4   32  28.880         0           0         1          1           0   \n",
              "\n",
              "   region_northeast  region_northwest  region_southeast  region_southwest  \n",
              "0                 0                 0                 0                 1  \n",
              "1                 0                 0                 1                 0  \n",
              "2                 0                 0                 1                 0  \n",
              "3                 0                 1                 0                 0  \n",
              "4                 0                 1                 0                 0  "
            ],
            "text/html": [
              "\n",
              "  <div id=\"df-72bebd9d-2949-4acc-a5c1-ad2f361c4a4b\">\n",
              "    <div class=\"colab-df-container\">\n",
              "      <div>\n",
              "<style scoped>\n",
              "    .dataframe tbody tr th:only-of-type {\n",
              "        vertical-align: middle;\n",
              "    }\n",
              "\n",
              "    .dataframe tbody tr th {\n",
              "        vertical-align: top;\n",
              "    }\n",
              "\n",
              "    .dataframe thead th {\n",
              "        text-align: right;\n",
              "    }\n",
              "</style>\n",
              "<table border=\"1\" class=\"dataframe\">\n",
              "  <thead>\n",
              "    <tr style=\"text-align: right;\">\n",
              "      <th></th>\n",
              "      <th>age</th>\n",
              "      <th>bmi</th>\n",
              "      <th>children</th>\n",
              "      <th>sex_female</th>\n",
              "      <th>sex_male</th>\n",
              "      <th>smoker_no</th>\n",
              "      <th>smoker_yes</th>\n",
              "      <th>region_northeast</th>\n",
              "      <th>region_northwest</th>\n",
              "      <th>region_southeast</th>\n",
              "      <th>region_southwest</th>\n",
              "    </tr>\n",
              "  </thead>\n",
              "  <tbody>\n",
              "    <tr>\n",
              "      <th>0</th>\n",
              "      <td>19</td>\n",
              "      <td>27.900</td>\n",
              "      <td>0</td>\n",
              "      <td>1</td>\n",
              "      <td>0</td>\n",
              "      <td>0</td>\n",
              "      <td>1</td>\n",
              "      <td>0</td>\n",
              "      <td>0</td>\n",
              "      <td>0</td>\n",
              "      <td>1</td>\n",
              "    </tr>\n",
              "    <tr>\n",
              "      <th>1</th>\n",
              "      <td>18</td>\n",
              "      <td>33.770</td>\n",
              "      <td>1</td>\n",
              "      <td>0</td>\n",
              "      <td>1</td>\n",
              "      <td>1</td>\n",
              "      <td>0</td>\n",
              "      <td>0</td>\n",
              "      <td>0</td>\n",
              "      <td>1</td>\n",
              "      <td>0</td>\n",
              "    </tr>\n",
              "    <tr>\n",
              "      <th>2</th>\n",
              "      <td>28</td>\n",
              "      <td>33.000</td>\n",
              "      <td>3</td>\n",
              "      <td>0</td>\n",
              "      <td>1</td>\n",
              "      <td>1</td>\n",
              "      <td>0</td>\n",
              "      <td>0</td>\n",
              "      <td>0</td>\n",
              "      <td>1</td>\n",
              "      <td>0</td>\n",
              "    </tr>\n",
              "    <tr>\n",
              "      <th>3</th>\n",
              "      <td>33</td>\n",
              "      <td>22.705</td>\n",
              "      <td>0</td>\n",
              "      <td>0</td>\n",
              "      <td>1</td>\n",
              "      <td>1</td>\n",
              "      <td>0</td>\n",
              "      <td>0</td>\n",
              "      <td>1</td>\n",
              "      <td>0</td>\n",
              "      <td>0</td>\n",
              "    </tr>\n",
              "    <tr>\n",
              "      <th>4</th>\n",
              "      <td>32</td>\n",
              "      <td>28.880</td>\n",
              "      <td>0</td>\n",
              "      <td>0</td>\n",
              "      <td>1</td>\n",
              "      <td>1</td>\n",
              "      <td>0</td>\n",
              "      <td>0</td>\n",
              "      <td>1</td>\n",
              "      <td>0</td>\n",
              "      <td>0</td>\n",
              "    </tr>\n",
              "  </tbody>\n",
              "</table>\n",
              "</div>\n",
              "      <button class=\"colab-df-convert\" onclick=\"convertToInteractive('df-72bebd9d-2949-4acc-a5c1-ad2f361c4a4b')\"\n",
              "              title=\"Convert this dataframe to an interactive table.\"\n",
              "              style=\"display:none;\">\n",
              "        \n",
              "  <svg xmlns=\"http://www.w3.org/2000/svg\" height=\"24px\"viewBox=\"0 0 24 24\"\n",
              "       width=\"24px\">\n",
              "    <path d=\"M0 0h24v24H0V0z\" fill=\"none\"/>\n",
              "    <path d=\"M18.56 5.44l.94 2.06.94-2.06 2.06-.94-2.06-.94-.94-2.06-.94 2.06-2.06.94zm-11 1L8.5 8.5l.94-2.06 2.06-.94-2.06-.94L8.5 2.5l-.94 2.06-2.06.94zm10 10l.94 2.06.94-2.06 2.06-.94-2.06-.94-.94-2.06-.94 2.06-2.06.94z\"/><path d=\"M17.41 7.96l-1.37-1.37c-.4-.4-.92-.59-1.43-.59-.52 0-1.04.2-1.43.59L10.3 9.45l-7.72 7.72c-.78.78-.78 2.05 0 2.83L4 21.41c.39.39.9.59 1.41.59.51 0 1.02-.2 1.41-.59l7.78-7.78 2.81-2.81c.8-.78.8-2.07 0-2.86zM5.41 20L4 18.59l7.72-7.72 1.47 1.35L5.41 20z\"/>\n",
              "  </svg>\n",
              "      </button>\n",
              "      \n",
              "  <style>\n",
              "    .colab-df-container {\n",
              "      display:flex;\n",
              "      flex-wrap:wrap;\n",
              "      gap: 12px;\n",
              "    }\n",
              "\n",
              "    .colab-df-convert {\n",
              "      background-color: #E8F0FE;\n",
              "      border: none;\n",
              "      border-radius: 50%;\n",
              "      cursor: pointer;\n",
              "      display: none;\n",
              "      fill: #1967D2;\n",
              "      height: 32px;\n",
              "      padding: 0 0 0 0;\n",
              "      width: 32px;\n",
              "    }\n",
              "\n",
              "    .colab-df-convert:hover {\n",
              "      background-color: #E2EBFA;\n",
              "      box-shadow: 0px 1px 2px rgba(60, 64, 67, 0.3), 0px 1px 3px 1px rgba(60, 64, 67, 0.15);\n",
              "      fill: #174EA6;\n",
              "    }\n",
              "\n",
              "    [theme=dark] .colab-df-convert {\n",
              "      background-color: #3B4455;\n",
              "      fill: #D2E3FC;\n",
              "    }\n",
              "\n",
              "    [theme=dark] .colab-df-convert:hover {\n",
              "      background-color: #434B5C;\n",
              "      box-shadow: 0px 1px 3px 1px rgba(0, 0, 0, 0.15);\n",
              "      filter: drop-shadow(0px 1px 2px rgba(0, 0, 0, 0.3));\n",
              "      fill: #FFFFFF;\n",
              "    }\n",
              "  </style>\n",
              "\n",
              "      <script>\n",
              "        const buttonEl =\n",
              "          document.querySelector('#df-72bebd9d-2949-4acc-a5c1-ad2f361c4a4b button.colab-df-convert');\n",
              "        buttonEl.style.display =\n",
              "          google.colab.kernel.accessAllowed ? 'block' : 'none';\n",
              "\n",
              "        async function convertToInteractive(key) {\n",
              "          const element = document.querySelector('#df-72bebd9d-2949-4acc-a5c1-ad2f361c4a4b');\n",
              "          const dataTable =\n",
              "            await google.colab.kernel.invokeFunction('convertToInteractive',\n",
              "                                                     [key], {});\n",
              "          if (!dataTable) return;\n",
              "\n",
              "          const docLinkHtml = 'Like what you see? Visit the ' +\n",
              "            '<a target=\"_blank\" href=https://colab.research.google.com/notebooks/data_table.ipynb>data table notebook</a>'\n",
              "            + ' to learn more about interactive tables.';\n",
              "          element.innerHTML = '';\n",
              "          dataTable['output_type'] = 'display_data';\n",
              "          await google.colab.output.renderOutput(dataTable, element);\n",
              "          const docLink = document.createElement('div');\n",
              "          docLink.innerHTML = docLinkHtml;\n",
              "          element.appendChild(docLink);\n",
              "        }\n",
              "      </script>\n",
              "    </div>\n",
              "  </div>\n",
              "  "
            ]
          },
          "metadata": {},
          "execution_count": 51
        }
      ]
    },
    {
      "cell_type": "code",
      "source": [
        "\n",
        "# Create training and test sets\n",
        "from sklearn.model_selection import train_test_split\n",
        "X_train, X_test, y_train, y_test = train_test_split(X, \n",
        "                                                    y, \n",
        "                                                    test_size=0.2, \n",
        "                                                    random_state=42) # set random state for reproducible splits"
      ],
      "metadata": {
        "id": "XEpHuYJeCrV2"
      },
      "execution_count": 52,
      "outputs": []
    },
    {
      "cell_type": "code",
      "source": [
        "# Set random seed\n",
        "tf.random.set_seed(42)\n",
        "\n",
        "# Create a new model (same as model_2)\n",
        "insurance_model = tf.keras.Sequential([\n",
        "  tf.keras.layers.Dense(100),\n",
        "  tf.keras.layers.Dense(50),\n",
        "  tf.keras.layers.Dense(1)\n",
        "])\n",
        "\n",
        "# Compile the model\n",
        "insurance_model.compile(loss=tf.keras.losses.mae,\n",
        "                        optimizer=tf.keras.optimizers.Adam(0.1),\n",
        "                        metrics=['mae'])\n",
        "\n",
        "# Fit the model\n",
        "insurance_model.fit(X_train, y_train, epochs=250,verbose=2)"
      ],
      "metadata": {
        "id": "4rEw5dgWCuLL",
        "colab": {
          "base_uri": "https://localhost:8080/"
        },
        "outputId": "345d6aa0-e574-4212-d8f2-8535a9391abf"
      },
      "execution_count": 53,
      "outputs": [
        {
          "output_type": "stream",
          "name": "stdout",
          "text": [
            "Epoch 1/250\n",
            "34/34 - 2s - loss: 8232.9756 - mae: 8232.9756 - 2s/epoch - 50ms/step\n",
            "Epoch 2/250\n",
            "34/34 - 0s - loss: 6236.7129 - mae: 6236.7129 - 136ms/epoch - 4ms/step\n",
            "Epoch 3/250\n",
            "34/34 - 0s - loss: 4648.9487 - mae: 4648.9487 - 196ms/epoch - 6ms/step\n",
            "Epoch 4/250\n",
            "34/34 - 0s - loss: 4461.6143 - mae: 4461.6143 - 154ms/epoch - 5ms/step\n",
            "Epoch 5/250\n",
            "34/34 - 0s - loss: 4059.1047 - mae: 4059.1047 - 113ms/epoch - 3ms/step\n",
            "Epoch 6/250\n",
            "34/34 - 0s - loss: 3912.0562 - mae: 3912.0562 - 164ms/epoch - 5ms/step\n",
            "Epoch 7/250\n",
            "34/34 - 0s - loss: 4239.3311 - mae: 4239.3311 - 150ms/epoch - 4ms/step\n",
            "Epoch 8/250\n",
            "34/34 - 0s - loss: 4408.6553 - mae: 4408.6553 - 165ms/epoch - 5ms/step\n",
            "Epoch 9/250\n",
            "34/34 - 0s - loss: 3920.8206 - mae: 3920.8206 - 148ms/epoch - 4ms/step\n",
            "Epoch 10/250\n",
            "34/34 - 0s - loss: 3985.5312 - mae: 3985.5312 - 147ms/epoch - 4ms/step\n",
            "Epoch 11/250\n",
            "34/34 - 0s - loss: 3942.1646 - mae: 3942.1646 - 127ms/epoch - 4ms/step\n",
            "Epoch 12/250\n",
            "34/34 - 0s - loss: 4014.5359 - mae: 4014.5359 - 146ms/epoch - 4ms/step\n",
            "Epoch 13/250\n",
            "34/34 - 0s - loss: 3958.4285 - mae: 3958.4285 - 195ms/epoch - 6ms/step\n",
            "Epoch 14/250\n",
            "34/34 - 0s - loss: 4043.5996 - mae: 4043.5996 - 187ms/epoch - 5ms/step\n",
            "Epoch 15/250\n",
            "34/34 - 0s - loss: 4308.2925 - mae: 4308.2925 - 159ms/epoch - 5ms/step\n",
            "Epoch 16/250\n",
            "34/34 - 0s - loss: 3938.2505 - mae: 3938.2505 - 152ms/epoch - 4ms/step\n",
            "Epoch 17/250\n",
            "34/34 - 0s - loss: 3909.1331 - mae: 3909.1331 - 176ms/epoch - 5ms/step\n",
            "Epoch 18/250\n",
            "34/34 - 0s - loss: 3932.7688 - mae: 3932.7688 - 152ms/epoch - 4ms/step\n",
            "Epoch 19/250\n",
            "34/34 - 0s - loss: 3930.9009 - mae: 3930.9009 - 158ms/epoch - 5ms/step\n",
            "Epoch 20/250\n",
            "34/34 - 0s - loss: 3822.6611 - mae: 3822.6611 - 196ms/epoch - 6ms/step\n",
            "Epoch 21/250\n",
            "34/34 - 0s - loss: 4278.6831 - mae: 4278.6831 - 211ms/epoch - 6ms/step\n",
            "Epoch 22/250\n",
            "34/34 - 0s - loss: 3809.8286 - mae: 3809.8286 - 153ms/epoch - 4ms/step\n",
            "Epoch 23/250\n",
            "34/34 - 0s - loss: 3812.0581 - mae: 3812.0581 - 164ms/epoch - 5ms/step\n",
            "Epoch 24/250\n",
            "34/34 - 0s - loss: 3695.8933 - mae: 3695.8933 - 195ms/epoch - 6ms/step\n",
            "Epoch 25/250\n",
            "34/34 - 0s - loss: 3851.1296 - mae: 3851.1296 - 127ms/epoch - 4ms/step\n",
            "Epoch 26/250\n",
            "34/34 - 0s - loss: 4075.8518 - mae: 4075.8518 - 166ms/epoch - 5ms/step\n",
            "Epoch 27/250\n",
            "34/34 - 0s - loss: 3926.7229 - mae: 3926.7229 - 174ms/epoch - 5ms/step\n",
            "Epoch 28/250\n",
            "34/34 - 0s - loss: 3896.2922 - mae: 3896.2922 - 131ms/epoch - 4ms/step\n",
            "Epoch 29/250\n",
            "34/34 - 0s - loss: 3722.1355 - mae: 3722.1355 - 181ms/epoch - 5ms/step\n",
            "Epoch 30/250\n",
            "34/34 - 0s - loss: 3737.3247 - mae: 3737.3247 - 104ms/epoch - 3ms/step\n",
            "Epoch 31/250\n",
            "34/34 - 0s - loss: 3959.4514 - mae: 3959.4514 - 99ms/epoch - 3ms/step\n",
            "Epoch 32/250\n",
            "34/34 - 0s - loss: 3797.7761 - mae: 3797.7761 - 116ms/epoch - 3ms/step\n",
            "Epoch 33/250\n",
            "34/34 - 0s - loss: 3735.7244 - mae: 3735.7244 - 150ms/epoch - 4ms/step\n",
            "Epoch 34/250\n",
            "34/34 - 0s - loss: 3754.2690 - mae: 3754.2690 - 180ms/epoch - 5ms/step\n",
            "Epoch 35/250\n",
            "34/34 - 0s - loss: 3835.5679 - mae: 3835.5679 - 189ms/epoch - 6ms/step\n",
            "Epoch 36/250\n",
            "34/34 - 0s - loss: 3984.5925 - mae: 3984.5925 - 139ms/epoch - 4ms/step\n",
            "Epoch 37/250\n",
            "34/34 - 0s - loss: 3746.1050 - mae: 3746.1050 - 113ms/epoch - 3ms/step\n",
            "Epoch 38/250\n",
            "34/34 - 0s - loss: 3725.9565 - mae: 3725.9565 - 117ms/epoch - 3ms/step\n",
            "Epoch 39/250\n",
            "34/34 - 0s - loss: 3662.8350 - mae: 3662.8350 - 163ms/epoch - 5ms/step\n",
            "Epoch 40/250\n",
            "34/34 - 0s - loss: 3761.9233 - mae: 3761.9233 - 99ms/epoch - 3ms/step\n",
            "Epoch 41/250\n",
            "34/34 - 0s - loss: 4032.9678 - mae: 4032.9678 - 130ms/epoch - 4ms/step\n",
            "Epoch 42/250\n",
            "34/34 - 0s - loss: 4081.7219 - mae: 4081.7219 - 181ms/epoch - 5ms/step\n",
            "Epoch 43/250\n",
            "34/34 - 0s - loss: 3603.6548 - mae: 3603.6548 - 132ms/epoch - 4ms/step\n",
            "Epoch 44/250\n",
            "34/34 - 0s - loss: 3725.3188 - mae: 3725.3188 - 157ms/epoch - 5ms/step\n",
            "Epoch 45/250\n",
            "34/34 - 0s - loss: 3653.6333 - mae: 3653.6333 - 196ms/epoch - 6ms/step\n",
            "Epoch 46/250\n",
            "34/34 - 0s - loss: 3742.4758 - mae: 3742.4758 - 113ms/epoch - 3ms/step\n",
            "Epoch 47/250\n",
            "34/34 - 0s - loss: 3905.5652 - mae: 3905.5652 - 152ms/epoch - 4ms/step\n",
            "Epoch 48/250\n",
            "34/34 - 0s - loss: 3867.1709 - mae: 3867.1709 - 123ms/epoch - 4ms/step\n",
            "Epoch 49/250\n",
            "34/34 - 0s - loss: 4045.5083 - mae: 4045.5083 - 143ms/epoch - 4ms/step\n",
            "Epoch 50/250\n",
            "34/34 - 0s - loss: 3761.0784 - mae: 3761.0784 - 155ms/epoch - 5ms/step\n",
            "Epoch 51/250\n",
            "34/34 - 0s - loss: 3751.7222 - mae: 3751.7222 - 139ms/epoch - 4ms/step\n",
            "Epoch 52/250\n",
            "34/34 - 0s - loss: 3732.2209 - mae: 3732.2209 - 175ms/epoch - 5ms/step\n",
            "Epoch 53/250\n",
            "34/34 - 0s - loss: 3602.7239 - mae: 3602.7239 - 142ms/epoch - 4ms/step\n",
            "Epoch 54/250\n",
            "34/34 - 0s - loss: 3809.4863 - mae: 3809.4863 - 145ms/epoch - 4ms/step\n",
            "Epoch 55/250\n",
            "34/34 - 0s - loss: 3873.1472 - mae: 3873.1472 - 173ms/epoch - 5ms/step\n",
            "Epoch 56/250\n",
            "34/34 - 0s - loss: 4320.6074 - mae: 4320.6074 - 177ms/epoch - 5ms/step\n",
            "Epoch 57/250\n",
            "34/34 - 0s - loss: 4015.2332 - mae: 4015.2332 - 158ms/epoch - 5ms/step\n",
            "Epoch 58/250\n",
            "34/34 - 0s - loss: 3904.9062 - mae: 3904.9062 - 151ms/epoch - 4ms/step\n",
            "Epoch 59/250\n",
            "34/34 - 0s - loss: 3698.7117 - mae: 3698.7117 - 139ms/epoch - 4ms/step\n",
            "Epoch 60/250\n",
            "34/34 - 0s - loss: 3756.9666 - mae: 3756.9666 - 172ms/epoch - 5ms/step\n",
            "Epoch 61/250\n",
            "34/34 - 0s - loss: 3739.1587 - mae: 3739.1587 - 125ms/epoch - 4ms/step\n",
            "Epoch 62/250\n",
            "34/34 - 0s - loss: 3695.6658 - mae: 3695.6658 - 110ms/epoch - 3ms/step\n",
            "Epoch 63/250\n",
            "34/34 - 0s - loss: 3701.0742 - mae: 3701.0742 - 190ms/epoch - 6ms/step\n",
            "Epoch 64/250\n",
            "34/34 - 0s - loss: 3627.2664 - mae: 3627.2664 - 220ms/epoch - 6ms/step\n",
            "Epoch 65/250\n",
            "34/34 - 0s - loss: 3660.3267 - mae: 3660.3267 - 142ms/epoch - 4ms/step\n",
            "Epoch 66/250\n",
            "34/34 - 0s - loss: 3988.2515 - mae: 3988.2515 - 180ms/epoch - 5ms/step\n",
            "Epoch 67/250\n",
            "34/34 - 0s - loss: 3748.3506 - mae: 3748.3506 - 151ms/epoch - 4ms/step\n",
            "Epoch 68/250\n",
            "34/34 - 0s - loss: 3815.3147 - mae: 3815.3147 - 160ms/epoch - 5ms/step\n",
            "Epoch 69/250\n",
            "34/34 - 0s - loss: 3626.8655 - mae: 3626.8655 - 159ms/epoch - 5ms/step\n",
            "Epoch 70/250\n",
            "34/34 - 0s - loss: 3912.2144 - mae: 3912.2144 - 152ms/epoch - 4ms/step\n",
            "Epoch 71/250\n",
            "34/34 - 0s - loss: 3781.4373 - mae: 3781.4373 - 118ms/epoch - 3ms/step\n",
            "Epoch 72/250\n",
            "34/34 - 0s - loss: 3729.7820 - mae: 3729.7820 - 114ms/epoch - 3ms/step\n",
            "Epoch 73/250\n",
            "34/34 - 0s - loss: 3740.1741 - mae: 3740.1741 - 128ms/epoch - 4ms/step\n",
            "Epoch 74/250\n",
            "34/34 - 0s - loss: 3665.6731 - mae: 3665.6731 - 135ms/epoch - 4ms/step\n",
            "Epoch 75/250\n",
            "34/34 - 0s - loss: 3689.8340 - mae: 3689.8340 - 170ms/epoch - 5ms/step\n",
            "Epoch 76/250\n",
            "34/34 - 0s - loss: 3692.4324 - mae: 3692.4324 - 164ms/epoch - 5ms/step\n",
            "Epoch 77/250\n",
            "34/34 - 0s - loss: 3669.4084 - mae: 3669.4084 - 236ms/epoch - 7ms/step\n",
            "Epoch 78/250\n",
            "34/34 - 0s - loss: 3866.2988 - mae: 3866.2988 - 195ms/epoch - 6ms/step\n",
            "Epoch 79/250\n",
            "34/34 - 0s - loss: 3861.6006 - mae: 3861.6006 - 147ms/epoch - 4ms/step\n",
            "Epoch 80/250\n",
            "34/34 - 0s - loss: 3814.9238 - mae: 3814.9238 - 153ms/epoch - 5ms/step\n",
            "Epoch 81/250\n",
            "34/34 - 0s - loss: 3936.8870 - mae: 3936.8870 - 198ms/epoch - 6ms/step\n",
            "Epoch 82/250\n",
            "34/34 - 0s - loss: 3853.0798 - mae: 3853.0798 - 128ms/epoch - 4ms/step\n",
            "Epoch 83/250\n",
            "34/34 - 0s - loss: 3781.7043 - mae: 3781.7043 - 134ms/epoch - 4ms/step\n",
            "Epoch 84/250\n",
            "34/34 - 0s - loss: 3734.5996 - mae: 3734.5996 - 209ms/epoch - 6ms/step\n",
            "Epoch 85/250\n",
            "34/34 - 0s - loss: 3712.3882 - mae: 3712.3882 - 177ms/epoch - 5ms/step\n",
            "Epoch 86/250\n",
            "34/34 - 0s - loss: 3580.8435 - mae: 3580.8435 - 209ms/epoch - 6ms/step\n",
            "Epoch 87/250\n",
            "34/34 - 0s - loss: 3667.3157 - mae: 3667.3157 - 160ms/epoch - 5ms/step\n",
            "Epoch 88/250\n",
            "34/34 - 0s - loss: 3616.3899 - mae: 3616.3899 - 127ms/epoch - 4ms/step\n",
            "Epoch 89/250\n",
            "34/34 - 0s - loss: 3674.2024 - mae: 3674.2024 - 146ms/epoch - 4ms/step\n",
            "Epoch 90/250\n",
            "34/34 - 0s - loss: 3675.8496 - mae: 3675.8496 - 131ms/epoch - 4ms/step\n",
            "Epoch 91/250\n",
            "34/34 - 0s - loss: 3769.2468 - mae: 3769.2468 - 110ms/epoch - 3ms/step\n",
            "Epoch 92/250\n",
            "34/34 - 0s - loss: 3795.1702 - mae: 3795.1702 - 110ms/epoch - 3ms/step\n",
            "Epoch 93/250\n",
            "34/34 - 0s - loss: 3711.3247 - mae: 3711.3247 - 126ms/epoch - 4ms/step\n",
            "Epoch 94/250\n",
            "34/34 - 0s - loss: 3770.0439 - mae: 3770.0439 - 117ms/epoch - 3ms/step\n",
            "Epoch 95/250\n",
            "34/34 - 0s - loss: 3742.2263 - mae: 3742.2263 - 128ms/epoch - 4ms/step\n",
            "Epoch 96/250\n",
            "34/34 - 0s - loss: 3740.9709 - mae: 3740.9709 - 103ms/epoch - 3ms/step\n",
            "Epoch 97/250\n",
            "34/34 - 0s - loss: 4290.7744 - mae: 4290.7744 - 101ms/epoch - 3ms/step\n",
            "Epoch 98/250\n",
            "34/34 - 0s - loss: 3765.5920 - mae: 3765.5920 - 142ms/epoch - 4ms/step\n",
            "Epoch 99/250\n",
            "34/34 - 0s - loss: 3727.2864 - mae: 3727.2864 - 115ms/epoch - 3ms/step\n",
            "Epoch 100/250\n",
            "34/34 - 0s - loss: 3660.8733 - mae: 3660.8733 - 140ms/epoch - 4ms/step\n",
            "Epoch 101/250\n",
            "34/34 - 0s - loss: 3633.3499 - mae: 3633.3499 - 105ms/epoch - 3ms/step\n",
            "Epoch 102/250\n",
            "34/34 - 0s - loss: 3734.7178 - mae: 3734.7178 - 124ms/epoch - 4ms/step\n",
            "Epoch 103/250\n",
            "34/34 - 0s - loss: 3656.0503 - mae: 3656.0503 - 107ms/epoch - 3ms/step\n",
            "Epoch 104/250\n",
            "34/34 - 0s - loss: 3663.8250 - mae: 3663.8250 - 104ms/epoch - 3ms/step\n",
            "Epoch 105/250\n",
            "34/34 - 0s - loss: 3656.2178 - mae: 3656.2178 - 70ms/epoch - 2ms/step\n",
            "Epoch 106/250\n",
            "34/34 - 0s - loss: 3638.9526 - mae: 3638.9526 - 60ms/epoch - 2ms/step\n",
            "Epoch 107/250\n",
            "34/34 - 0s - loss: 3841.4836 - mae: 3841.4836 - 63ms/epoch - 2ms/step\n",
            "Epoch 108/250\n",
            "34/34 - 0s - loss: 3714.9756 - mae: 3714.9756 - 68ms/epoch - 2ms/step\n",
            "Epoch 109/250\n",
            "34/34 - 0s - loss: 3676.1626 - mae: 3676.1626 - 62ms/epoch - 2ms/step\n",
            "Epoch 110/250\n",
            "34/34 - 0s - loss: 3853.0740 - mae: 3853.0740 - 71ms/epoch - 2ms/step\n",
            "Epoch 111/250\n",
            "34/34 - 0s - loss: 3794.6240 - mae: 3794.6240 - 62ms/epoch - 2ms/step\n",
            "Epoch 112/250\n",
            "34/34 - 0s - loss: 3624.6636 - mae: 3624.6636 - 62ms/epoch - 2ms/step\n",
            "Epoch 113/250\n",
            "34/34 - 0s - loss: 3734.1833 - mae: 3734.1833 - 61ms/epoch - 2ms/step\n",
            "Epoch 114/250\n",
            "34/34 - 0s - loss: 3748.5410 - mae: 3748.5410 - 57ms/epoch - 2ms/step\n",
            "Epoch 115/250\n",
            "34/34 - 0s - loss: 3803.1897 - mae: 3803.1897 - 58ms/epoch - 2ms/step\n",
            "Epoch 116/250\n",
            "34/34 - 0s - loss: 3712.9446 - mae: 3712.9446 - 61ms/epoch - 2ms/step\n",
            "Epoch 117/250\n",
            "34/34 - 0s - loss: 3793.5203 - mae: 3793.5203 - 60ms/epoch - 2ms/step\n",
            "Epoch 118/250\n",
            "34/34 - 0s - loss: 3640.6570 - mae: 3640.6570 - 68ms/epoch - 2ms/step\n",
            "Epoch 119/250\n",
            "34/34 - 0s - loss: 3715.1760 - mae: 3715.1760 - 64ms/epoch - 2ms/step\n",
            "Epoch 120/250\n",
            "34/34 - 0s - loss: 3809.1436 - mae: 3809.1436 - 57ms/epoch - 2ms/step\n",
            "Epoch 121/250\n",
            "34/34 - 0s - loss: 3718.3872 - mae: 3718.3872 - 63ms/epoch - 2ms/step\n",
            "Epoch 122/250\n",
            "34/34 - 0s - loss: 3606.8035 - mae: 3606.8035 - 61ms/epoch - 2ms/step\n",
            "Epoch 123/250\n",
            "34/34 - 0s - loss: 3589.8267 - mae: 3589.8267 - 81ms/epoch - 2ms/step\n",
            "Epoch 124/250\n",
            "34/34 - 0s - loss: 3583.0198 - mae: 3583.0198 - 57ms/epoch - 2ms/step\n",
            "Epoch 125/250\n",
            "34/34 - 0s - loss: 3602.3345 - mae: 3602.3345 - 82ms/epoch - 2ms/step\n",
            "Epoch 126/250\n",
            "34/34 - 0s - loss: 3761.7688 - mae: 3761.7688 - 59ms/epoch - 2ms/step\n",
            "Epoch 127/250\n",
            "34/34 - 0s - loss: 3615.9092 - mae: 3615.9092 - 63ms/epoch - 2ms/step\n",
            "Epoch 128/250\n",
            "34/34 - 0s - loss: 3808.0605 - mae: 3808.0605 - 59ms/epoch - 2ms/step\n",
            "Epoch 129/250\n",
            "34/34 - 0s - loss: 3778.2861 - mae: 3778.2861 - 60ms/epoch - 2ms/step\n",
            "Epoch 130/250\n",
            "34/34 - 0s - loss: 3832.1775 - mae: 3832.1775 - 65ms/epoch - 2ms/step\n",
            "Epoch 131/250\n",
            "34/34 - 0s - loss: 3622.5559 - mae: 3622.5559 - 63ms/epoch - 2ms/step\n",
            "Epoch 132/250\n",
            "34/34 - 0s - loss: 3671.8430 - mae: 3671.8430 - 62ms/epoch - 2ms/step\n",
            "Epoch 133/250\n",
            "34/34 - 0s - loss: 3794.7485 - mae: 3794.7485 - 61ms/epoch - 2ms/step\n",
            "Epoch 134/250\n",
            "34/34 - 0s - loss: 3690.5588 - mae: 3690.5588 - 59ms/epoch - 2ms/step\n",
            "Epoch 135/250\n",
            "34/34 - 0s - loss: 3609.7358 - mae: 3609.7358 - 57ms/epoch - 2ms/step\n",
            "Epoch 136/250\n",
            "34/34 - 0s - loss: 3673.0571 - mae: 3673.0571 - 68ms/epoch - 2ms/step\n",
            "Epoch 137/250\n",
            "34/34 - 0s - loss: 3825.7151 - mae: 3825.7151 - 57ms/epoch - 2ms/step\n",
            "Epoch 138/250\n",
            "34/34 - 0s - loss: 4013.6350 - mae: 4013.6350 - 77ms/epoch - 2ms/step\n",
            "Epoch 139/250\n",
            "34/34 - 0s - loss: 4060.6355 - mae: 4060.6355 - 55ms/epoch - 2ms/step\n",
            "Epoch 140/250\n",
            "34/34 - 0s - loss: 3753.5481 - mae: 3753.5481 - 61ms/epoch - 2ms/step\n",
            "Epoch 141/250\n",
            "34/34 - 0s - loss: 3838.5986 - mae: 3838.5986 - 62ms/epoch - 2ms/step\n",
            "Epoch 142/250\n",
            "34/34 - 0s - loss: 3847.3838 - mae: 3847.3838 - 60ms/epoch - 2ms/step\n",
            "Epoch 143/250\n",
            "34/34 - 0s - loss: 3852.0381 - mae: 3852.0381 - 61ms/epoch - 2ms/step\n",
            "Epoch 144/250\n",
            "34/34 - 0s - loss: 3691.2759 - mae: 3691.2759 - 65ms/epoch - 2ms/step\n",
            "Epoch 145/250\n",
            "34/34 - 0s - loss: 3700.3340 - mae: 3700.3340 - 63ms/epoch - 2ms/step\n",
            "Epoch 146/250\n",
            "34/34 - 0s - loss: 3696.4524 - mae: 3696.4524 - 62ms/epoch - 2ms/step\n",
            "Epoch 147/250\n",
            "34/34 - 0s - loss: 3766.7461 - mae: 3766.7461 - 63ms/epoch - 2ms/step\n",
            "Epoch 148/250\n",
            "34/34 - 0s - loss: 3827.4673 - mae: 3827.4673 - 58ms/epoch - 2ms/step\n",
            "Epoch 149/250\n",
            "34/34 - 0s - loss: 3644.5654 - mae: 3644.5654 - 63ms/epoch - 2ms/step\n",
            "Epoch 150/250\n",
            "34/34 - 0s - loss: 3632.7031 - mae: 3632.7031 - 69ms/epoch - 2ms/step\n",
            "Epoch 151/250\n",
            "34/34 - 0s - loss: 3544.3489 - mae: 3544.3489 - 67ms/epoch - 2ms/step\n",
            "Epoch 152/250\n",
            "34/34 - 0s - loss: 3583.4978 - mae: 3583.4978 - 57ms/epoch - 2ms/step\n",
            "Epoch 153/250\n",
            "34/34 - 0s - loss: 3583.2402 - mae: 3583.2402 - 72ms/epoch - 2ms/step\n",
            "Epoch 154/250\n",
            "34/34 - 0s - loss: 3837.5002 - mae: 3837.5002 - 61ms/epoch - 2ms/step\n",
            "Epoch 155/250\n",
            "34/34 - 0s - loss: 3653.1672 - mae: 3653.1672 - 69ms/epoch - 2ms/step\n",
            "Epoch 156/250\n",
            "34/34 - 0s - loss: 3780.5103 - mae: 3780.5103 - 64ms/epoch - 2ms/step\n",
            "Epoch 157/250\n",
            "34/34 - 0s - loss: 3662.0437 - mae: 3662.0437 - 57ms/epoch - 2ms/step\n",
            "Epoch 158/250\n",
            "34/34 - 0s - loss: 3706.1414 - mae: 3706.1414 - 58ms/epoch - 2ms/step\n",
            "Epoch 159/250\n",
            "34/34 - 0s - loss: 3598.0264 - mae: 3598.0264 - 59ms/epoch - 2ms/step\n",
            "Epoch 160/250\n",
            "34/34 - 0s - loss: 3669.7317 - mae: 3669.7317 - 58ms/epoch - 2ms/step\n",
            "Epoch 161/250\n",
            "34/34 - 0s - loss: 3553.6648 - mae: 3553.6648 - 60ms/epoch - 2ms/step\n",
            "Epoch 162/250\n",
            "34/34 - 0s - loss: 3581.2212 - mae: 3581.2212 - 58ms/epoch - 2ms/step\n",
            "Epoch 163/250\n",
            "34/34 - 0s - loss: 3694.7502 - mae: 3694.7502 - 58ms/epoch - 2ms/step\n",
            "Epoch 164/250\n",
            "34/34 - 0s - loss: 3586.0696 - mae: 3586.0696 - 67ms/epoch - 2ms/step\n",
            "Epoch 165/250\n",
            "34/34 - 0s - loss: 3590.7891 - mae: 3590.7891 - 68ms/epoch - 2ms/step\n",
            "Epoch 166/250\n",
            "34/34 - 0s - loss: 3604.0645 - mae: 3604.0645 - 65ms/epoch - 2ms/step\n",
            "Epoch 167/250\n",
            "34/34 - 0s - loss: 3717.8352 - mae: 3717.8352 - 72ms/epoch - 2ms/step\n",
            "Epoch 168/250\n",
            "34/34 - 0s - loss: 3615.4727 - mae: 3615.4727 - 71ms/epoch - 2ms/step\n",
            "Epoch 169/250\n",
            "34/34 - 0s - loss: 3697.4028 - mae: 3697.4028 - 60ms/epoch - 2ms/step\n",
            "Epoch 170/250\n",
            "34/34 - 0s - loss: 3599.1270 - mae: 3599.1270 - 62ms/epoch - 2ms/step\n",
            "Epoch 171/250\n",
            "34/34 - 0s - loss: 3750.8428 - mae: 3750.8428 - 65ms/epoch - 2ms/step\n",
            "Epoch 172/250\n",
            "34/34 - 0s - loss: 3693.0737 - mae: 3693.0737 - 60ms/epoch - 2ms/step\n",
            "Epoch 173/250\n",
            "34/34 - 0s - loss: 3587.1724 - mae: 3587.1724 - 59ms/epoch - 2ms/step\n",
            "Epoch 174/250\n",
            "34/34 - 0s - loss: 3558.9727 - mae: 3558.9727 - 59ms/epoch - 2ms/step\n",
            "Epoch 175/250\n",
            "34/34 - 0s - loss: 3549.0654 - mae: 3549.0654 - 57ms/epoch - 2ms/step\n",
            "Epoch 176/250\n",
            "34/34 - 0s - loss: 3616.2991 - mae: 3616.2991 - 57ms/epoch - 2ms/step\n",
            "Epoch 177/250\n",
            "34/34 - 0s - loss: 3624.6143 - mae: 3624.6143 - 73ms/epoch - 2ms/step\n",
            "Epoch 178/250\n",
            "34/34 - 0s - loss: 3614.9946 - mae: 3614.9946 - 61ms/epoch - 2ms/step\n",
            "Epoch 179/250\n",
            "34/34 - 0s - loss: 3758.6826 - mae: 3758.6826 - 57ms/epoch - 2ms/step\n",
            "Epoch 180/250\n",
            "34/34 - 0s - loss: 3599.8203 - mae: 3599.8203 - 63ms/epoch - 2ms/step\n",
            "Epoch 181/250\n",
            "34/34 - 0s - loss: 3744.0735 - mae: 3744.0735 - 66ms/epoch - 2ms/step\n",
            "Epoch 182/250\n",
            "34/34 - 0s - loss: 3610.2234 - mae: 3610.2234 - 61ms/epoch - 2ms/step\n",
            "Epoch 183/250\n",
            "34/34 - 0s - loss: 3740.1616 - mae: 3740.1616 - 71ms/epoch - 2ms/step\n",
            "Epoch 184/250\n",
            "34/34 - 0s - loss: 3589.3767 - mae: 3589.3767 - 59ms/epoch - 2ms/step\n",
            "Epoch 185/250\n",
            "34/34 - 0s - loss: 3568.5168 - mae: 3568.5168 - 57ms/epoch - 2ms/step\n",
            "Epoch 186/250\n",
            "34/34 - 0s - loss: 3729.7200 - mae: 3729.7200 - 57ms/epoch - 2ms/step\n",
            "Epoch 187/250\n",
            "34/34 - 0s - loss: 3736.6765 - mae: 3736.6765 - 57ms/epoch - 2ms/step\n",
            "Epoch 188/250\n",
            "34/34 - 0s - loss: 3693.1345 - mae: 3693.1345 - 57ms/epoch - 2ms/step\n",
            "Epoch 189/250\n",
            "34/34 - 0s - loss: 3783.0452 - mae: 3783.0452 - 61ms/epoch - 2ms/step\n",
            "Epoch 190/250\n",
            "34/34 - 0s - loss: 3727.7292 - mae: 3727.7292 - 67ms/epoch - 2ms/step\n",
            "Epoch 191/250\n",
            "34/34 - 0s - loss: 3662.6296 - mae: 3662.6296 - 65ms/epoch - 2ms/step\n",
            "Epoch 192/250\n",
            "34/34 - 0s - loss: 3784.0637 - mae: 3784.0637 - 60ms/epoch - 2ms/step\n",
            "Epoch 193/250\n",
            "34/34 - 0s - loss: 3646.5996 - mae: 3646.5996 - 67ms/epoch - 2ms/step\n",
            "Epoch 194/250\n",
            "34/34 - 0s - loss: 3789.4651 - mae: 3789.4651 - 58ms/epoch - 2ms/step\n",
            "Epoch 195/250\n",
            "34/34 - 0s - loss: 3706.3767 - mae: 3706.3767 - 58ms/epoch - 2ms/step\n",
            "Epoch 196/250\n",
            "34/34 - 0s - loss: 3528.2368 - mae: 3528.2368 - 59ms/epoch - 2ms/step\n",
            "Epoch 197/250\n",
            "34/34 - 0s - loss: 3728.0193 - mae: 3728.0193 - 56ms/epoch - 2ms/step\n",
            "Epoch 198/250\n",
            "34/34 - 0s - loss: 3772.1038 - mae: 3772.1038 - 69ms/epoch - 2ms/step\n",
            "Epoch 199/250\n",
            "34/34 - 0s - loss: 3802.9641 - mae: 3802.9641 - 61ms/epoch - 2ms/step\n",
            "Epoch 200/250\n",
            "34/34 - 0s - loss: 3757.1313 - mae: 3757.1313 - 58ms/epoch - 2ms/step\n",
            "Epoch 201/250\n",
            "34/34 - 0s - loss: 3566.7468 - mae: 3566.7468 - 57ms/epoch - 2ms/step\n",
            "Epoch 202/250\n",
            "34/34 - 0s - loss: 3581.4207 - mae: 3581.4207 - 57ms/epoch - 2ms/step\n",
            "Epoch 203/250\n",
            "34/34 - 0s - loss: 3557.5723 - mae: 3557.5723 - 57ms/epoch - 2ms/step\n",
            "Epoch 204/250\n",
            "34/34 - 0s - loss: 3690.6230 - mae: 3690.6230 - 68ms/epoch - 2ms/step\n",
            "Epoch 205/250\n",
            "34/34 - 0s - loss: 3568.3574 - mae: 3568.3574 - 60ms/epoch - 2ms/step\n",
            "Epoch 206/250\n",
            "34/34 - 0s - loss: 3635.0713 - mae: 3635.0713 - 61ms/epoch - 2ms/step\n",
            "Epoch 207/250\n",
            "34/34 - 0s - loss: 3661.6929 - mae: 3661.6929 - 62ms/epoch - 2ms/step\n",
            "Epoch 208/250\n",
            "34/34 - 0s - loss: 3600.6208 - mae: 3600.6208 - 65ms/epoch - 2ms/step\n",
            "Epoch 209/250\n",
            "34/34 - 0s - loss: 3654.9524 - mae: 3654.9524 - 60ms/epoch - 2ms/step\n",
            "Epoch 210/250\n",
            "34/34 - 0s - loss: 3700.9045 - mae: 3700.9045 - 57ms/epoch - 2ms/step\n",
            "Epoch 211/250\n",
            "34/34 - 0s - loss: 3853.3635 - mae: 3853.3635 - 63ms/epoch - 2ms/step\n",
            "Epoch 212/250\n",
            "34/34 - 0s - loss: 3686.4009 - mae: 3686.4009 - 75ms/epoch - 2ms/step\n",
            "Epoch 213/250\n",
            "34/34 - 0s - loss: 3654.4077 - mae: 3654.4077 - 84ms/epoch - 2ms/step\n",
            "Epoch 214/250\n",
            "34/34 - 0s - loss: 3721.6887 - mae: 3721.6887 - 68ms/epoch - 2ms/step\n",
            "Epoch 215/250\n",
            "34/34 - 0s - loss: 3769.3870 - mae: 3769.3870 - 66ms/epoch - 2ms/step\n",
            "Epoch 216/250\n",
            "34/34 - 0s - loss: 3668.0710 - mae: 3668.0710 - 65ms/epoch - 2ms/step\n",
            "Epoch 217/250\n",
            "34/34 - 0s - loss: 3645.7761 - mae: 3645.7761 - 66ms/epoch - 2ms/step\n",
            "Epoch 218/250\n",
            "34/34 - 0s - loss: 3631.5750 - mae: 3631.5750 - 64ms/epoch - 2ms/step\n",
            "Epoch 219/250\n",
            "34/34 - 0s - loss: 3633.2053 - mae: 3633.2053 - 62ms/epoch - 2ms/step\n",
            "Epoch 220/250\n",
            "34/34 - 0s - loss: 3642.1792 - mae: 3642.1792 - 59ms/epoch - 2ms/step\n",
            "Epoch 221/250\n",
            "34/34 - 0s - loss: 3658.4497 - mae: 3658.4497 - 66ms/epoch - 2ms/step\n",
            "Epoch 222/250\n",
            "34/34 - 0s - loss: 3810.3210 - mae: 3810.3210 - 64ms/epoch - 2ms/step\n",
            "Epoch 223/250\n",
            "34/34 - 0s - loss: 3619.1282 - mae: 3619.1282 - 65ms/epoch - 2ms/step\n",
            "Epoch 224/250\n",
            "34/34 - 0s - loss: 3702.2969 - mae: 3702.2969 - 61ms/epoch - 2ms/step\n",
            "Epoch 225/250\n",
            "34/34 - 0s - loss: 3591.7517 - mae: 3591.7517 - 63ms/epoch - 2ms/step\n",
            "Epoch 226/250\n",
            "34/34 - 0s - loss: 3590.5686 - mae: 3590.5686 - 63ms/epoch - 2ms/step\n",
            "Epoch 227/250\n",
            "34/34 - 0s - loss: 3592.1985 - mae: 3592.1985 - 72ms/epoch - 2ms/step\n",
            "Epoch 228/250\n",
            "34/34 - 0s - loss: 3597.8765 - mae: 3597.8765 - 61ms/epoch - 2ms/step\n",
            "Epoch 229/250\n",
            "34/34 - 0s - loss: 3565.9534 - mae: 3565.9534 - 65ms/epoch - 2ms/step\n",
            "Epoch 230/250\n",
            "34/34 - 0s - loss: 3803.7917 - mae: 3803.7917 - 58ms/epoch - 2ms/step\n",
            "Epoch 231/250\n",
            "34/34 - 0s - loss: 3606.5134 - mae: 3606.5134 - 56ms/epoch - 2ms/step\n",
            "Epoch 232/250\n",
            "34/34 - 0s - loss: 3606.9944 - mae: 3606.9944 - 60ms/epoch - 2ms/step\n",
            "Epoch 233/250\n",
            "34/34 - 0s - loss: 3661.5718 - mae: 3661.5718 - 59ms/epoch - 2ms/step\n",
            "Epoch 234/250\n",
            "34/34 - 0s - loss: 3547.2666 - mae: 3547.2666 - 59ms/epoch - 2ms/step\n",
            "Epoch 235/250\n",
            "34/34 - 0s - loss: 3683.9810 - mae: 3683.9810 - 58ms/epoch - 2ms/step\n",
            "Epoch 236/250\n",
            "34/34 - 0s - loss: 3653.8157 - mae: 3653.8157 - 60ms/epoch - 2ms/step\n",
            "Epoch 237/250\n",
            "34/34 - 0s - loss: 3766.8630 - mae: 3766.8630 - 60ms/epoch - 2ms/step\n",
            "Epoch 238/250\n",
            "34/34 - 0s - loss: 3651.2017 - mae: 3651.2017 - 59ms/epoch - 2ms/step\n",
            "Epoch 239/250\n",
            "34/34 - 0s - loss: 3548.3984 - mae: 3548.3984 - 61ms/epoch - 2ms/step\n",
            "Epoch 240/250\n",
            "34/34 - 0s - loss: 3758.5059 - mae: 3758.5059 - 58ms/epoch - 2ms/step\n",
            "Epoch 241/250\n",
            "34/34 - 0s - loss: 3600.3079 - mae: 3600.3079 - 57ms/epoch - 2ms/step\n",
            "Epoch 242/250\n",
            "34/34 - 0s - loss: 3612.0264 - mae: 3612.0264 - 57ms/epoch - 2ms/step\n",
            "Epoch 243/250\n",
            "34/34 - 0s - loss: 3702.5864 - mae: 3702.5864 - 68ms/epoch - 2ms/step\n",
            "Epoch 244/250\n",
            "34/34 - 0s - loss: 3551.2312 - mae: 3551.2312 - 57ms/epoch - 2ms/step\n",
            "Epoch 245/250\n",
            "34/34 - 0s - loss: 3809.3728 - mae: 3809.3728 - 56ms/epoch - 2ms/step\n",
            "Epoch 246/250\n",
            "34/34 - 0s - loss: 3664.1421 - mae: 3664.1421 - 57ms/epoch - 2ms/step\n",
            "Epoch 247/250\n",
            "34/34 - 0s - loss: 3715.9722 - mae: 3715.9722 - 55ms/epoch - 2ms/step\n",
            "Epoch 248/250\n",
            "34/34 - 0s - loss: 3788.9119 - mae: 3788.9119 - 59ms/epoch - 2ms/step\n",
            "Epoch 249/250\n",
            "34/34 - 0s - loss: 3674.9915 - mae: 3674.9915 - 57ms/epoch - 2ms/step\n",
            "Epoch 250/250\n",
            "34/34 - 0s - loss: 3699.2002 - mae: 3699.2002 - 64ms/epoch - 2ms/step\n"
          ]
        },
        {
          "output_type": "execute_result",
          "data": {
            "text/plain": [
              "<keras.callbacks.History at 0x7f17be8d0a50>"
            ]
          },
          "metadata": {},
          "execution_count": 53
        }
      ]
    },
    {
      "cell_type": "code",
      "source": [
        "insurance_model.evaluate(X_test,y_test)"
      ],
      "metadata": {
        "id": "-6EN8kkGT-Fc",
        "colab": {
          "base_uri": "https://localhost:8080/"
        },
        "outputId": "07222ef9-6b2d-4127-adad-907c0a1e43e1"
      },
      "execution_count": 54,
      "outputs": [
        {
          "output_type": "stream",
          "name": "stdout",
          "text": [
            "9/9 [==============================] - 0s 2ms/step - loss: 3587.2849 - mae: 3587.2849\n"
          ]
        },
        {
          "output_type": "execute_result",
          "data": {
            "text/plain": [
              "[3587.284912109375, 3587.284912109375]"
            ]
          },
          "metadata": {},
          "execution_count": 54
        }
      ]
    },
    {
      "cell_type": "code",
      "source": [
        "y_train.median(),y_train.mean()"
      ],
      "metadata": {
        "id": "TmmQTWvfUjuO",
        "colab": {
          "base_uri": "https://localhost:8080/"
        },
        "outputId": "d9158875-b649-4b8e-e381-58a3cba670ed"
      },
      "execution_count": 55,
      "outputs": [
        {
          "output_type": "execute_result",
          "data": {
            "text/plain": [
              "(9575.4421, 13346.089736364485)"
            ]
          },
          "metadata": {},
          "execution_count": 55
        }
      ]
    },
    {
      "cell_type": "code",
      "source": [
        "# Set random seed\n",
        "tf.random.set_seed(42)\n",
        "\n",
        "# Create a new model (same as model_2)\n",
        "insurance_model = tf.keras.Sequential([\n",
        "  tf.keras.layers.Dense(500),\n",
        "  tf.keras.layers.Dense(100),\n",
        "  tf.keras.layers.Dense(100),\n",
        "  tf.keras.layers.Dense(1),\n",
        "\n",
        "\n",
        "])\n",
        "\n",
        "# Compile the model\n",
        "insurance_model.compile(loss=tf.keras.losses.mae,\n",
        "                        optimizer=tf.keras.optimizers.Adam(),\n",
        "                        metrics=['mae'])\n",
        "\n",
        "# Fit the model\n",
        "history=insurance_model.fit(X_train, y_train, epochs=300,verbose=2)"
      ],
      "metadata": {
        "id": "8_L77ScjjgDL",
        "colab": {
          "base_uri": "https://localhost:8080/"
        },
        "outputId": "3ddee0bb-6375-40b2-a736-592e1a1dde3f"
      },
      "execution_count": 56,
      "outputs": [
        {
          "output_type": "stream",
          "name": "stdout",
          "text": [
            "Epoch 1/300\n",
            "34/34 - 1s - loss: 12018.3857 - mae: 12018.3857 - 571ms/epoch - 17ms/step\n",
            "Epoch 2/300\n",
            "34/34 - 0s - loss: 7532.8237 - mae: 7532.8237 - 87ms/epoch - 3ms/step\n",
            "Epoch 3/300\n",
            "34/34 - 0s - loss: 7256.1143 - mae: 7256.1143 - 86ms/epoch - 3ms/step\n",
            "Epoch 4/300\n",
            "34/34 - 0s - loss: 7052.1528 - mae: 7052.1528 - 86ms/epoch - 3ms/step\n",
            "Epoch 5/300\n",
            "34/34 - 0s - loss: 6864.7529 - mae: 6864.7529 - 92ms/epoch - 3ms/step\n",
            "Epoch 6/300\n",
            "34/34 - 0s - loss: 6662.5781 - mae: 6662.5781 - 87ms/epoch - 3ms/step\n",
            "Epoch 7/300\n",
            "34/34 - 0s - loss: 6600.0093 - mae: 6600.0093 - 89ms/epoch - 3ms/step\n",
            "Epoch 8/300\n",
            "34/34 - 0s - loss: 6465.3379 - mae: 6465.3379 - 96ms/epoch - 3ms/step\n",
            "Epoch 9/300\n",
            "34/34 - 0s - loss: 6401.5718 - mae: 6401.5718 - 88ms/epoch - 3ms/step\n",
            "Epoch 10/300\n",
            "34/34 - 0s - loss: 6304.1616 - mae: 6304.1616 - 87ms/epoch - 3ms/step\n",
            "Epoch 11/300\n",
            "34/34 - 0s - loss: 6255.5547 - mae: 6255.5547 - 93ms/epoch - 3ms/step\n",
            "Epoch 12/300\n",
            "34/34 - 0s - loss: 6136.4951 - mae: 6136.4951 - 98ms/epoch - 3ms/step\n",
            "Epoch 13/300\n",
            "34/34 - 0s - loss: 5953.7754 - mae: 5953.7754 - 88ms/epoch - 3ms/step\n",
            "Epoch 14/300\n",
            "34/34 - 0s - loss: 5720.6011 - mae: 5720.6011 - 86ms/epoch - 3ms/step\n",
            "Epoch 15/300\n",
            "34/34 - 0s - loss: 5400.6968 - mae: 5400.6968 - 114ms/epoch - 3ms/step\n",
            "Epoch 16/300\n",
            "34/34 - 0s - loss: 4837.8433 - mae: 4837.8433 - 91ms/epoch - 3ms/step\n",
            "Epoch 17/300\n",
            "34/34 - 0s - loss: 4095.2859 - mae: 4095.2859 - 92ms/epoch - 3ms/step\n",
            "Epoch 18/300\n",
            "34/34 - 0s - loss: 3898.9565 - mae: 3898.9565 - 88ms/epoch - 3ms/step\n",
            "Epoch 19/300\n",
            "34/34 - 0s - loss: 3846.8513 - mae: 3846.8513 - 94ms/epoch - 3ms/step\n",
            "Epoch 20/300\n",
            "34/34 - 0s - loss: 3870.1572 - mae: 3870.1572 - 80ms/epoch - 2ms/step\n",
            "Epoch 21/300\n",
            "34/34 - 0s - loss: 3863.8025 - mae: 3863.8025 - 92ms/epoch - 3ms/step\n",
            "Epoch 22/300\n",
            "34/34 - 0s - loss: 3840.6519 - mae: 3840.6519 - 84ms/epoch - 2ms/step\n",
            "Epoch 23/300\n",
            "34/34 - 0s - loss: 3801.3782 - mae: 3801.3782 - 87ms/epoch - 3ms/step\n",
            "Epoch 24/300\n",
            "34/34 - 0s - loss: 3800.1982 - mae: 3800.1982 - 97ms/epoch - 3ms/step\n",
            "Epoch 25/300\n",
            "34/34 - 0s - loss: 3853.9253 - mae: 3853.9253 - 85ms/epoch - 3ms/step\n",
            "Epoch 26/300\n",
            "34/34 - 0s - loss: 3790.9624 - mae: 3790.9624 - 80ms/epoch - 2ms/step\n",
            "Epoch 27/300\n",
            "34/34 - 0s - loss: 3804.9929 - mae: 3804.9929 - 83ms/epoch - 2ms/step\n",
            "Epoch 28/300\n",
            "34/34 - 0s - loss: 3715.8794 - mae: 3715.8794 - 83ms/epoch - 2ms/step\n",
            "Epoch 29/300\n",
            "34/34 - 0s - loss: 3756.7131 - mae: 3756.7131 - 86ms/epoch - 3ms/step\n",
            "Epoch 30/300\n",
            "34/34 - 0s - loss: 3747.0728 - mae: 3747.0728 - 93ms/epoch - 3ms/step\n",
            "Epoch 31/300\n",
            "34/34 - 0s - loss: 3705.2463 - mae: 3705.2463 - 86ms/epoch - 3ms/step\n",
            "Epoch 32/300\n",
            "34/34 - 0s - loss: 3668.8479 - mae: 3668.8479 - 90ms/epoch - 3ms/step\n",
            "Epoch 33/300\n",
            "34/34 - 0s - loss: 3676.4736 - mae: 3676.4736 - 89ms/epoch - 3ms/step\n",
            "Epoch 34/300\n",
            "34/34 - 0s - loss: 3671.5166 - mae: 3671.5166 - 87ms/epoch - 3ms/step\n",
            "Epoch 35/300\n",
            "34/34 - 0s - loss: 3643.9387 - mae: 3643.9387 - 84ms/epoch - 2ms/step\n",
            "Epoch 36/300\n",
            "34/34 - 0s - loss: 3637.6460 - mae: 3637.6460 - 83ms/epoch - 2ms/step\n",
            "Epoch 37/300\n",
            "34/34 - 0s - loss: 3614.3176 - mae: 3614.3176 - 83ms/epoch - 2ms/step\n",
            "Epoch 38/300\n",
            "34/34 - 0s - loss: 3604.5176 - mae: 3604.5176 - 82ms/epoch - 2ms/step\n",
            "Epoch 39/300\n",
            "34/34 - 0s - loss: 3629.0562 - mae: 3629.0562 - 81ms/epoch - 2ms/step\n",
            "Epoch 40/300\n",
            "34/34 - 0s - loss: 3613.8181 - mae: 3613.8181 - 86ms/epoch - 3ms/step\n",
            "Epoch 41/300\n",
            "34/34 - 0s - loss: 3693.5383 - mae: 3693.5383 - 90ms/epoch - 3ms/step\n",
            "Epoch 42/300\n",
            "34/34 - 0s - loss: 3595.4290 - mae: 3595.4290 - 89ms/epoch - 3ms/step\n",
            "Epoch 43/300\n",
            "34/34 - 0s - loss: 3587.1174 - mae: 3587.1174 - 86ms/epoch - 3ms/step\n",
            "Epoch 44/300\n",
            "34/34 - 0s - loss: 3597.5645 - mae: 3597.5645 - 86ms/epoch - 3ms/step\n",
            "Epoch 45/300\n",
            "34/34 - 0s - loss: 3602.1646 - mae: 3602.1646 - 90ms/epoch - 3ms/step\n",
            "Epoch 46/300\n",
            "34/34 - 0s - loss: 3549.6096 - mae: 3549.6096 - 90ms/epoch - 3ms/step\n",
            "Epoch 47/300\n",
            "34/34 - 0s - loss: 3575.6072 - mae: 3575.6072 - 83ms/epoch - 2ms/step\n",
            "Epoch 48/300\n",
            "34/34 - 0s - loss: 3560.1587 - mae: 3560.1587 - 84ms/epoch - 2ms/step\n",
            "Epoch 49/300\n",
            "34/34 - 0s - loss: 3550.5247 - mae: 3550.5247 - 85ms/epoch - 2ms/step\n",
            "Epoch 50/300\n",
            "34/34 - 0s - loss: 3588.1296 - mae: 3588.1296 - 90ms/epoch - 3ms/step\n",
            "Epoch 51/300\n",
            "34/34 - 0s - loss: 3514.0576 - mae: 3514.0576 - 83ms/epoch - 2ms/step\n",
            "Epoch 52/300\n",
            "34/34 - 0s - loss: 3509.1926 - mae: 3509.1926 - 92ms/epoch - 3ms/step\n",
            "Epoch 53/300\n",
            "34/34 - 0s - loss: 3510.9463 - mae: 3510.9463 - 91ms/epoch - 3ms/step\n",
            "Epoch 54/300\n",
            "34/34 - 0s - loss: 3533.0571 - mae: 3533.0571 - 82ms/epoch - 2ms/step\n",
            "Epoch 55/300\n",
            "34/34 - 0s - loss: 3572.6809 - mae: 3572.6809 - 84ms/epoch - 2ms/step\n",
            "Epoch 56/300\n",
            "34/34 - 0s - loss: 3504.0664 - mae: 3504.0664 - 89ms/epoch - 3ms/step\n",
            "Epoch 57/300\n",
            "34/34 - 0s - loss: 3518.0295 - mae: 3518.0295 - 82ms/epoch - 2ms/step\n",
            "Epoch 58/300\n",
            "34/34 - 0s - loss: 3650.0466 - mae: 3650.0466 - 83ms/epoch - 2ms/step\n",
            "Epoch 59/300\n",
            "34/34 - 0s - loss: 3515.8699 - mae: 3515.8699 - 86ms/epoch - 3ms/step\n",
            "Epoch 60/300\n",
            "34/34 - 0s - loss: 3504.7109 - mae: 3504.7109 - 86ms/epoch - 3ms/step\n",
            "Epoch 61/300\n",
            "34/34 - 0s - loss: 3538.8811 - mae: 3538.8811 - 94ms/epoch - 3ms/step\n",
            "Epoch 62/300\n",
            "34/34 - 0s - loss: 3572.7612 - mae: 3572.7612 - 93ms/epoch - 3ms/step\n",
            "Epoch 63/300\n",
            "34/34 - 0s - loss: 3509.5298 - mae: 3509.5298 - 103ms/epoch - 3ms/step\n",
            "Epoch 64/300\n",
            "34/34 - 0s - loss: 3521.2241 - mae: 3521.2241 - 85ms/epoch - 2ms/step\n",
            "Epoch 65/300\n",
            "34/34 - 0s - loss: 3505.9011 - mae: 3505.9011 - 83ms/epoch - 2ms/step\n",
            "Epoch 66/300\n",
            "34/34 - 0s - loss: 3624.8406 - mae: 3624.8406 - 88ms/epoch - 3ms/step\n",
            "Epoch 67/300\n",
            "34/34 - 0s - loss: 3527.6274 - mae: 3527.6274 - 83ms/epoch - 2ms/step\n",
            "Epoch 68/300\n",
            "34/34 - 0s - loss: 3564.2349 - mae: 3564.2349 - 84ms/epoch - 2ms/step\n",
            "Epoch 69/300\n",
            "34/34 - 0s - loss: 3524.5183 - mae: 3524.5183 - 87ms/epoch - 3ms/step\n",
            "Epoch 70/300\n",
            "34/34 - 0s - loss: 3515.2808 - mae: 3515.2808 - 87ms/epoch - 3ms/step\n",
            "Epoch 71/300\n",
            "34/34 - 0s - loss: 3520.0330 - mae: 3520.0330 - 89ms/epoch - 3ms/step\n",
            "Epoch 72/300\n",
            "34/34 - 0s - loss: 3620.7197 - mae: 3620.7197 - 84ms/epoch - 2ms/step\n",
            "Epoch 73/300\n",
            "34/34 - 0s - loss: 3545.4275 - mae: 3545.4275 - 93ms/epoch - 3ms/step\n",
            "Epoch 74/300\n",
            "34/34 - 0s - loss: 3521.7185 - mae: 3521.7185 - 102ms/epoch - 3ms/step\n",
            "Epoch 75/300\n",
            "34/34 - 0s - loss: 3541.0708 - mae: 3541.0708 - 95ms/epoch - 3ms/step\n",
            "Epoch 76/300\n",
            "34/34 - 0s - loss: 3530.5347 - mae: 3530.5347 - 92ms/epoch - 3ms/step\n",
            "Epoch 77/300\n",
            "34/34 - 0s - loss: 3600.0662 - mae: 3600.0662 - 87ms/epoch - 3ms/step\n",
            "Epoch 78/300\n",
            "34/34 - 0s - loss: 3576.1829 - mae: 3576.1829 - 88ms/epoch - 3ms/step\n",
            "Epoch 79/300\n",
            "34/34 - 0s - loss: 3551.1941 - mae: 3551.1941 - 91ms/epoch - 3ms/step\n",
            "Epoch 80/300\n",
            "34/34 - 0s - loss: 3508.2871 - mae: 3508.2871 - 84ms/epoch - 2ms/step\n",
            "Epoch 81/300\n",
            "34/34 - 0s - loss: 3543.3379 - mae: 3543.3379 - 90ms/epoch - 3ms/step\n",
            "Epoch 82/300\n",
            "34/34 - 0s - loss: 3637.2581 - mae: 3637.2581 - 96ms/epoch - 3ms/step\n",
            "Epoch 83/300\n",
            "34/34 - 0s - loss: 3545.1274 - mae: 3545.1274 - 95ms/epoch - 3ms/step\n",
            "Epoch 84/300\n",
            "34/34 - 0s - loss: 3509.1912 - mae: 3509.1912 - 90ms/epoch - 3ms/step\n",
            "Epoch 85/300\n",
            "34/34 - 0s - loss: 3494.1382 - mae: 3494.1382 - 84ms/epoch - 2ms/step\n",
            "Epoch 86/300\n",
            "34/34 - 0s - loss: 3516.2747 - mae: 3516.2747 - 82ms/epoch - 2ms/step\n",
            "Epoch 87/300\n",
            "34/34 - 0s - loss: 3572.0237 - mae: 3572.0237 - 87ms/epoch - 3ms/step\n",
            "Epoch 88/300\n",
            "34/34 - 0s - loss: 3569.7578 - mae: 3569.7578 - 88ms/epoch - 3ms/step\n",
            "Epoch 89/300\n",
            "34/34 - 0s - loss: 3559.6248 - mae: 3559.6248 - 86ms/epoch - 3ms/step\n",
            "Epoch 90/300\n",
            "34/34 - 0s - loss: 3521.9463 - mae: 3521.9463 - 86ms/epoch - 3ms/step\n",
            "Epoch 91/300\n",
            "34/34 - 0s - loss: 3525.2629 - mae: 3525.2629 - 83ms/epoch - 2ms/step\n",
            "Epoch 92/300\n",
            "34/34 - 0s - loss: 3560.6943 - mae: 3560.6943 - 90ms/epoch - 3ms/step\n",
            "Epoch 93/300\n",
            "34/34 - 0s - loss: 3589.8835 - mae: 3589.8835 - 89ms/epoch - 3ms/step\n",
            "Epoch 94/300\n",
            "34/34 - 0s - loss: 3582.8738 - mae: 3582.8738 - 85ms/epoch - 3ms/step\n",
            "Epoch 95/300\n",
            "34/34 - 0s - loss: 3520.5735 - mae: 3520.5735 - 94ms/epoch - 3ms/step\n",
            "Epoch 96/300\n",
            "34/34 - 0s - loss: 3501.6306 - mae: 3501.6306 - 102ms/epoch - 3ms/step\n",
            "Epoch 97/300\n",
            "34/34 - 0s - loss: 3591.8674 - mae: 3591.8674 - 83ms/epoch - 2ms/step\n",
            "Epoch 98/300\n",
            "34/34 - 0s - loss: 3542.9792 - mae: 3542.9792 - 86ms/epoch - 3ms/step\n",
            "Epoch 99/300\n",
            "34/34 - 0s - loss: 3508.4282 - mae: 3508.4282 - 86ms/epoch - 3ms/step\n",
            "Epoch 100/300\n",
            "34/34 - 0s - loss: 3503.9812 - mae: 3503.9812 - 86ms/epoch - 3ms/step\n",
            "Epoch 101/300\n",
            "34/34 - 0s - loss: 3526.7239 - mae: 3526.7239 - 88ms/epoch - 3ms/step\n",
            "Epoch 102/300\n",
            "34/34 - 0s - loss: 3498.0962 - mae: 3498.0962 - 82ms/epoch - 2ms/step\n",
            "Epoch 103/300\n",
            "34/34 - 0s - loss: 3499.7485 - mae: 3499.7485 - 84ms/epoch - 2ms/step\n",
            "Epoch 104/300\n",
            "34/34 - 0s - loss: 3501.1470 - mae: 3501.1470 - 102ms/epoch - 3ms/step\n",
            "Epoch 105/300\n",
            "34/34 - 0s - loss: 3532.7512 - mae: 3532.7512 - 86ms/epoch - 3ms/step\n",
            "Epoch 106/300\n",
            "34/34 - 0s - loss: 3519.7039 - mae: 3519.7039 - 94ms/epoch - 3ms/step\n",
            "Epoch 107/300\n",
            "34/34 - 0s - loss: 3513.5122 - mae: 3513.5122 - 93ms/epoch - 3ms/step\n",
            "Epoch 108/300\n",
            "34/34 - 0s - loss: 3528.3875 - mae: 3528.3875 - 85ms/epoch - 3ms/step\n",
            "Epoch 109/300\n",
            "34/34 - 0s - loss: 3519.6531 - mae: 3519.6531 - 85ms/epoch - 3ms/step\n",
            "Epoch 110/300\n",
            "34/34 - 0s - loss: 3522.2629 - mae: 3522.2629 - 87ms/epoch - 3ms/step\n",
            "Epoch 111/300\n",
            "34/34 - 0s - loss: 3530.8716 - mae: 3530.8716 - 90ms/epoch - 3ms/step\n",
            "Epoch 112/300\n",
            "34/34 - 0s - loss: 3512.9727 - mae: 3512.9727 - 82ms/epoch - 2ms/step\n",
            "Epoch 113/300\n",
            "34/34 - 0s - loss: 3541.8762 - mae: 3541.8762 - 93ms/epoch - 3ms/step\n",
            "Epoch 114/300\n",
            "34/34 - 0s - loss: 3514.6743 - mae: 3514.6743 - 96ms/epoch - 3ms/step\n",
            "Epoch 115/300\n",
            "34/34 - 0s - loss: 3520.1528 - mae: 3520.1528 - 90ms/epoch - 3ms/step\n",
            "Epoch 116/300\n",
            "34/34 - 0s - loss: 3556.5769 - mae: 3556.5769 - 83ms/epoch - 2ms/step\n",
            "Epoch 117/300\n",
            "34/34 - 0s - loss: 3565.5854 - mae: 3565.5854 - 97ms/epoch - 3ms/step\n",
            "Epoch 118/300\n",
            "34/34 - 0s - loss: 3543.2322 - mae: 3543.2322 - 86ms/epoch - 3ms/step\n",
            "Epoch 119/300\n",
            "34/34 - 0s - loss: 3610.1746 - mae: 3610.1746 - 83ms/epoch - 2ms/step\n",
            "Epoch 120/300\n",
            "34/34 - 0s - loss: 3518.4856 - mae: 3518.4856 - 91ms/epoch - 3ms/step\n",
            "Epoch 121/300\n",
            "34/34 - 0s - loss: 3526.2764 - mae: 3526.2764 - 85ms/epoch - 2ms/step\n",
            "Epoch 122/300\n",
            "34/34 - 0s - loss: 3556.0706 - mae: 3556.0706 - 82ms/epoch - 2ms/step\n",
            "Epoch 123/300\n",
            "34/34 - 0s - loss: 3508.3994 - mae: 3508.3994 - 83ms/epoch - 2ms/step\n",
            "Epoch 124/300\n",
            "34/34 - 0s - loss: 3509.1960 - mae: 3509.1960 - 82ms/epoch - 2ms/step\n",
            "Epoch 125/300\n",
            "34/34 - 0s - loss: 3509.7485 - mae: 3509.7485 - 88ms/epoch - 3ms/step\n",
            "Epoch 126/300\n",
            "34/34 - 0s - loss: 3515.7056 - mae: 3515.7056 - 83ms/epoch - 2ms/step\n",
            "Epoch 127/300\n",
            "34/34 - 0s - loss: 3522.0173 - mae: 3522.0173 - 87ms/epoch - 3ms/step\n",
            "Epoch 128/300\n",
            "34/34 - 0s - loss: 3522.2146 - mae: 3522.2146 - 98ms/epoch - 3ms/step\n",
            "Epoch 129/300\n",
            "34/34 - 0s - loss: 3537.5842 - mae: 3537.5842 - 83ms/epoch - 2ms/step\n",
            "Epoch 130/300\n",
            "34/34 - 0s - loss: 3552.1416 - mae: 3552.1416 - 85ms/epoch - 3ms/step\n",
            "Epoch 131/300\n",
            "34/34 - 0s - loss: 3499.9033 - mae: 3499.9033 - 84ms/epoch - 2ms/step\n",
            "Epoch 132/300\n",
            "34/34 - 0s - loss: 3519.6018 - mae: 3519.6018 - 85ms/epoch - 2ms/step\n",
            "Epoch 133/300\n",
            "34/34 - 0s - loss: 3505.3582 - mae: 3505.3582 - 89ms/epoch - 3ms/step\n",
            "Epoch 134/300\n",
            "34/34 - 0s - loss: 3497.8301 - mae: 3497.8301 - 84ms/epoch - 2ms/step\n",
            "Epoch 135/300\n",
            "34/34 - 0s - loss: 3539.5217 - mae: 3539.5217 - 84ms/epoch - 2ms/step\n",
            "Epoch 136/300\n",
            "34/34 - 0s - loss: 3529.6387 - mae: 3529.6387 - 87ms/epoch - 3ms/step\n",
            "Epoch 137/300\n",
            "34/34 - 0s - loss: 3535.6367 - mae: 3535.6367 - 85ms/epoch - 3ms/step\n",
            "Epoch 138/300\n",
            "34/34 - 0s - loss: 3580.4382 - mae: 3580.4382 - 88ms/epoch - 3ms/step\n",
            "Epoch 139/300\n",
            "34/34 - 0s - loss: 3568.1843 - mae: 3568.1843 - 97ms/epoch - 3ms/step\n",
            "Epoch 140/300\n",
            "34/34 - 0s - loss: 3510.8064 - mae: 3510.8064 - 85ms/epoch - 3ms/step\n",
            "Epoch 141/300\n",
            "34/34 - 0s - loss: 3527.7637 - mae: 3527.7637 - 88ms/epoch - 3ms/step\n",
            "Epoch 142/300\n",
            "34/34 - 0s - loss: 3504.6914 - mae: 3504.6914 - 85ms/epoch - 2ms/step\n",
            "Epoch 143/300\n",
            "34/34 - 0s - loss: 3496.0938 - mae: 3496.0938 - 90ms/epoch - 3ms/step\n",
            "Epoch 144/300\n",
            "34/34 - 0s - loss: 3504.1826 - mae: 3504.1826 - 83ms/epoch - 2ms/step\n",
            "Epoch 145/300\n",
            "34/34 - 0s - loss: 3549.9514 - mae: 3549.9514 - 89ms/epoch - 3ms/step\n",
            "Epoch 146/300\n",
            "34/34 - 0s - loss: 3583.9468 - mae: 3583.9468 - 84ms/epoch - 2ms/step\n",
            "Epoch 147/300\n",
            "34/34 - 0s - loss: 3558.9614 - mae: 3558.9614 - 85ms/epoch - 3ms/step\n",
            "Epoch 148/300\n",
            "34/34 - 0s - loss: 3510.3931 - mae: 3510.3931 - 88ms/epoch - 3ms/step\n",
            "Epoch 149/300\n",
            "34/34 - 0s - loss: 3505.0688 - mae: 3505.0688 - 86ms/epoch - 3ms/step\n",
            "Epoch 150/300\n",
            "34/34 - 0s - loss: 3492.4690 - mae: 3492.4690 - 98ms/epoch - 3ms/step\n",
            "Epoch 151/300\n",
            "34/34 - 0s - loss: 3503.7959 - mae: 3503.7959 - 83ms/epoch - 2ms/step\n",
            "Epoch 152/300\n",
            "34/34 - 0s - loss: 3535.4385 - mae: 3535.4385 - 83ms/epoch - 2ms/step\n",
            "Epoch 153/300\n",
            "34/34 - 0s - loss: 3600.7588 - mae: 3600.7588 - 87ms/epoch - 3ms/step\n",
            "Epoch 154/300\n",
            "34/34 - 0s - loss: 3570.8743 - mae: 3570.8743 - 83ms/epoch - 2ms/step\n",
            "Epoch 155/300\n",
            "34/34 - 0s - loss: 3551.0110 - mae: 3551.0110 - 88ms/epoch - 3ms/step\n",
            "Epoch 156/300\n",
            "34/34 - 0s - loss: 3508.2100 - mae: 3508.2100 - 94ms/epoch - 3ms/step\n",
            "Epoch 157/300\n",
            "34/34 - 0s - loss: 3523.4746 - mae: 3523.4746 - 96ms/epoch - 3ms/step\n",
            "Epoch 158/300\n",
            "34/34 - 0s - loss: 3541.4861 - mae: 3541.4861 - 88ms/epoch - 3ms/step\n",
            "Epoch 159/300\n",
            "34/34 - 0s - loss: 3511.3088 - mae: 3511.3088 - 82ms/epoch - 2ms/step\n",
            "Epoch 160/300\n",
            "34/34 - 0s - loss: 3618.4058 - mae: 3618.4058 - 81ms/epoch - 2ms/step\n",
            "Epoch 161/300\n",
            "34/34 - 0s - loss: 3498.4441 - mae: 3498.4441 - 92ms/epoch - 3ms/step\n",
            "Epoch 162/300\n",
            "34/34 - 0s - loss: 3551.5190 - mae: 3551.5190 - 81ms/epoch - 2ms/step\n",
            "Epoch 163/300\n",
            "34/34 - 0s - loss: 3530.0833 - mae: 3530.0833 - 82ms/epoch - 2ms/step\n",
            "Epoch 164/300\n",
            "34/34 - 0s - loss: 3502.8206 - mae: 3502.8206 - 86ms/epoch - 3ms/step\n",
            "Epoch 165/300\n",
            "34/34 - 0s - loss: 3632.3547 - mae: 3632.3547 - 88ms/epoch - 3ms/step\n",
            "Epoch 166/300\n",
            "34/34 - 0s - loss: 3545.7942 - mae: 3545.7942 - 91ms/epoch - 3ms/step\n",
            "Epoch 167/300\n",
            "34/34 - 0s - loss: 3556.3093 - mae: 3556.3093 - 89ms/epoch - 3ms/step\n",
            "Epoch 168/300\n",
            "34/34 - 0s - loss: 3571.3101 - mae: 3571.3101 - 91ms/epoch - 3ms/step\n",
            "Epoch 169/300\n",
            "34/34 - 0s - loss: 3506.3303 - mae: 3506.3303 - 84ms/epoch - 2ms/step\n",
            "Epoch 170/300\n",
            "34/34 - 0s - loss: 3543.3357 - mae: 3543.3357 - 83ms/epoch - 2ms/step\n",
            "Epoch 171/300\n",
            "34/34 - 0s - loss: 3518.8154 - mae: 3518.8154 - 81ms/epoch - 2ms/step\n",
            "Epoch 172/300\n",
            "34/34 - 0s - loss: 3498.8040 - mae: 3498.8040 - 93ms/epoch - 3ms/step\n",
            "Epoch 173/300\n",
            "34/34 - 0s - loss: 3507.7815 - mae: 3507.7815 - 88ms/epoch - 3ms/step\n",
            "Epoch 174/300\n",
            "34/34 - 0s - loss: 3497.6257 - mae: 3497.6257 - 92ms/epoch - 3ms/step\n",
            "Epoch 175/300\n",
            "34/34 - 0s - loss: 3519.3396 - mae: 3519.3396 - 96ms/epoch - 3ms/step\n",
            "Epoch 176/300\n",
            "34/34 - 0s - loss: 3504.2539 - mae: 3504.2539 - 83ms/epoch - 2ms/step\n",
            "Epoch 177/300\n",
            "34/34 - 0s - loss: 3519.3882 - mae: 3519.3882 - 85ms/epoch - 3ms/step\n",
            "Epoch 178/300\n",
            "34/34 - 0s - loss: 3521.9438 - mae: 3521.9438 - 88ms/epoch - 3ms/step\n",
            "Epoch 179/300\n",
            "34/34 - 0s - loss: 3524.5510 - mae: 3524.5510 - 86ms/epoch - 3ms/step\n",
            "Epoch 180/300\n",
            "34/34 - 0s - loss: 3519.1370 - mae: 3519.1370 - 84ms/epoch - 2ms/step\n",
            "Epoch 181/300\n",
            "34/34 - 0s - loss: 3519.8601 - mae: 3519.8601 - 85ms/epoch - 3ms/step\n",
            "Epoch 182/300\n",
            "34/34 - 0s - loss: 3539.7595 - mae: 3539.7595 - 83ms/epoch - 2ms/step\n",
            "Epoch 183/300\n",
            "34/34 - 0s - loss: 3581.0298 - mae: 3581.0298 - 95ms/epoch - 3ms/step\n",
            "Epoch 184/300\n",
            "34/34 - 0s - loss: 3640.5496 - mae: 3640.5496 - 83ms/epoch - 2ms/step\n",
            "Epoch 185/300\n",
            "34/34 - 0s - loss: 3514.0063 - mae: 3514.0063 - 85ms/epoch - 3ms/step\n",
            "Epoch 186/300\n",
            "34/34 - 0s - loss: 3543.5640 - mae: 3543.5640 - 91ms/epoch - 3ms/step\n",
            "Epoch 187/300\n",
            "34/34 - 0s - loss: 3552.7600 - mae: 3552.7600 - 81ms/epoch - 2ms/step\n",
            "Epoch 188/300\n",
            "34/34 - 0s - loss: 3496.3508 - mae: 3496.3508 - 81ms/epoch - 2ms/step\n",
            "Epoch 189/300\n",
            "34/34 - 0s - loss: 3504.4685 - mae: 3504.4685 - 91ms/epoch - 3ms/step\n",
            "Epoch 190/300\n",
            "34/34 - 0s - loss: 3498.7493 - mae: 3498.7493 - 90ms/epoch - 3ms/step\n",
            "Epoch 191/300\n",
            "34/34 - 0s - loss: 3496.1709 - mae: 3496.1709 - 86ms/epoch - 3ms/step\n",
            "Epoch 192/300\n",
            "34/34 - 0s - loss: 3512.2014 - mae: 3512.2014 - 87ms/epoch - 3ms/step\n",
            "Epoch 193/300\n",
            "34/34 - 0s - loss: 3516.6208 - mae: 3516.6208 - 85ms/epoch - 2ms/step\n",
            "Epoch 194/300\n",
            "34/34 - 0s - loss: 3527.8450 - mae: 3527.8450 - 96ms/epoch - 3ms/step\n",
            "Epoch 195/300\n",
            "34/34 - 0s - loss: 3540.0354 - mae: 3540.0354 - 90ms/epoch - 3ms/step\n",
            "Epoch 196/300\n",
            "34/34 - 0s - loss: 3629.0479 - mae: 3629.0479 - 85ms/epoch - 2ms/step\n",
            "Epoch 197/300\n",
            "34/34 - 0s - loss: 3521.1201 - mae: 3521.1201 - 90ms/epoch - 3ms/step\n",
            "Epoch 198/300\n",
            "34/34 - 0s - loss: 3518.1577 - mae: 3518.1577 - 90ms/epoch - 3ms/step\n",
            "Epoch 199/300\n",
            "34/34 - 0s - loss: 3498.5381 - mae: 3498.5381 - 101ms/epoch - 3ms/step\n",
            "Epoch 200/300\n",
            "34/34 - 0s - loss: 3518.7310 - mae: 3518.7310 - 102ms/epoch - 3ms/step\n",
            "Epoch 201/300\n",
            "34/34 - 0s - loss: 3492.6697 - mae: 3492.6697 - 157ms/epoch - 5ms/step\n",
            "Epoch 202/300\n",
            "34/34 - 0s - loss: 3494.4043 - mae: 3494.4043 - 179ms/epoch - 5ms/step\n",
            "Epoch 203/300\n",
            "34/34 - 0s - loss: 3544.8506 - mae: 3544.8506 - 204ms/epoch - 6ms/step\n",
            "Epoch 204/300\n",
            "34/34 - 0s - loss: 3542.1462 - mae: 3542.1462 - 172ms/epoch - 5ms/step\n",
            "Epoch 205/300\n",
            "34/34 - 0s - loss: 3526.3142 - mae: 3526.3142 - 187ms/epoch - 5ms/step\n",
            "Epoch 206/300\n",
            "34/34 - 0s - loss: 3501.3135 - mae: 3501.3135 - 173ms/epoch - 5ms/step\n",
            "Epoch 207/300\n",
            "34/34 - 0s - loss: 3530.7654 - mae: 3530.7654 - 176ms/epoch - 5ms/step\n",
            "Epoch 208/300\n",
            "34/34 - 0s - loss: 3531.6887 - mae: 3531.6887 - 173ms/epoch - 5ms/step\n",
            "Epoch 209/300\n",
            "34/34 - 0s - loss: 3541.1050 - mae: 3541.1050 - 177ms/epoch - 5ms/step\n",
            "Epoch 210/300\n",
            "34/34 - 0s - loss: 3507.5710 - mae: 3507.5710 - 173ms/epoch - 5ms/step\n",
            "Epoch 211/300\n",
            "34/34 - 0s - loss: 3544.1350 - mae: 3544.1350 - 172ms/epoch - 5ms/step\n",
            "Epoch 212/300\n",
            "34/34 - 0s - loss: 3509.1841 - mae: 3509.1841 - 170ms/epoch - 5ms/step\n",
            "Epoch 213/300\n",
            "34/34 - 0s - loss: 3506.1721 - mae: 3506.1721 - 170ms/epoch - 5ms/step\n",
            "Epoch 214/300\n",
            "34/34 - 0s - loss: 3533.0403 - mae: 3533.0403 - 174ms/epoch - 5ms/step\n",
            "Epoch 215/300\n",
            "34/34 - 0s - loss: 3522.2190 - mae: 3522.2190 - 105ms/epoch - 3ms/step\n",
            "Epoch 216/300\n",
            "34/34 - 0s - loss: 3506.9822 - mae: 3506.9822 - 86ms/epoch - 3ms/step\n",
            "Epoch 217/300\n",
            "34/34 - 0s - loss: 3519.9934 - mae: 3519.9934 - 84ms/epoch - 2ms/step\n",
            "Epoch 218/300\n",
            "34/34 - 0s - loss: 3504.7900 - mae: 3504.7900 - 85ms/epoch - 2ms/step\n",
            "Epoch 219/300\n",
            "34/34 - 0s - loss: 3583.0005 - mae: 3583.0005 - 84ms/epoch - 2ms/step\n",
            "Epoch 220/300\n",
            "34/34 - 0s - loss: 3516.9592 - mae: 3516.9592 - 82ms/epoch - 2ms/step\n",
            "Epoch 221/300\n",
            "34/34 - 0s - loss: 3517.0854 - mae: 3517.0854 - 84ms/epoch - 2ms/step\n",
            "Epoch 222/300\n",
            "34/34 - 0s - loss: 3569.5417 - mae: 3569.5417 - 83ms/epoch - 2ms/step\n",
            "Epoch 223/300\n",
            "34/34 - 0s - loss: 3522.9021 - mae: 3522.9021 - 96ms/epoch - 3ms/step\n",
            "Epoch 224/300\n",
            "34/34 - 0s - loss: 3540.2073 - mae: 3540.2073 - 88ms/epoch - 3ms/step\n",
            "Epoch 225/300\n",
            "34/34 - 0s - loss: 3507.6587 - mae: 3507.6587 - 94ms/epoch - 3ms/step\n",
            "Epoch 226/300\n",
            "34/34 - 0s - loss: 3497.2412 - mae: 3497.2412 - 89ms/epoch - 3ms/step\n",
            "Epoch 227/300\n",
            "34/34 - 0s - loss: 3539.0081 - mae: 3539.0081 - 88ms/epoch - 3ms/step\n",
            "Epoch 228/300\n",
            "34/34 - 0s - loss: 3506.4834 - mae: 3506.4834 - 86ms/epoch - 3ms/step\n",
            "Epoch 229/300\n",
            "34/34 - 0s - loss: 3512.9912 - mae: 3512.9912 - 87ms/epoch - 3ms/step\n",
            "Epoch 230/300\n",
            "34/34 - 0s - loss: 3542.8718 - mae: 3542.8718 - 111ms/epoch - 3ms/step\n",
            "Epoch 231/300\n",
            "34/34 - 0s - loss: 3515.1838 - mae: 3515.1838 - 97ms/epoch - 3ms/step\n",
            "Epoch 232/300\n",
            "34/34 - 0s - loss: 3493.3523 - mae: 3493.3523 - 87ms/epoch - 3ms/step\n",
            "Epoch 233/300\n",
            "34/34 - 0s - loss: 3491.5549 - mae: 3491.5549 - 82ms/epoch - 2ms/step\n",
            "Epoch 234/300\n",
            "34/34 - 0s - loss: 3509.4038 - mae: 3509.4038 - 92ms/epoch - 3ms/step\n",
            "Epoch 235/300\n",
            "34/34 - 0s - loss: 3502.1440 - mae: 3502.1440 - 91ms/epoch - 3ms/step\n",
            "Epoch 236/300\n",
            "34/34 - 0s - loss: 3510.5190 - mae: 3510.5190 - 95ms/epoch - 3ms/step\n",
            "Epoch 237/300\n",
            "34/34 - 0s - loss: 3516.5552 - mae: 3516.5552 - 81ms/epoch - 2ms/step\n",
            "Epoch 238/300\n",
            "34/34 - 0s - loss: 3503.1379 - mae: 3503.1379 - 84ms/epoch - 2ms/step\n",
            "Epoch 239/300\n",
            "34/34 - 0s - loss: 3509.9417 - mae: 3509.9417 - 87ms/epoch - 3ms/step\n",
            "Epoch 240/300\n",
            "34/34 - 0s - loss: 3608.7224 - mae: 3608.7224 - 89ms/epoch - 3ms/step\n",
            "Epoch 241/300\n",
            "34/34 - 0s - loss: 3547.0410 - mae: 3547.0410 - 84ms/epoch - 2ms/step\n",
            "Epoch 242/300\n",
            "34/34 - 0s - loss: 3529.2917 - mae: 3529.2917 - 88ms/epoch - 3ms/step\n",
            "Epoch 243/300\n",
            "34/34 - 0s - loss: 3567.5212 - mae: 3567.5212 - 93ms/epoch - 3ms/step\n",
            "Epoch 244/300\n",
            "34/34 - 0s - loss: 3515.6787 - mae: 3515.6787 - 86ms/epoch - 3ms/step\n",
            "Epoch 245/300\n",
            "34/34 - 0s - loss: 3536.5789 - mae: 3536.5789 - 94ms/epoch - 3ms/step\n",
            "Epoch 246/300\n",
            "34/34 - 0s - loss: 3519.2283 - mae: 3519.2283 - 87ms/epoch - 3ms/step\n",
            "Epoch 247/300\n",
            "34/34 - 0s - loss: 3537.0186 - mae: 3537.0186 - 100ms/epoch - 3ms/step\n",
            "Epoch 248/300\n",
            "34/34 - 0s - loss: 3517.3025 - mae: 3517.3025 - 88ms/epoch - 3ms/step\n",
            "Epoch 249/300\n",
            "34/34 - 0s - loss: 3530.6956 - mae: 3530.6956 - 82ms/epoch - 2ms/step\n",
            "Epoch 250/300\n",
            "34/34 - 0s - loss: 3518.4575 - mae: 3518.4575 - 86ms/epoch - 3ms/step\n",
            "Epoch 251/300\n",
            "34/34 - 0s - loss: 3532.7993 - mae: 3532.7993 - 85ms/epoch - 2ms/step\n",
            "Epoch 252/300\n",
            "34/34 - 0s - loss: 3540.3745 - mae: 3540.3745 - 83ms/epoch - 2ms/step\n",
            "Epoch 253/300\n",
            "34/34 - 0s - loss: 3531.8589 - mae: 3531.8589 - 91ms/epoch - 3ms/step\n",
            "Epoch 254/300\n",
            "34/34 - 0s - loss: 3562.4387 - mae: 3562.4387 - 84ms/epoch - 2ms/step\n",
            "Epoch 255/300\n",
            "34/34 - 0s - loss: 3532.9470 - mae: 3532.9470 - 83ms/epoch - 2ms/step\n",
            "Epoch 256/300\n",
            "34/34 - 0s - loss: 3508.2041 - mae: 3508.2041 - 84ms/epoch - 2ms/step\n",
            "Epoch 257/300\n",
            "34/34 - 0s - loss: 3500.8838 - mae: 3500.8838 - 84ms/epoch - 2ms/step\n",
            "Epoch 258/300\n",
            "34/34 - 0s - loss: 3516.2815 - mae: 3516.2815 - 103ms/epoch - 3ms/step\n",
            "Epoch 259/300\n",
            "34/34 - 0s - loss: 3532.1663 - mae: 3532.1663 - 89ms/epoch - 3ms/step\n",
            "Epoch 260/300\n",
            "34/34 - 0s - loss: 3509.3025 - mae: 3509.3025 - 85ms/epoch - 2ms/step\n",
            "Epoch 261/300\n",
            "34/34 - 0s - loss: 3518.2180 - mae: 3518.2180 - 85ms/epoch - 2ms/step\n",
            "Epoch 262/300\n",
            "34/34 - 0s - loss: 3548.9961 - mae: 3548.9961 - 86ms/epoch - 3ms/step\n",
            "Epoch 263/300\n",
            "34/34 - 0s - loss: 3516.1257 - mae: 3516.1257 - 81ms/epoch - 2ms/step\n",
            "Epoch 264/300\n",
            "34/34 - 0s - loss: 3537.2649 - mae: 3537.2649 - 83ms/epoch - 2ms/step\n",
            "Epoch 265/300\n",
            "34/34 - 0s - loss: 3549.1116 - mae: 3549.1116 - 89ms/epoch - 3ms/step\n",
            "Epoch 266/300\n",
            "34/34 - 0s - loss: 3490.1858 - mae: 3490.1858 - 86ms/epoch - 3ms/step\n",
            "Epoch 267/300\n",
            "34/34 - 0s - loss: 3518.3157 - mae: 3518.3157 - 87ms/epoch - 3ms/step\n",
            "Epoch 268/300\n",
            "34/34 - 0s - loss: 3525.5098 - mae: 3525.5098 - 97ms/epoch - 3ms/step\n",
            "Epoch 269/300\n",
            "34/34 - 0s - loss: 3504.3777 - mae: 3504.3777 - 100ms/epoch - 3ms/step\n",
            "Epoch 270/300\n",
            "34/34 - 0s - loss: 3542.8955 - mae: 3542.8955 - 83ms/epoch - 2ms/step\n",
            "Epoch 271/300\n",
            "34/34 - 0s - loss: 3489.8003 - mae: 3489.8003 - 87ms/epoch - 3ms/step\n",
            "Epoch 272/300\n",
            "34/34 - 0s - loss: 3517.0354 - mae: 3517.0354 - 89ms/epoch - 3ms/step\n",
            "Epoch 273/300\n",
            "34/34 - 0s - loss: 3518.9329 - mae: 3518.9329 - 87ms/epoch - 3ms/step\n",
            "Epoch 274/300\n",
            "34/34 - 0s - loss: 3528.3994 - mae: 3528.3994 - 83ms/epoch - 2ms/step\n",
            "Epoch 275/300\n",
            "34/34 - 0s - loss: 3494.3877 - mae: 3494.3877 - 88ms/epoch - 3ms/step\n",
            "Epoch 276/300\n",
            "34/34 - 0s - loss: 3504.8225 - mae: 3504.8225 - 85ms/epoch - 3ms/step\n",
            "Epoch 277/300\n",
            "34/34 - 0s - loss: 3522.6011 - mae: 3522.6011 - 90ms/epoch - 3ms/step\n",
            "Epoch 278/300\n",
            "34/34 - 0s - loss: 3499.8210 - mae: 3499.8210 - 91ms/epoch - 3ms/step\n",
            "Epoch 279/300\n",
            "34/34 - 0s - loss: 3546.4231 - mae: 3546.4231 - 83ms/epoch - 2ms/step\n",
            "Epoch 280/300\n",
            "34/34 - 0s - loss: 3516.7048 - mae: 3516.7048 - 100ms/epoch - 3ms/step\n",
            "Epoch 281/300\n",
            "34/34 - 0s - loss: 3538.9207 - mae: 3538.9207 - 81ms/epoch - 2ms/step\n",
            "Epoch 282/300\n",
            "34/34 - 0s - loss: 3572.9417 - mae: 3572.9417 - 86ms/epoch - 3ms/step\n",
            "Epoch 283/300\n",
            "34/34 - 0s - loss: 3530.6035 - mae: 3530.6035 - 85ms/epoch - 2ms/step\n",
            "Epoch 284/300\n",
            "34/34 - 0s - loss: 3487.3889 - mae: 3487.3889 - 88ms/epoch - 3ms/step\n",
            "Epoch 285/300\n",
            "34/34 - 0s - loss: 3541.4307 - mae: 3541.4307 - 89ms/epoch - 3ms/step\n",
            "Epoch 286/300\n",
            "34/34 - 0s - loss: 3519.3096 - mae: 3519.3096 - 86ms/epoch - 3ms/step\n",
            "Epoch 287/300\n",
            "34/34 - 0s - loss: 3512.5408 - mae: 3512.5408 - 87ms/epoch - 3ms/step\n",
            "Epoch 288/300\n",
            "34/34 - 0s - loss: 3548.1685 - mae: 3548.1685 - 83ms/epoch - 2ms/step\n",
            "Epoch 289/300\n",
            "34/34 - 0s - loss: 3514.6179 - mae: 3514.6179 - 85ms/epoch - 3ms/step\n",
            "Epoch 290/300\n",
            "34/34 - 0s - loss: 3589.5649 - mae: 3589.5649 - 89ms/epoch - 3ms/step\n",
            "Epoch 291/300\n",
            "34/34 - 0s - loss: 3519.9446 - mae: 3519.9446 - 101ms/epoch - 3ms/step\n",
            "Epoch 292/300\n",
            "34/34 - 0s - loss: 3592.2092 - mae: 3592.2092 - 81ms/epoch - 2ms/step\n",
            "Epoch 293/300\n",
            "34/34 - 0s - loss: 3507.6147 - mae: 3507.6147 - 92ms/epoch - 3ms/step\n",
            "Epoch 294/300\n",
            "34/34 - 0s - loss: 3506.8284 - mae: 3506.8284 - 84ms/epoch - 2ms/step\n",
            "Epoch 295/300\n",
            "34/34 - 0s - loss: 3516.8777 - mae: 3516.8777 - 86ms/epoch - 3ms/step\n",
            "Epoch 296/300\n",
            "34/34 - 0s - loss: 3629.6658 - mae: 3629.6658 - 85ms/epoch - 2ms/step\n",
            "Epoch 297/300\n",
            "34/34 - 0s - loss: 3525.1216 - mae: 3525.1216 - 81ms/epoch - 2ms/step\n",
            "Epoch 298/300\n",
            "34/34 - 0s - loss: 3495.9731 - mae: 3495.9731 - 83ms/epoch - 2ms/step\n",
            "Epoch 299/300\n",
            "34/34 - 0s - loss: 3565.6416 - mae: 3565.6416 - 87ms/epoch - 3ms/step\n",
            "Epoch 300/300\n",
            "34/34 - 0s - loss: 3561.7224 - mae: 3561.7224 - 89ms/epoch - 3ms/step\n"
          ]
        }
      ]
    },
    {
      "cell_type": "code",
      "source": [
        "pd.DataFrame(history.history).plot()\n",
        "plt.ylabel('loss')\n",
        "plt.xlabel('epochs')"
      ],
      "metadata": {
        "id": "6NAwmAiLjq8j",
        "colab": {
          "base_uri": "https://localhost:8080/",
          "height": 297
        },
        "outputId": "834c9386-17ab-4a93-ba20-0342fec79ec2"
      },
      "execution_count": 57,
      "outputs": [
        {
          "output_type": "execute_result",
          "data": {
            "text/plain": [
              "Text(0.5, 0, 'epochs')"
            ]
          },
          "metadata": {},
          "execution_count": 57
        },
        {
          "output_type": "display_data",
          "data": {
            "text/plain": [
              "<Figure size 432x288 with 1 Axes>"
            ],
            "image/png": "[encoded data removed]"
          },
          "metadata": {
            "needs_background": "light"
          }
        }
      ]
    },
    {
      "cell_type": "markdown",
      "source": [
        "**How long should we train? 🤔**\n",
        "\n",
        "* It depends on what problem you're working on. Sometimes training won't take very long, other times it'll take longer than you expect. A common method is to set your model training for a very long time (e.g. 1000's of epochs) but set it up with an [EarlyStopping callback](https://www.tensorflow.org/api_docs/python/tf/keras/callbacks/EarlyStopping) so it stops automatically when it stops improving. We'll see this in another module.\n",
        "\n",
        "* Let's train the same model as above for a little longer. We can do this but calling fit on it again.\n"
      ],
      "metadata": {
        "id": "TDvXyU5XmePl"
      }
    },
    {
      "cell_type": "markdown",
      "source": [
        "# **preprocessing data (Normalization and standarization) ✴**"
      ],
      "metadata": {
        "id": "HGIVIEQRQQTN"
      }
    },
    {
      "cell_type": "code",
      "source": [
        "X[\"children\"].value_counts()"
      ],
      "metadata": {
        "id": "0W4m_AtIUAro",
        "colab": {
          "base_uri": "https://localhost:8080/"
        },
        "outputId": "163da094-cdd2-4cf8-d55b-c1ca54b5adef"
      },
      "execution_count": 58,
      "outputs": [
        {
          "output_type": "execute_result",
          "data": {
            "text/plain": [
              "0    574\n",
              "1    324\n",
              "2    240\n",
              "3    157\n",
              "4     25\n",
              "5     18\n",
              "Name: children, dtype: int64"
            ]
          },
          "metadata": {},
          "execution_count": 58
        }
      ]
    },
    {
      "cell_type": "code",
      "source": [
        "X[\"age\"].plot(kind=\"hist\")"
      ],
      "metadata": {
        "id": "u3F2V4mMVyEm",
        "colab": {
          "base_uri": "https://localhost:8080/",
          "height": 283
        },
        "outputId": "4a05b370-36bd-418c-fb5d-9cad55a5d02b"
      },
      "execution_count": 59,
      "outputs": [
        {
          "output_type": "execute_result",
          "data": {
            "text/plain": [
              "<matplotlib.axes._subplots.AxesSubplot at 0x7f17bf35ebd0>"
            ]
          },
          "metadata": {},
          "execution_count": 59
        },
        {
          "output_type": "display_data",
          "data": {
            "text/plain": [
              "<Figure size 432x288 with 1 Axes>"
            ],
            "image/png": "[encoded data removed]"
          },
          "metadata": {
            "needs_background": "light"
          }
        }
      ]
    },
    {
      "cell_type": "code",
      "source": [
        "X['bmi'].plot(kind=\"hist\")"
      ],
      "metadata": {
        "id": "sb_I2J85WGL0",
        "colab": {
          "base_uri": "https://localhost:8080/",
          "height": 283
        },
        "outputId": "6d453627-9a71-40f9-bec4-784cb0d21283"
      },
      "execution_count": 60,
      "outputs": [
        {
          "output_type": "execute_result",
          "data": {
            "text/plain": [
              "<matplotlib.axes._subplots.AxesSubplot at 0x7f17bf2e1b90>"
            ]
          },
          "metadata": {},
          "execution_count": 60
        },
        {
          "output_type": "display_data",
          "data": {
            "text/plain": [
              "<Figure size 432x288 with 1 Axes>"
            ],
            "image/png": "[encoded data removed]"
          },
          "metadata": {
            "needs_background": "light"
          }
        }
      ]
    },
    {
      "cell_type": "markdown",
      "source": [
        "# **Preprocessing data (normalization and standardization) ⚡**\n",
        "* A common practice when working with neural networks is to make sure all of the data you pass to them is in the range 0 to 1.\n",
        "\n",
        "* This practice is called normalization (scaling all values from their original range to, e.g. between 0 and 100,000 to be between 0 and 1).\n",
        "\n",
        "* There is another process call standardization which converts all of your data to unit variance and 0 mean.\n",
        "\n",
        "* These two practices are often part of a preprocessing pipeline (a series of functions to prepare your data for use with neural networks)."
      ],
      "metadata": {
        "id": "MXd-PC7nZ74a"
      }
    },
    {
      "cell_type": "code",
      "source": [
        "import pandas as pd\n",
        "import tensorflow as  tf\n",
        "import matplotlib.pyplot as plt\n",
        "# readind insurance \n",
        "insurance=pd.read_csv(\"https://raw.githubusercontent.com/stedy/Machine-Learning-with-R-datasets/master/insurance.csv\")\n",
        "insurance"
      ],
      "metadata": {
        "id": "IZdYLb8FagHd",
        "colab": {
          "base_uri": "https://localhost:8080/",
          "height": 423
        },
        "outputId": "f16efd8d-7de6-4086-ae14-5925f365c246"
      },
      "execution_count": 61,
      "outputs": [
        {
          "output_type": "execute_result",
          "data": {
            "text/plain": [
              "      age     sex     bmi  children smoker     region      charges\n",
              "0      19  female  27.900         0    yes  southwest  16884.92400\n",
              "1      18    male  33.770         1     no  southeast   1725.55230\n",
              "2      28    male  33.000         3     no  southeast   4449.46200\n",
              "3      33    male  22.705         0     no  northwest  21984.47061\n",
              "4      32    male  28.880         0     no  northwest   3866.85520\n",
              "...   ...     ...     ...       ...    ...        ...          ...\n",
              "1333   50    male  30.970         3     no  northwest  10600.54830\n",
              "1334   18  female  31.920         0     no  northeast   2205.98080\n",
              "1335   18  female  36.850         0     no  southeast   1629.83350\n",
              "1336   21  female  25.800         0     no  southwest   2007.94500\n",
              "1337   61  female  29.070         0    yes  northwest  29141.36030\n",
              "\n",
              "[1338 rows x 7 columns]"
            ],
            "text/html": [
              "\n",
              "  <div id=\"df-90c27ee2-cdd3-40b3-acf1-4be330d083dd\">\n",
              "    <div class=\"colab-df-container\">\n",
              "      <div>\n",
              "<style scoped>\n",
              "    .dataframe tbody tr th:only-of-type {\n",
              "        vertical-align: middle;\n",
              "    }\n",
              "\n",
              "    .dataframe tbody tr th {\n",
              "        vertical-align: top;\n",
              "    }\n",
              "\n",
              "    .dataframe thead th {\n",
              "        text-align: right;\n",
              "    }\n",
              "</style>\n",
              "<table border=\"1\" class=\"dataframe\">\n",
              "  <thead>\n",
              "    <tr style=\"text-align: right;\">\n",
              "      <th></th>\n",
              "      <th>age</th>\n",
              "      <th>sex</th>\n",
              "      <th>bmi</th>\n",
              "      <th>children</th>\n",
              "      <th>smoker</th>\n",
              "      <th>region</th>\n",
              "      <th>charges</th>\n",
              "    </tr>\n",
              "  </thead>\n",
              "  <tbody>\n",
              "    <tr>\n",
              "      <th>0</th>\n",
              "      <td>19</td>\n",
              "      <td>female</td>\n",
              "      <td>27.900</td>\n",
              "      <td>0</td>\n",
              "      <td>yes</td>\n",
              "      <td>southwest</td>\n",
              "      <td>16884.92400</td>\n",
              "    </tr>\n",
              "    <tr>\n",
              "      <th>1</th>\n",
              "      <td>18</td>\n",
              "      <td>male</td>\n",
              "      <td>33.770</td>\n",
              "      <td>1</td>\n",
              "      <td>no</td>\n",
              "      <td>southeast</td>\n",
              "      <td>1725.55230</td>\n",
              "    </tr>\n",
              "    <tr>\n",
              "      <th>2</th>\n",
              "      <td>28</td>\n",
              "      <td>male</td>\n",
              "      <td>33.000</td>\n",
              "      <td>3</td>\n",
              "      <td>no</td>\n",
              "      <td>southeast</td>\n",
              "      <td>4449.46200</td>\n",
              "    </tr>\n",
              "    <tr>\n",
              "      <th>3</th>\n",
              "      <td>33</td>\n",
              "      <td>male</td>\n",
              "      <td>22.705</td>\n",
              "      <td>0</td>\n",
              "      <td>no</td>\n",
              "      <td>northwest</td>\n",
              "      <td>21984.47061</td>\n",
              "    </tr>\n",
              "    <tr>\n",
              "      <th>4</th>\n",
              "      <td>32</td>\n",
              "      <td>male</td>\n",
              "      <td>28.880</td>\n",
              "      <td>0</td>\n",
              "      <td>no</td>\n",
              "      <td>northwest</td>\n",
              "      <td>3866.85520</td>\n",
              "    </tr>\n",
              "    <tr>\n",
              "      <th>...</th>\n",
              "      <td>...</td>\n",
              "      <td>...</td>\n",
              "      <td>...</td>\n",
              "      <td>...</td>\n",
              "      <td>...</td>\n",
              "      <td>...</td>\n",
              "      <td>...</td>\n",
              "    </tr>\n",
              "    <tr>\n",
              "      <th>1333</th>\n",
              "      <td>50</td>\n",
              "      <td>male</td>\n",
              "      <td>30.970</td>\n",
              "      <td>3</td>\n",
              "      <td>no</td>\n",
              "      <td>northwest</td>\n",
              "      <td>10600.54830</td>\n",
              "    </tr>\n",
              "    <tr>\n",
              "      <th>1334</th>\n",
              "      <td>18</td>\n",
              "      <td>female</td>\n",
              "      <td>31.920</td>\n",
              "      <td>0</td>\n",
              "      <td>no</td>\n",
              "      <td>northeast</td>\n",
              "      <td>2205.98080</td>\n",
              "    </tr>\n",
              "    <tr>\n",
              "      <th>1335</th>\n",
              "      <td>18</td>\n",
              "      <td>female</td>\n",
              "      <td>36.850</td>\n",
              "      <td>0</td>\n",
              "      <td>no</td>\n",
              "      <td>southeast</td>\n",
              "      <td>1629.83350</td>\n",
              "    </tr>\n",
              "    <tr>\n",
              "      <th>1336</th>\n",
              "      <td>21</td>\n",
              "      <td>female</td>\n",
              "      <td>25.800</td>\n",
              "      <td>0</td>\n",
              "      <td>no</td>\n",
              "      <td>southwest</td>\n",
              "      <td>2007.94500</td>\n",
              "    </tr>\n",
              "    <tr>\n",
              "      <th>1337</th>\n",
              "      <td>61</td>\n",
              "      <td>female</td>\n",
              "      <td>29.070</td>\n",
              "      <td>0</td>\n",
              "      <td>yes</td>\n",
              "      <td>northwest</td>\n",
              "      <td>29141.36030</td>\n",
              "    </tr>\n",
              "  </tbody>\n",
              "</table>\n",
              "<p>1338 rows × 7 columns</p>\n",
              "</div>\n",
              "      <button class=\"colab-df-convert\" onclick=\"convertToInteractive('df-90c27ee2-cdd3-40b3-acf1-4be330d083dd')\"\n",
              "              title=\"Convert this dataframe to an interactive table.\"\n",
              "              style=\"display:none;\">\n",
              "        \n",
              "  <svg xmlns=\"http://www.w3.org/2000/svg\" height=\"24px\"viewBox=\"0 0 24 24\"\n",
              "       width=\"24px\">\n",
              "    <path d=\"M0 0h24v24H0V0z\" fill=\"none\"/>\n",
              "    <path d=\"M18.56 5.44l.94 2.06.94-2.06 2.06-.94-2.06-.94-.94-2.06-.94 2.06-2.06.94zm-11 1L8.5 8.5l.94-2.06 2.06-.94-2.06-.94L8.5 2.5l-.94 2.06-2.06.94zm10 10l.94 2.06.94-2.06 2.06-.94-2.06-.94-.94-2.06-.94 2.06-2.06.94z\"/><path d=\"M17.41 7.96l-1.37-1.37c-.4-.4-.92-.59-1.43-.59-.52 0-1.04.2-1.43.59L10.3 9.45l-7.72 7.72c-.78.78-.78 2.05 0 2.83L4 21.41c.39.39.9.59 1.41.59.51 0 1.02-.2 1.41-.59l7.78-7.78 2.81-2.81c.8-.78.8-2.07 0-2.86zM5.41 20L4 18.59l7.72-7.72 1.47 1.35L5.41 20z\"/>\n",
              "  </svg>\n",
              "      </button>\n",
              "      \n",
              "  <style>\n",
              "    .colab-df-container {\n",
              "      display:flex;\n",
              "      flex-wrap:wrap;\n",
              "      gap: 12px;\n",
              "    }\n",
              "\n",
              "    .colab-df-convert {\n",
              "      background-color: #E8F0FE;\n",
              "      border: none;\n",
              "      border-radius: 50%;\n",
              "      cursor: pointer;\n",
              "      display: none;\n",
              "      fill: #1967D2;\n",
              "      height: 32px;\n",
              "      padding: 0 0 0 0;\n",
              "      width: 32px;\n",
              "    }\n",
              "\n",
              "    .colab-df-convert:hover {\n",
              "      background-color: #E2EBFA;\n",
              "      box-shadow: 0px 1px 2px rgba(60, 64, 67, 0.3), 0px 1px 3px 1px rgba(60, 64, 67, 0.15);\n",
              "      fill: #174EA6;\n",
              "    }\n",
              "\n",
              "    [theme=dark] .colab-df-convert {\n",
              "      background-color: #3B4455;\n",
              "      fill: #D2E3FC;\n",
              "    }\n",
              "\n",
              "    [theme=dark] .colab-df-convert:hover {\n",
              "      background-color: #434B5C;\n",
              "      box-shadow: 0px 1px 3px 1px rgba(0, 0, 0, 0.15);\n",
              "      filter: drop-shadow(0px 1px 2px rgba(0, 0, 0, 0.3));\n",
              "      fill: #FFFFFF;\n",
              "    }\n",
              "  </style>\n",
              "\n",
              "      <script>\n",
              "        const buttonEl =\n",
              "          document.querySelector('#df-90c27ee2-cdd3-40b3-acf1-4be330d083dd button.colab-df-convert');\n",
              "        buttonEl.style.display =\n",
              "          google.colab.kernel.accessAllowed ? 'block' : 'none';\n",
              "\n",
              "        async function convertToInteractive(key) {\n",
              "          const element = document.querySelector('#df-90c27ee2-cdd3-40b3-acf1-4be330d083dd');\n",
              "          const dataTable =\n",
              "            await google.colab.kernel.invokeFunction('convertToInteractive',\n",
              "                                                     [key], {});\n",
              "          if (!dataTable) return;\n",
              "\n",
              "          const docLinkHtml = 'Like what you see? Visit the ' +\n",
              "            '<a target=\"_blank\" href=https://colab.research.google.com/notebooks/data_table.ipynb>data table notebook</a>'\n",
              "            + ' to learn more about interactive tables.';\n",
              "          element.innerHTML = '';\n",
              "          dataTable['output_type'] = 'display_data';\n",
              "          await google.colab.output.renderOutput(dataTable, element);\n",
              "          const docLink = document.createElement('div');\n",
              "          docLink.innerHTML = docLinkHtml;\n",
              "          element.appendChild(docLink);\n",
              "        }\n",
              "      </script>\n",
              "    </div>\n",
              "  </div>\n",
              "  "
            ]
          },
          "metadata": {},
          "execution_count": 61
        }
      ]
    },
    {
      "cell_type": "code",
      "source": [
        "from sklearn.compose import make_column_transformer\n",
        "from sklearn.preprocessing import MinMaxScaler, OneHotEncoder\n",
        "from sklearn.model_selection import train_test_split\n",
        "# transfering column\n",
        "ct=make_column_transformer(\n",
        "    (MinMaxScaler(),[\"age\",\"bmi\",\"children\"]) ,#turn all the data in 0 and 1\n",
        "    (OneHotEncoder(handle_unknown=\"ignore\"),[\"sex\",\"smoker\",\"region\"])\n",
        ")\n",
        "X=insurance.drop(\"charges\",axis=1)\n",
        "y=insurance[\"charges\"]\n",
        "\n",
        "X_train, X_test, y_train, y_test = train_test_split(X, \n",
        "                                                    y, \n",
        "                                                    test_size=0.2, \n",
        "                                                    random_state=42) # set random state for reproducible splits\n",
        "\n",
        "# fit the column transformer to our traning data\n",
        "ct.fit(X_train)\n",
        "# transform traning and test data with normalization and onehot encoding\n",
        "x_train_normal=ct.transform(X_train)\n",
        "x_test_normal=ct.transform(X_test)\n",
        "\n",
        " "
      ],
      "metadata": {
        "id": "itcYRDQbccjG"
      },
      "execution_count": 62,
      "outputs": []
    },
    {
      "cell_type": "code",
      "source": [
        "X_train.shape,x_train_normal.shape"
      ],
      "metadata": {
        "id": "rxHme3xxoIOS",
        "colab": {
          "base_uri": "https://localhost:8080/"
        },
        "outputId": "dbd478f4-74a1-420e-e7b3-d4c283c0c75f"
      },
      "execution_count": 63,
      "outputs": [
        {
          "output_type": "execute_result",
          "data": {
            "text/plain": [
              "((1070, 6), (1070, 11))"
            ]
          },
          "metadata": {},
          "execution_count": 63
        }
      ]
    },
    {
      "cell_type": "code",
      "source": [
        "tf.random.set_seed(42)\n",
        "final_model=tf.keras.Sequential([\n",
        "   \n",
        "    tf.keras.layers.Dense(1000,activation=\"relu\"),\n",
        "    tf.keras.layers.Dense(500,activation=\"relu\"),\n",
        "    tf.keras.layers.Dense(100,activation=\"relu\"),\n",
        "    tf.keras.layers.Dense(10,activation=\"relu\"),\n",
        "    tf.keras.layers.Dense(1,activation=\"relu\"),\n",
        "\n",
        "\n",
        "\n",
        "])\n",
        "# final_model.compile(tf.keras.losses.mae,\n",
        "#          optimizer=tf.keras.optimizers.Adam(),\n",
        "#          metrics=[\"mae\"])\n",
        "final_model.compile(loss=tf.keras.losses.mae,\n",
        "                          optimizer=tf.keras.optimizers.Adam(0.01),\n",
        "                          metrics=['mae'])\n",
        "\n",
        "# fitting\n",
        "final_model.fit(x_train_normal,y_train,epochs=300)"
      ],
      "metadata": {
        "id": "NV9rBB8W0Q-u"
      },
      "execution_count": null,
      "outputs": []
    },
    {
      "cell_type": "code",
      "source": [
        "final_model.evaluate(x_test_normal,y_test)"
      ],
      "metadata": {
        "id": "53xcwmiqsHMz",
        "colab": {
          "base_uri": "https://localhost:8080/"
        },
        "outputId": "49308d9f-8988-4634-c725-e4f33b7a27d2"
      },
      "execution_count": 72,
      "outputs": [
        {
          "output_type": "stream",
          "name": "stdout",
          "text": [
            "9/9 [==============================] - 0s 3ms/step - loss: 1526.6003 - mae: 1526.6003\n"
          ]
        },
        {
          "output_type": "execute_result",
          "data": {
            "text/plain": [
              "[1526.600341796875, 1526.600341796875]"
            ]
          },
          "metadata": {},
          "execution_count": 72
        }
      ]
    },
    {
      "cell_type": "code",
      "source": [
        "final_model.predict(x_test_normal)"
      ],
      "metadata": {
        "id": "5imAfD5iGzxA",
        "colab": {
          "base_uri": "https://localhost:8080/"
        },
        "outputId": "75c1f57f-4a12-4416-d3ec-3afce7933407"
      },
      "execution_count": 75,
      "outputs": [
        {
          "output_type": "execute_result",
          "data": {
            "text/plain": [
              "array([[ 9244.617 ],\n",
              "       [ 5344.744 ],\n",
              "       [29591.95  ],\n",
              "       [ 9458.646 ],\n",
              "       [30125.24  ],\n",
              "       [ 4646.5996],\n",
              "       [ 2175.083 ],\n",
              "       [14319.608 ],\n",
              "       [ 3811.8296],\n",
              "       [10461.888 ],\n",
              "       [18436.023 ],\n",
              "       [ 7384.8066],\n",
              "       [ 3983.7856],\n",
              "       [47919.547 ],\n",
              "       [49957.32  ],\n",
              "       [45692.797 ],\n",
              "       [ 9992.232 ],\n",
              "       [43767.15  ],\n",
              "       [ 8336.286 ],\n",
              "       [22308.91  ],\n",
              "       [ 5029.8623],\n",
              "       [ 7507.048 ],\n",
              "       [ 1262.0713],\n",
              "       [ 2850.0298],\n",
              "       [11257.26  ],\n",
              "       [11177.82  ],\n",
              "       [12744.677 ],\n",
              "       [ 5281.9185],\n",
              "       [ 9884.479 ],\n",
              "       [ 1111.6034],\n",
              "       [ 8331.331 ],\n",
              "       [12092.978 ],\n",
              "       [ 2024.9058],\n",
              "       [ 5793.3643],\n",
              "       [ 2934.249 ],\n",
              "       [ 7634.0767],\n",
              "       [ 2639.7942],\n",
              "       [ 7396.1562],\n",
              "       [24320.94  ],\n",
              "       [39740.914 ],\n",
              "       [ 4743.3384],\n",
              "       [ 2709.9172],\n",
              "       [11780.36  ],\n",
              "       [12355.513 ],\n",
              "       [ 4933.4414],\n",
              "       [12409.154 ],\n",
              "       [ 3710.5178],\n",
              "       [ 4497.419 ],\n",
              "       [43194.227 ],\n",
              "       [ 4507.7   ],\n",
              "       [14098.968 ],\n",
              "       [ 1704.8439],\n",
              "       [ 7066.5186],\n",
              "       [ 1750.9161],\n",
              "       [10781.099 ],\n",
              "       [10316.309 ],\n",
              "       [ 3674.2188],\n",
              "       [39549.348 ],\n",
              "       [11956.563 ],\n",
              "       [10812.216 ],\n",
              "       [13916.594 ],\n",
              "       [ 4772.112 ],\n",
              "       [14372.755 ],\n",
              "       [ 8164.706 ],\n",
              "       [10440.989 ],\n",
              "       [ 4228.7   ],\n",
              "       [18106.219 ],\n",
              "       [11065.69  ],\n",
              "       [ 3732.2646],\n",
              "       [ 1661.5948],\n",
              "       [ 6163.668 ],\n",
              "       [ 9590.506 ],\n",
              "       [ 8407.27  ],\n",
              "       [ 6398.5464],\n",
              "       [ 7232.2183],\n",
              "       [ 4919.215 ],\n",
              "       [ 4925.821 ],\n",
              "       [11712.681 ],\n",
              "       [ 4371.9507],\n",
              "       [ 9179.249 ],\n",
              "       [ 1373.671 ],\n",
              "       [28285.625 ],\n",
              "       [ 5201.5063],\n",
              "       [38845.438 ],\n",
              "       [45743.17  ],\n",
              "       [42097.793 ],\n",
              "       [ 4870.833 ],\n",
              "       [10863.505 ],\n",
              "       [ 8471.609 ],\n",
              "       [11393.999 ],\n",
              "       [15512.954 ],\n",
              "       [27033.982 ],\n",
              "       [23425.355 ],\n",
              "       [ 5084.117 ],\n",
              "       [39167.145 ],\n",
              "       [ 6937.1465],\n",
              "       [29443.738 ],\n",
              "       [ 1874.9805],\n",
              "       [18601.791 ],\n",
              "       [ 6485.6   ],\n",
              "       [ 4610.162 ],\n",
              "       [ 1765.1647],\n",
              "       [ 5791.099 ],\n",
              "       [12486.837 ],\n",
              "       [13273.499 ],\n",
              "       [ 1711.663 ],\n",
              "       [ 7833.297 ],\n",
              "       [21801.81  ],\n",
              "       [ 1735.9286],\n",
              "       [23456.32  ],\n",
              "       [ 1262.0012],\n",
              "       [ 2933.236 ],\n",
              "       [13320.386 ],\n",
              "       [37781.277 ],\n",
              "       [ 9991.53  ],\n",
              "       [ 2009.3579],\n",
              "       [12903.324 ],\n",
              "       [22461.941 ],\n",
              "       [ 6329.3555],\n",
              "       [ 2865.683 ],\n",
              "       [ 5683.176 ],\n",
              "       [ 7396.674 ],\n",
              "       [11685.583 ],\n",
              "       [ 1986.2888],\n",
              "       [ 4826.106 ],\n",
              "       [ 7885.4478],\n",
              "       [ 7409.843 ],\n",
              "       [ 9365.327 ],\n",
              "       [12511.868 ],\n",
              "       [ 1815.407 ],\n",
              "       [ 4016.8901],\n",
              "       [ 5969.073 ],\n",
              "       [ 5861.3154],\n",
              "       [ 8165.2046],\n",
              "       [ 5725.554 ],\n",
              "       [12421.186 ],\n",
              "       [ 4364.0415],\n",
              "       [35219.28  ],\n",
              "       [48870.47  ],\n",
              "       [33091.156 ],\n",
              "       [ 5342.924 ],\n",
              "       [10109.143 ],\n",
              "       [ 2322.    ],\n",
              "       [11405.44  ],\n",
              "       [ 2153.5679],\n",
              "       [23654.633 ],\n",
              "       [ 5353.037 ],\n",
              "       [ 3824.336 ],\n",
              "       [11644.183 ],\n",
              "       [ 4865.482 ],\n",
              "       [46834.273 ],\n",
              "       [ 2774.9805],\n",
              "       [ 1115.7578],\n",
              "       [37604.664 ],\n",
              "       [ 6485.0576],\n",
              "       [ 4585.2217],\n",
              "       [13739.875 ],\n",
              "       [ 8662.28  ],\n",
              "       [35218.625 ],\n",
              "       [39327.977 ],\n",
              "       [13908.29  ],\n",
              "       [ 2771.756 ],\n",
              "       [14934.912 ],\n",
              "       [ 2441.191 ],\n",
              "       [ 3671.2402],\n",
              "       [ 7245.079 ],\n",
              "       [48628.707 ],\n",
              "       [40763.363 ],\n",
              "       [37944.176 ],\n",
              "       [ 2716.4634],\n",
              "       [ 9318.506 ],\n",
              "       [ 6307.668 ],\n",
              "       [ 6076.915 ],\n",
              "       [ 4328.5166],\n",
              "       [ 2207.891 ],\n",
              "       [25967.477 ],\n",
              "       [17630.863 ],\n",
              "       [13934.807 ],\n",
              "       [16062.101 ],\n",
              "       [12111.641 ],\n",
              "       [29341.148 ],\n",
              "       [ 3243.5833],\n",
              "       [ 8619.247 ],\n",
              "       [ 5068.2637],\n",
              "       [ 5272.8203],\n",
              "       [ 2943.865 ],\n",
              "       [ 4076.192 ],\n",
              "       [ 3610.928 ],\n",
              "       [ 8708.316 ],\n",
              "       [10849.649 ],\n",
              "       [ 3678.377 ],\n",
              "       [ 2245.3196],\n",
              "       [ 2802.0825],\n",
              "       [39460.    ],\n",
              "       [13135.989 ],\n",
              "       [ 9449.101 ],\n",
              "       [ 2770.3347],\n",
              "       [12372.598 ],\n",
              "       [ 2238.6057],\n",
              "       [ 9069.629 ],\n",
              "       [ 3266.8154],\n",
              "       [25325.758 ],\n",
              "       [ 4323.9575],\n",
              "       [ 2852.0437],\n",
              "       [17455.484 ],\n",
              "       [17337.988 ],\n",
              "       [ 9059.431 ],\n",
              "       [ 4465.2495],\n",
              "       [ 7884.792 ],\n",
              "       [ 3299.3296],\n",
              "       [12988.63  ],\n",
              "       [12314.228 ],\n",
              "       [ 9794.913 ],\n",
              "       [23382.975 ],\n",
              "       [ 6655.395 ],\n",
              "       [ 4189.387 ],\n",
              "       [ 4822.45  ],\n",
              "       [14275.392 ],\n",
              "       [12913.929 ],\n",
              "       [ 5274.6895],\n",
              "       [ 2464.5366],\n",
              "       [ 7139.042 ],\n",
              "       [ 6584.247 ],\n",
              "       [43969.254 ],\n",
              "       [ 2113.9756],\n",
              "       [36463.336 ],\n",
              "       [ 1757.8473],\n",
              "       [ 1688.7238],\n",
              "       [ 9499.32  ],\n",
              "       [11235.271 ],\n",
              "       [ 1519.9092],\n",
              "       [ 9878.06  ],\n",
              "       [ 4597.5557],\n",
              "       [25121.809 ],\n",
              "       [10246.839 ],\n",
              "       [ 8216.977 ],\n",
              "       [ 3983.3237],\n",
              "       [ 6057.076 ],\n",
              "       [44667.523 ],\n",
              "       [ 1681.0254],\n",
              "       [13493.155 ],\n",
              "       [38452.18  ],\n",
              "       [ 3107.4868],\n",
              "       [ 3434.4272],\n",
              "       [ 1671.0479],\n",
              "       [ 2802.7207],\n",
              "       [ 4415.336 ],\n",
              "       [ 4166.036 ],\n",
              "       [13088.784 ],\n",
              "       [ 1651.6838],\n",
              "       [ 1876.5771],\n",
              "       [ 7255.354 ],\n",
              "       [ 3222.0618],\n",
              "       [12310.39  ],\n",
              "       [ 2778.752 ],\n",
              "       [ 3271.6528],\n",
              "       [12217.637 ],\n",
              "       [ 3403.6348],\n",
              "       [ 8776.149 ],\n",
              "       [ 6267.289 ],\n",
              "       [ 8170.824 ],\n",
              "       [13701.898 ],\n",
              "       [29688.248 ],\n",
              "       [48187.266 ],\n",
              "       [12494.034 ],\n",
              "       [ 6132.9434],\n",
              "       [49659.754 ],\n",
              "       [ 9964.686 ]], dtype=float32)"
            ]
          },
          "metadata": {},
          "execution_count": 75
        }
      ]
    },
    {
      "cell_type": "code",
      "source": [
        "pd.DataFrame(history.history).plot()\n",
        "plt.ylabel('loss')\n",
        "plt.xlabel('epochs')"
      ],
      "metadata": {
        "id": "TkOo-x7q8Af3",
        "colab": {
          "base_uri": "https://localhost:8080/",
          "height": 297
        },
        "outputId": "58903c0e-6ac4-4a5d-f1fd-ac526f604366"
      },
      "execution_count": 66,
      "outputs": [
        {
          "data": {
            "text/plain": [
              "Text(0.5, 0, 'epochs')"
            ]
          },
          "execution_count": 66,
          "metadata": {},
          "output_type": "execute_result"
        },
        {
          "data": {
            "image/png": "[encoded data removed]",
            "text/plain": [
              "<Figure size 432x288 with 1 Axes>"
            ]
          },
          "metadata": {},
          "output_type": "display_data"
        }
      ]
    }
  ]
}